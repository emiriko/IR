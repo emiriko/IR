{
  "cells": [
    {
      "cell_type": "markdown",
      "metadata": {
        "id": "YXBRRPwDtRBs"
      },
      "source": [
        "# Tugas Pemrograman Kecil 1\n",
        "Mata Kuliah: Temu-Balik Informasi\n",
        "\n",
        "Author: Luthfi Balaka\n",
        "\n",
        "Dalam tugas ini, Anda akan mempelajari *text preprocessing* yang umum dilakukan dalam pengembangan sistem *Information Retrieval*. Terdapat tiga proses yang akan dibahas, yakni tokenisasi, *stemming*, dan *stop word removal*.\n",
        "\n",
        "*Notebook* ini terdiri atas dua bagian: contoh kode dan soal. Bagian pertama akan menjadi landasan untuk Anda mengerjakan soal yang ada. Selamat mengerjakan dan semoga bermanfaat!"
      ]
    },
    {
      "cell_type": "markdown",
      "metadata": {
        "id": "bIZW7xYJv4rR"
      },
      "source": [
        "## Bagian 1: Contoh Kode\n",
        "\n",
        "Bagian ini akan membahas mengenai contoh pemrosesan teks. Silakan pahami dan lengkapi beberapa fungsi untuk mengerjakan soal-soal di Bagian 2."
      ]
    },
    {
      "cell_type": "code",
      "execution_count": 1,
      "metadata": {
        "id": "lEb0LU9gRXqG",
        "colab": {
          "base_uri": "https://localhost:8080/"
        },
        "outputId": "06cd05c0-cc4d-41e9-a3bc-8d9e82bca307"
      },
      "outputs": [
        {
          "output_type": "stream",
          "name": "stdout",
          "text": [
            "Requirement already satisfied: PySastrawi==1.2.0 in /usr/local/lib/python3.10/dist-packages (1.2.0)\n",
            "Requirement already satisfied: nltk==3.8.1 in /usr/local/lib/python3.10/dist-packages (3.8.1)\n",
            "Requirement already satisfied: click in /usr/local/lib/python3.10/dist-packages (from nltk==3.8.1) (8.1.7)\n",
            "Requirement already satisfied: joblib in /usr/local/lib/python3.10/dist-packages (from nltk==3.8.1) (1.4.2)\n",
            "Requirement already satisfied: regex>=2021.8.3 in /usr/local/lib/python3.10/dist-packages (from nltk==3.8.1) (2024.5.15)\n",
            "Requirement already satisfied: tqdm in /usr/local/lib/python3.10/dist-packages (from nltk==3.8.1) (4.66.5)\n"
          ]
        }
      ],
      "source": [
        "# Install package jika belum ada dan pastikan Anda menggunakan Python >= 3.7\n",
        "# !pip install pandas==2.2.2\n",
        "!pip install PySastrawi==1.2.0\n",
        "!pip install nltk==3.8.1"
      ]
    },
    {
      "cell_type": "code",
      "execution_count": 2,
      "metadata": {
        "id": "bO8ymhxeRXqH"
      },
      "outputs": [],
      "source": [
        "# Import packages yang diperlukan\n",
        "import re\n",
        "import pandas as pd\n",
        "\n",
        "from collections import defaultdict\n",
        "from Sastrawi.Stemmer.StemmerFactory import StemmerFactory\n",
        "from Sastrawi.Stemmer.CachedStemmer import CachedStemmer\n",
        "from Sastrawi.StopWordRemover.StopWordRemoverFactory import StopWordRemoverFactory"
      ]
    },
    {
      "cell_type": "markdown",
      "metadata": {
        "id": "cvwLIbwS7mIP"
      },
      "source": [
        "### 1.1: Tokenisasi\n",
        "\n",
        "Tokenisasi adalah proses mengubah teks menjadi serangkaian token. Ada berbagai perspektif terkait apa yang dimaksud dengan token. Salah satu makna yang umum digunakan adalah setiap token merepresentasikan suatu kata tertentu. Namun, bisa juga token merepresentasikan informasi yang lebih granular seperti karakter.\n",
        "\n",
        "Pada bagian ini, kita akan berfokus pada dua metode saja, yakni tokenisasi dengan *regular expression* (regex) dan Byte-Pair Encoding (BPE)."
      ]
    },
    {
      "cell_type": "markdown",
      "metadata": {
        "id": "bdR9lp8MRXqI"
      },
      "source": [
        "#### Metode 1: Tokenisasi dengan regex"
      ]
    },
    {
      "cell_type": "code",
      "execution_count": 3,
      "metadata": {
        "id": "Av_IWZHNRXqI",
        "colab": {
          "base_uri": "https://localhost:8080/"
        },
        "outputId": "235dc0ac-1d97-44fd-c19a-1e42e63013b6"
      },
      "outputs": [
        {
          "output_type": "stream",
          "name": "stdout",
          "text": [
            "Text: Saya sedang mengerjakan tugas pada mata kuliah Temu-Balik Informasi.\n",
            "Tokens of the text: ['Saya', 'sedang', 'mengerjakan', 'tugas', 'pada', 'mata', 'kuliah', 'Temu', 'Balik', 'Informasi']\n"
          ]
        }
      ],
      "source": [
        "def tokenize_text_regex(text: str):\n",
        "    \"\"\"\n",
        "    Tokenisasi teks berdasarkan pola tokenizer_pattern\n",
        "    \"\"\"\n",
        "    tokenizer_pattern = r'\\b\\w+\\b'\n",
        "\n",
        "    tokens = re.findall(tokenizer_pattern, text)\n",
        "\n",
        "    return tokens\n",
        "\n",
        "\n",
        "# Contoh tokenisasi pada suatu teks\n",
        "text_1 = \"Saya sedang mengerjakan tugas pada mata kuliah Temu-Balik Informasi.\"\n",
        "tokens_by_regex_tokenizer = tokenize_text_regex(text_1)\n",
        "print(f\"Text: {text_1}\")\n",
        "print(f\"Tokens of the text: {tokens_by_regex_tokenizer}\")"
      ]
    },
    {
      "cell_type": "markdown",
      "metadata": {
        "id": "RPeL79emRXqJ"
      },
      "source": [
        "#### Metode 2: Tokenisasi BPE\n",
        "\n",
        "Referensi:\n",
        "- [Text Processing by Jurafsky](https://web.stanford.edu/~jurafsky/slp3/slides/2_TextProc_2023.pdf)\n",
        "- [BPE Tutorial by HuggingFace](https://huggingface.co/learn/nlp-course/en/chapter6/5)"
      ]
    },
    {
      "cell_type": "code",
      "execution_count": 4,
      "metadata": {
        "id": "Fmc8tFB-RXqJ",
        "colab": {
          "base_uri": "https://localhost:8080/"
        },
        "outputId": "367b31d5-e474-4a18-fffd-ae9659d58c75"
      },
      "outputs": [
        {
          "output_type": "stream",
          "name": "stdout",
          "text": [
            "Contoh word_freqs: {'low#': 5, 'lowest#': 2, 'newer#': 6, 'wider#': 3, 'new#': 2, 'Mahasiswa#': 1, 'kelas#': 1, 'Perolehan#': 1, 'Informasi#': 1, 'termasuk#': 1, 'saya#': 1, 'sedang#': 2, 'mengerjakan#': 2, 'tugas#': 2, 'ini#': 2, 'Saya#': 1}\n"
          ]
        }
      ],
      "source": [
        "def get_word_freqs(corpus: list[str]):\n",
        "    \"\"\"\n",
        "    Menghasilkan frekuensi dari tiap kata dengan format:\n",
        "    {\"kata1\": f_1, \"kata2\": f_2, ...}\n",
        "    \"\"\"\n",
        "    words = dict()\n",
        "    for tokens in corpus:\n",
        "      tokens = tokenize_text_regex(tokens)\n",
        "      for token in tokens:\n",
        "        new_token = token + \"#\"\n",
        "        if new_token in words:\n",
        "          words[new_token] += 1\n",
        "        else:\n",
        "          words[new_token] = 1\n",
        "\n",
        "    return words\n",
        "\n",
        "\n",
        "# Contoh pemanggilan\n",
        "corpus = [\n",
        "    \"low low low low low lowest lowest newer newer newer\",\n",
        "    \"newer newer newer wider wider wider new new\",\n",
        "    \"Mahasiswa kelas Perolehan Informasi, termasuk saya, sedang mengerjakan tugas ini.\",\n",
        "    \"Saya sedang mengerjakan tugas ini.\"\n",
        "]\n",
        "\n",
        "word_freqs = get_word_freqs(corpus)\n",
        "print(f\"Contoh word_freqs: {word_freqs}\")"
      ]
    },
    {
      "cell_type": "code",
      "execution_count": 5,
      "metadata": {
        "id": "1hx4zQ_0RXqJ",
        "colab": {
          "base_uri": "https://localhost:8080/"
        },
        "outputId": "2472edce-c58d-427f-85f1-1485f0ed28eb"
      },
      "outputs": [
        {
          "output_type": "stream",
          "name": "stdout",
          "text": [
            "Contoh initial vocab: ['#', 'I', 'M', 'P', 'S', 'a', 'd', 'e', 'f', 'g', 'h', 'i', 'j', 'k', 'l', 'm', 'n', 'o', 'r', 's', 't', 'u', 'w', 'y']\n"
          ]
        }
      ],
      "source": [
        "def get_initial_vocabulary(word_freqs: dict[str, int]):\n",
        "    \"\"\"\n",
        "    Membuat vocabulary awal yang berisi karakter dari word_freqs\n",
        "    \"\"\"\n",
        "    vocabulary = set()\n",
        "    for word in word_freqs.keys():\n",
        "        for letter in word:\n",
        "            vocabulary.add(letter)\n",
        "    vocabulary = sorted(vocabulary)\n",
        "    return vocabulary\n",
        "\n",
        "\n",
        "# Contoh pemanggilan\n",
        "init_vocab = get_initial_vocabulary(word_freqs)\n",
        "print(f\"Contoh initial vocab: {init_vocab}\")"
      ]
    },
    {
      "cell_type": "code",
      "execution_count": 6,
      "metadata": {
        "id": "KWXAgnfsRXqK",
        "colab": {
          "base_uri": "https://localhost:8080/"
        },
        "outputId": "48bce5e7-3514-49c0-b179-6bc7d5f7895a"
      },
      "outputs": [
        {
          "output_type": "stream",
          "name": "stdout",
          "text": [
            "Word splits: {'low#': ['l', 'o', 'w', '#'], 'lowest#': ['l', 'o', 'w', 'e', 's', 't', '#'], 'newer#': ['n', 'e', 'w', 'e', 'r', '#'], 'wider#': ['w', 'i', 'd', 'e', 'r', '#'], 'new#': ['n', 'e', 'w', '#'], 'Mahasiswa#': ['M', 'a', 'h', 'a', 's', 'i', 's', 'w', 'a', '#'], 'kelas#': ['k', 'e', 'l', 'a', 's', '#'], 'Perolehan#': ['P', 'e', 'r', 'o', 'l', 'e', 'h', 'a', 'n', '#'], 'Informasi#': ['I', 'n', 'f', 'o', 'r', 'm', 'a', 's', 'i', '#'], 'termasuk#': ['t', 'e', 'r', 'm', 'a', 's', 'u', 'k', '#'], 'saya#': ['s', 'a', 'y', 'a', '#'], 'sedang#': ['s', 'e', 'd', 'a', 'n', 'g', '#'], 'mengerjakan#': ['m', 'e', 'n', 'g', 'e', 'r', 'j', 'a', 'k', 'a', 'n', '#'], 'tugas#': ['t', 'u', 'g', 'a', 's', '#'], 'ini#': ['i', 'n', 'i', '#'], 'Saya#': ['S', 'a', 'y', 'a', '#']}\n",
            "Contoh pair_freqs: defaultdict(<class 'int'>, {('l', 'o'): 7, ('o', 'w'): 7, ('w', '#'): 7, ('w', 'e'): 8, ('e', 's'): 2, ('s', 't'): 2, ('t', '#'): 2, ('n', 'e'): 8, ('e', 'w'): 8, ('e', 'r'): 13, ('r', '#'): 9, ('w', 'i'): 3, ('i', 'd'): 3, ('d', 'e'): 3, ('M', 'a'): 1, ('a', 'h'): 1, ('h', 'a'): 2, ('a', 's'): 6, ('s', 'i'): 2, ('i', 's'): 1, ('s', 'w'): 1, ('w', 'a'): 1, ('a', '#'): 3, ('k', 'e'): 1, ('e', 'l'): 1, ('l', 'a'): 1, ('s', '#'): 3, ('P', 'e'): 1, ('r', 'o'): 1, ('o', 'l'): 1, ('l', 'e'): 1, ('e', 'h'): 1, ('a', 'n'): 5, ('n', '#'): 3, ('I', 'n'): 1, ('n', 'f'): 1, ('f', 'o'): 1, ('o', 'r'): 1, ('r', 'm'): 2, ('m', 'a'): 2, ('i', '#'): 3, ('t', 'e'): 1, ('s', 'u'): 1, ('u', 'k'): 1, ('k', '#'): 1, ('s', 'a'): 1, ('a', 'y'): 2, ('y', 'a'): 2, ('s', 'e'): 2, ('e', 'd'): 2, ('d', 'a'): 2, ('n', 'g'): 4, ('g', '#'): 2, ('m', 'e'): 2, ('e', 'n'): 2, ('g', 'e'): 2, ('r', 'j'): 2, ('j', 'a'): 2, ('a', 'k'): 2, ('k', 'a'): 2, ('t', 'u'): 2, ('u', 'g'): 2, ('g', 'a'): 2, ('i', 'n'): 2, ('n', 'i'): 2, ('S', 'a'): 1})\n"
          ]
        }
      ],
      "source": [
        "def compute_pair_freqs(word_splits: dict[str, list[str]], word_freqs: dict[str, int]):\n",
        "    \"\"\"\n",
        "    Menghitung frekuensi tiap pair karakter\n",
        "    \"\"\"\n",
        "    pair_freqs = defaultdict(int)\n",
        "    for word, freq in word_freqs.items():\n",
        "        split = word_splits[word]\n",
        "        if len(split) == 1:\n",
        "            continue\n",
        "        for i in range(len(split) - 1):\n",
        "            pair = (split[i], split[i + 1])\n",
        "            pair_freqs[pair] += freq\n",
        "    return pair_freqs\n",
        "\n",
        "\n",
        "# Contoh pemanggilan\n",
        "word_splits: dict[str, list[str]] = {\n",
        "    word: [c for c in word] for word in word_freqs.keys()\n",
        "}\n",
        "print(f\"Word splits: {word_splits}\")\n",
        "pair_freqs = compute_pair_freqs(word_splits, word_freqs)\n",
        "print(f\"Contoh pair_freqs: {pair_freqs}\")"
      ]
    },
    {
      "cell_type": "code",
      "execution_count": 7,
      "metadata": {
        "id": "RuCzyDhwRXqK"
      },
      "outputs": [],
      "source": [
        "def merge_split(a: str, b: str, split: list[str]):\n",
        "    \"\"\"\n",
        "    Melakukan merging a dan b pada split\n",
        "    \"\"\"\n",
        "    # TODO: implementasi\n",
        "\n",
        "    index = 1\n",
        "\n",
        "    while index < len(split):\n",
        "      if split[index-1] == a and split[index] == b:\n",
        "        split =  split[:index-1] + [a+b] + split[index+1:]\n",
        "        index -= 1\n",
        "      else:\n",
        "        index += 1\n",
        "\n",
        "    return split"
      ]
    },
    {
      "cell_type": "code",
      "execution_count": 8,
      "metadata": {
        "id": "NqKp32SdRXqL",
        "colab": {
          "base_uri": "https://localhost:8080/"
        },
        "outputId": "69fff3c6-245b-4243-9126-132bcad17bf5"
      },
      "outputs": [
        {
          "output_type": "stream",
          "name": "stdout",
          "text": [
            "Contoh word_splits sebelum merging: {'low#': ['l', 'o', 'w', '#'], 'lowest#': ['l', 'o', 'w', 'e', 's', 't', '#'], 'newer#': ['n', 'e', 'w', 'e', 'r', '#'], 'wider#': ['w', 'i', 'd', 'e', 'r', '#'], 'new#': ['n', 'e', 'w', '#'], 'Mahasiswa#': ['M', 'a', 'h', 'a', 's', 'i', 's', 'w', 'a', '#'], 'kelas#': ['k', 'e', 'l', 'a', 's', '#'], 'Perolehan#': ['P', 'e', 'r', 'o', 'l', 'e', 'h', 'a', 'n', '#'], 'Informasi#': ['I', 'n', 'f', 'o', 'r', 'm', 'a', 's', 'i', '#'], 'termasuk#': ['t', 'e', 'r', 'm', 'a', 's', 'u', 'k', '#'], 'saya#': ['s', 'a', 'y', 'a', '#'], 'sedang#': ['s', 'e', 'd', 'a', 'n', 'g', '#'], 'mengerjakan#': ['m', 'e', 'n', 'g', 'e', 'r', 'j', 'a', 'k', 'a', 'n', '#'], 'tugas#': ['t', 'u', 'g', 'a', 's', '#'], 'ini#': ['i', 'n', 'i', '#'], 'Saya#': ['S', 'a', 'y', 'a', '#']}\n",
            "Contoh word_splits setelah merging: {'low#': ['l', 'o', 'w', '#'], 'lowest#': ['l', 'o', 'w', 'e', 's', 't', '#'], 'newer#': ['n', 'e', 'w', 'e', 'r', '#'], 'wider#': ['w', 'i', 'd', 'e', 'r', '#'], 'new#': ['n', 'e', 'w', '#'], 'Mahasiswa#': ['M', 'a', 'ha', 's', 'i', 's', 'w', 'a', '#'], 'kelas#': ['k', 'e', 'l', 'a', 's', '#'], 'Perolehan#': ['P', 'e', 'r', 'o', 'l', 'e', 'ha', 'n', '#'], 'Informasi#': ['I', 'n', 'f', 'o', 'r', 'm', 'a', 's', 'i', '#'], 'termasuk#': ['t', 'e', 'r', 'm', 'a', 's', 'u', 'k', '#'], 'saya#': ['s', 'a', 'y', 'a', '#'], 'sedang#': ['s', 'e', 'd', 'a', 'n', 'g', '#'], 'mengerjakan#': ['m', 'e', 'n', 'g', 'e', 'r', 'j', 'a', 'k', 'a', 'n', '#'], 'tugas#': ['t', 'u', 'g', 'a', 's', '#'], 'ini#': ['i', 'n', 'i', '#'], 'Saya#': ['S', 'a', 'y', 'a', '#']}\n"
          ]
        }
      ],
      "source": [
        "def merge_pair(a: str, b: str, word_splits: dict[str, list[str]]):\n",
        "    \"\"\"\n",
        "    Merging a dan b pada word_splits\n",
        "    \"\"\"\n",
        "    for word in word_splits.keys():\n",
        "        split = word_splits[word]\n",
        "        if len(split) > 1:\n",
        "            word_splits[word] = merge_split(a, b, split)\n",
        "    return word_splits\n",
        "\n",
        "word_splits_new = merge_pair(\"h\", \"a\", word_splits.copy())\n",
        "print(f\"Contoh word_splits sebelum merging: {word_splits}\")\n",
        "print(f\"Contoh word_splits setelah merging: {word_splits_new}\")"
      ]
    },
    {
      "cell_type": "code",
      "execution_count": 9,
      "metadata": {
        "id": "0ahB2WFvRXqL"
      },
      "outputs": [],
      "source": [
        "def train_bpe(corpus: list[str], num_of_merges: int):\n",
        "    \"\"\"\n",
        "    Melatih tokenizer BPE pada korpus untuk mendapatkan aturan merging\n",
        "    yang akan digunakan untuk melakukan tokenisasi nantinya\n",
        "    \"\"\"\n",
        "    merge_rules: list[tuple[str, str]] = []\n",
        "    word_freqs: dict[str, int] = get_word_freqs(corpus)\n",
        "    vocab: list[str] = get_initial_vocabulary(word_freqs)\n",
        "    word_splits = {word: [c for c in word] for word in word_freqs.keys()}\n",
        "\n",
        "    for i in range(num_of_merges):\n",
        "        try:\n",
        "            pair_freqs = compute_pair_freqs(word_splits, word_freqs)\n",
        "            best_pair = \"\"\n",
        "            max_freq = None\n",
        "\n",
        "            for pair, freq in pair_freqs.items():\n",
        "                if max_freq is None or max_freq < freq:\n",
        "                    best_pair = pair\n",
        "                    max_freq = freq\n",
        "\n",
        "            merge_rules.append(best_pair)\n",
        "            vocab.append(\"\".join(best_pair))\n",
        "            word_splits = merge_pair(\n",
        "                best_pair[0], best_pair[1], word_splits\n",
        "            )\n",
        "        except:\n",
        "            print(f\"Iteration stops early at {i}\")\n",
        "            break\n",
        "    return vocab, merge_rules"
      ]
    },
    {
      "cell_type": "code",
      "execution_count": 10,
      "metadata": {
        "id": "xeLEs8cfRXqL"
      },
      "outputs": [],
      "source": [
        "# Coba kita latih dengan teks pada corpus contoh\n",
        "vocab, merge_rules = train_bpe(corpus, 10)"
      ]
    },
    {
      "cell_type": "code",
      "execution_count": 11,
      "metadata": {
        "id": "z6BmQlz1RXqM"
      },
      "outputs": [],
      "source": [
        "def tokenize_bpe(vocab: list[str], merge_rules: list[tuple[str, str]], text: str):\n",
        "    \"\"\"\n",
        "    Melakukan tokenisasi pada corpus berdasarkan vocab dan merge_rules yang\n",
        "    didapatkan dari proses training\n",
        "    \"\"\"\n",
        "    tokenized_text = []\n",
        "    for word in get_word_freqs([text]).keys():\n",
        "        word_split: list[str] = []\n",
        "        for char in word:\n",
        "            if char in vocab:\n",
        "                word_split.append(char)\n",
        "            else:\n",
        "                word_split.append(\"<UNK>\")  # Karakter yang tidak dikenali\n",
        "\n",
        "        for merge_rule in merge_rules:\n",
        "            merge_str = \"\".join(merge_rule)\n",
        "            i = 0\n",
        "            while i < len(word_split) - 1:\n",
        "                if (\n",
        "                    word_split[i] == merge_rule[0]\n",
        "                    and word_split[i + 1] == merge_rule[1]\n",
        "                ):\n",
        "                    word_split = word_split[:i] + [merge_str] + word_split[i + 2 :]\n",
        "                else:\n",
        "                    i += 1\n",
        "        tokenized_text += word_split\n",
        "    return tokenized_text"
      ]
    },
    {
      "cell_type": "code",
      "execution_count": 12,
      "metadata": {
        "id": "VHSdMJhSRXqM",
        "colab": {
          "base_uri": "https://localhost:8080/"
        },
        "outputId": "db13a908-de92-4173-a52b-663f8db83283"
      },
      "outputs": [
        {
          "output_type": "stream",
          "name": "stdout",
          "text": [
            "['low', 'er#', 'newer#']\n"
          ]
        }
      ],
      "source": [
        "# Kita tes tokenisasi suatu teks\n",
        "text_2 = \"lower newer\"\n",
        "tokens_by_bpe_tokenizer = tokenize_bpe(vocab, merge_rules, text_2)\n",
        "print(tokens_by_bpe_tokenizer)"
      ]
    },
    {
      "cell_type": "markdown",
      "metadata": {
        "id": "1v0Jw7FhC_2G"
      },
      "source": [
        "### 1.2: *Stemming*\n",
        "\n",
        "*Stemming* merupakan proses transformasi kata dari bentuk infleksi ke bentuk dasar.\n",
        "Secara umum, cara kerjanya adalah dengan \"memotong\" tambahan seperti afiks berdasarkan\n",
        "aturan tertentu.\n",
        "\n",
        "Contoh dalam Bahasa Indonesia: [\"memakan\", \"dimakan\", \"termakan\"] -> \"makan\"\n",
        "\n",
        "Untuk task ini, kita akan menggunakan [PySastrawi](https://github.com/har07/PySastrawi)."
      ]
    },
    {
      "cell_type": "code",
      "execution_count": 13,
      "metadata": {
        "id": "Oi_WmGkdRXqM"
      },
      "outputs": [],
      "source": [
        "# Mendefinisikan stemmer\n",
        "factory: StemmerFactory = StemmerFactory()\n",
        "stemmer: CachedStemmer = factory.create_stemmer()"
      ]
    },
    {
      "cell_type": "code",
      "execution_count": 14,
      "metadata": {
        "id": "0B-dq8mdRXqN"
      },
      "outputs": [],
      "source": [
        "def stem_tokens(stemmer: CachedStemmer, tokens: list[str]):\n",
        "    \"\"\"\n",
        "    Melakukan stemming pada tokens\n",
        "    \"\"\"\n",
        "    stemmed_tokens: list[str] = [\n",
        "        stemmer.stem(token) if token else \"\" for token in tokens\n",
        "    ]\n",
        "    stemmed_tokens_without_empty_string: list[str] = [\n",
        "        token for token in stemmed_tokens if not ((token == \"\") or (token == None))\n",
        "    ]\n",
        "    return stemmed_tokens_without_empty_string"
      ]
    },
    {
      "cell_type": "code",
      "execution_count": 15,
      "metadata": {
        "id": "Y8s3kpELRXqN",
        "colab": {
          "base_uri": "https://localhost:8080/"
        },
        "outputId": "e3c953c3-6686-4b06-e67f-e5b3caab7bd6"
      },
      "outputs": [
        {
          "output_type": "stream",
          "name": "stdout",
          "text": [
            "Kumpulan token sebelum stemming: ['Saya', 'sedang', 'mengerjakan', 'tugas', 'pada', 'mata', 'kuliah', 'Temu', 'Balik', 'Informasi']\n",
            "Kumpulan token setelah stemming: ['saya', 'sedang', 'kerja', 'tugas', 'pada', 'mata', 'kuliah', 'temu', 'balik', 'informasi']\n"
          ]
        }
      ],
      "source": [
        "# Contoh pemanggilan\n",
        "stemmed_tokens = stem_tokens(stemmer, tokens_by_regex_tokenizer)\n",
        "print(f\"Kumpulan token sebelum stemming: {tokens_by_regex_tokenizer}\")\n",
        "print(f\"Kumpulan token setelah stemming: {stemmed_tokens}\")"
      ]
    },
    {
      "cell_type": "markdown",
      "metadata": {
        "id": "nKECKWA1Ddug"
      },
      "source": [
        "### 1.3: *Stop Words Removal*\n",
        "\n",
        "*Stop word* merupakan kata-kata yang umumnya memiliki frekuensi yang sangat tinggi dalam teks namun tidak memberikan informasi yang signifikan. Oleh karena itu, kata-kata tersebut seringkali dihapus\n",
        "agar menyisakan informasi yang \"penting\" saja.\n",
        "\n",
        "Contoh *stop words* pada Bahasa Indonesia: \"yang\", \"di\", \"pada\"\n",
        "\n",
        "Kita akan menggunakan PySastrawi juga untuk *task* ini."
      ]
    },
    {
      "cell_type": "code",
      "execution_count": 16,
      "metadata": {
        "id": "ydFYlJVqRXqN"
      },
      "outputs": [],
      "source": [
        "# Mendefinisikan kumpulan stop words\n",
        "stop_factory = StopWordRemoverFactory()\n",
        "stop_words = set(stop_factory.get_stop_words())"
      ]
    },
    {
      "cell_type": "code",
      "execution_count": 17,
      "metadata": {
        "id": "HQofT0MIRXqO"
      },
      "outputs": [],
      "source": [
        "def remove_stop_words(tokens: list[str], stop_words: set[str]):\n",
        "    \"\"\"\n",
        "    Menghapus stop words dari kumpulan token\n",
        "    \"\"\"\n",
        "    tokens_without_stop_words = [token for token in tokens if token not in stop_words]\n",
        "    return tokens_without_stop_words"
      ]
    },
    {
      "cell_type": "code",
      "execution_count": 18,
      "metadata": {
        "id": "6jHXdd5GRXqO",
        "colab": {
          "base_uri": "https://localhost:8080/"
        },
        "outputId": "2c61bd37-0134-43ca-8065-8f88f0f63419"
      },
      "outputs": [
        {
          "output_type": "stream",
          "name": "stdout",
          "text": [
            "Kumpulan token sebelum stop words dihapus: ['saya', 'sedang', 'kerja', 'tugas', 'pada', 'mata', 'kuliah', 'temu', 'balik', 'informasi']\n",
            "Kumpulan token setelah stop words dihapus: ['tugas', 'kuliah', 'temu', 'informasi']\n"
          ]
        }
      ],
      "source": [
        "# Contoh pemanggilan\n",
        "stop_words_removed_tokens = remove_stop_words(stemmed_tokens, stop_words)\n",
        "print(f\"Kumpulan token sebelum stop words dihapus: {stemmed_tokens}\")\n",
        "print(f\"Kumpulan token setelah stop words dihapus: {stop_words_removed_tokens}\")"
      ]
    },
    {
      "cell_type": "markdown",
      "metadata": {
        "id": "R9YXU1bauNSd"
      },
      "source": [
        "### 1.4: Kombinasi 1.1 - 1.3\n",
        "\n",
        "Semua fungsi di atas bisa dirangkai menjadi suatu *pipeline*."
      ]
    },
    {
      "cell_type": "code",
      "execution_count": 19,
      "metadata": {
        "id": "L1cRfgfARXqO"
      },
      "outputs": [],
      "source": [
        "# Contoh melakukan pemrosesan menggunakan regex tokenizer; Anda bisa gunakan BPE sebagai alternatif\n",
        "def text_processing_pipeline(\n",
        "    text: str, stemmer: CachedStemmer, stop_words: set[str]\n",
        "):\n",
        "    tokens = tokenize_text_regex(text)\n",
        "    tokens = stem_tokens(stemmer, tokens)\n",
        "    tokens = remove_stop_words(tokens, stop_words)\n",
        "    return tokens"
      ]
    },
    {
      "cell_type": "code",
      "execution_count": 20,
      "metadata": {
        "id": "BcGKWsqzRXqP",
        "colab": {
          "base_uri": "https://localhost:8080/"
        },
        "outputId": "e4edbadd-3f6f-469d-80bb-08661db20405"
      },
      "outputs": [
        {
          "output_type": "stream",
          "name": "stdout",
          "text": [
            "Teks: Saya sedang mengerjakan tugas pada mata kuliah Temu-Balik Informasi.\n",
            "Tokens: ['tugas', 'kuliah', 'temu', 'informasi']\n"
          ]
        }
      ],
      "source": [
        "# Contoh menjalankan pipeline\n",
        "tokens_by_pipeline = text_processing_pipeline(\n",
        "    text_1, stemmer, stop_words\n",
        ")\n",
        "print(f\"Teks: {text_1}\")\n",
        "print(f\"Tokens: {tokens_by_pipeline}\")"
      ]
    },
    {
      "cell_type": "markdown",
      "metadata": {
        "id": "cfkg1yMfbIEX"
      },
      "source": [
        "Hasil akhir dari penerapan tersebut adalah data (tokens) yang siap digunakan untuk pemrosesan selanjutnya dalam aplikasi IR."
      ]
    },
    {
      "cell_type": "markdown",
      "metadata": {
        "id": "A5zIqIub1HrI"
      },
      "source": [
        "## Bagian 2: Soal\n",
        "\n",
        "Pada bagian ini, Anda diminta untuk menerapkan apa yang sudah Anda pelajari pada\n",
        "Bagian 1. Dalam menjawab pertanyaan, Anda dibebaskan untuk menambah *cell* baru sesuai kebutuhan.\n",
        "Selain itu, Anda juga dibebaskan untuk menambahkan *package* lain jika dibutuhkan\n",
        "(pastikan untuk menuliskan *package* yang digunakan dan versinya)."
      ]
    },
    {
      "cell_type": "code",
      "execution_count": 21,
      "metadata": {
        "id": "YiIFCgTlRXqP",
        "colab": {
          "base_uri": "https://localhost:8080/"
        },
        "outputId": "ad7f0fea-1a5a-41f5-82b4-4c69d7c4da05"
      },
      "outputs": [
        {
          "output_type": "stream",
          "name": "stdout",
          "text": [
            "['i', 'me', 'my', 'myself', 'we', 'our', 'ours', 'ourselves', 'you', \"you're\", \"you've\", \"you'll\", \"you'd\", 'your', 'yours', 'yourself', 'yourselves', 'he', 'him', 'his', 'himself', 'she', \"she's\", 'her', 'hers', 'herself', 'it', \"it's\", 'its', 'itself', 'they', 'them', 'their', 'theirs', 'themselves', 'what', 'which', 'who', 'whom', 'this', 'that', \"that'll\", 'these', 'those', 'am', 'is', 'are', 'was', 'were', 'be', 'been', 'being', 'have', 'has', 'had', 'having', 'do', 'does', 'did', 'doing', 'a', 'an', 'the', 'and', 'but', 'if', 'or', 'because', 'as', 'until', 'while', 'of', 'at', 'by', 'for', 'with', 'about', 'against', 'between', 'into', 'through', 'during', 'before', 'after', 'above', 'below', 'to', 'from', 'up', 'down', 'in', 'out', 'on', 'off', 'over', 'under', 'again', 'further', 'then', 'once', 'here', 'there', 'when', 'where', 'why', 'how', 'all', 'any', 'both', 'each', 'few', 'more', 'most', 'other', 'some', 'such', 'no', 'nor', 'not', 'only', 'own', 'same', 'so', 'than', 'too', 'very', 's', 't', 'can', 'will', 'just', 'don', \"don't\", 'should', \"should've\", 'now', 'd', 'll', 'm', 'o', 're', 've', 'y', 'ain', 'aren', \"aren't\", 'couldn', \"couldn't\", 'didn', \"didn't\", 'doesn', \"doesn't\", 'hadn', \"hadn't\", 'hasn', \"hasn't\", 'haven', \"haven't\", 'isn', \"isn't\", 'ma', 'mightn', \"mightn't\", 'mustn', \"mustn't\", 'needn', \"needn't\", 'shan', \"shan't\", 'shouldn', \"shouldn't\", 'wasn', \"wasn't\", 'weren', \"weren't\", 'won', \"won't\", 'wouldn', \"wouldn't\"]\n"
          ]
        },
        {
          "output_type": "stream",
          "name": "stderr",
          "text": [
            "[nltk_data] Downloading package stopwords to /root/nltk_data...\n",
            "[nltk_data]   Package stopwords is already up-to-date!\n"
          ]
        }
      ],
      "source": [
        "# Install package lain jika perlu\n",
        "# Saya sudah menginstall versi nltk 3.8.1 (dipaling atas)\n",
        "import nltk\n",
        "from nltk.stem import PorterStemmer\n",
        "from nltk.corpus import stopwords\n",
        "\n",
        "nltk.download('stopwords')\n",
        "english_stopwords = stopwords.words('english')\n",
        "print(english_stopwords)"
      ]
    },
    {
      "cell_type": "code",
      "execution_count": 22,
      "metadata": {
        "id": "mVFu9draRXqQ",
        "colab": {
          "base_uri": "https://localhost:8080/",
          "height": 458
        },
        "outputId": "d8d97944-10f2-4508-d5e1-113e123f61ca"
      },
      "outputs": [
        {
          "output_type": "execute_result",
          "data": {
            "text/plain": [
              "0       Spot. Spot saw the shiny car and said, \"Wow, K...\n",
              "1       Once upon a time, in a big forest, there lived...\n",
              "2       Once upon a time, in a small yard, there was a...\n",
              "3       Once upon a time, there was a thoughtful girl ...\n",
              "4       Once upon a time, there was a kind farmer. He ...\n",
              "                              ...                        \n",
              "2995    One day, Tom went on a search. Tom wanted to f...\n",
              "2996    Once upon a time there was a careless boy call...\n",
              "2997    One day, a little boy was walking through the ...\n",
              "2998    Once there was a girl called Daisy. Daisy was ...\n",
              "2999    Once upon a time there was a yellow reindeer. ...\n",
              "Name: story, Length: 3000, dtype: object"
            ],
            "text/html": [
              "<div>\n",
              "<style scoped>\n",
              "    .dataframe tbody tr th:only-of-type {\n",
              "        vertical-align: middle;\n",
              "    }\n",
              "\n",
              "    .dataframe tbody tr th {\n",
              "        vertical-align: top;\n",
              "    }\n",
              "\n",
              "    .dataframe thead th {\n",
              "        text-align: right;\n",
              "    }\n",
              "</style>\n",
              "<table border=\"1\" class=\"dataframe\">\n",
              "  <thead>\n",
              "    <tr style=\"text-align: right;\">\n",
              "      <th></th>\n",
              "      <th>story</th>\n",
              "    </tr>\n",
              "  </thead>\n",
              "  <tbody>\n",
              "    <tr>\n",
              "      <th>0</th>\n",
              "      <td>Spot. Spot saw the shiny car and said, \"Wow, K...</td>\n",
              "    </tr>\n",
              "    <tr>\n",
              "      <th>1</th>\n",
              "      <td>Once upon a time, in a big forest, there lived...</td>\n",
              "    </tr>\n",
              "    <tr>\n",
              "      <th>2</th>\n",
              "      <td>Once upon a time, in a small yard, there was a...</td>\n",
              "    </tr>\n",
              "    <tr>\n",
              "      <th>3</th>\n",
              "      <td>Once upon a time, there was a thoughtful girl ...</td>\n",
              "    </tr>\n",
              "    <tr>\n",
              "      <th>4</th>\n",
              "      <td>Once upon a time, there was a kind farmer. He ...</td>\n",
              "    </tr>\n",
              "    <tr>\n",
              "      <th>...</th>\n",
              "      <td>...</td>\n",
              "    </tr>\n",
              "    <tr>\n",
              "      <th>2995</th>\n",
              "      <td>One day, Tom went on a search. Tom wanted to f...</td>\n",
              "    </tr>\n",
              "    <tr>\n",
              "      <th>2996</th>\n",
              "      <td>Once upon a time there was a careless boy call...</td>\n",
              "    </tr>\n",
              "    <tr>\n",
              "      <th>2997</th>\n",
              "      <td>One day, a little boy was walking through the ...</td>\n",
              "    </tr>\n",
              "    <tr>\n",
              "      <th>2998</th>\n",
              "      <td>Once there was a girl called Daisy. Daisy was ...</td>\n",
              "    </tr>\n",
              "    <tr>\n",
              "      <th>2999</th>\n",
              "      <td>Once upon a time there was a yellow reindeer. ...</td>\n",
              "    </tr>\n",
              "  </tbody>\n",
              "</table>\n",
              "<p>3000 rows × 1 columns</p>\n",
              "</div><br><label><b>dtype:</b> object</label>"
            ]
          },
          "metadata": {},
          "execution_count": 22
        }
      ],
      "source": [
        "# Load dataset yang diadaptasi dari https://huggingface.co/datasets/roneneldan/TinyStories\n",
        "df = pd.read_csv(\"stories.csv\")\n",
        "\n",
        "# Gunakan korpus berikut untuk pengerjaan soal\n",
        "corpus = df[\"story\"]\n",
        "\n",
        "corpus"
      ]
    },
    {
      "cell_type": "markdown",
      "metadata": {
        "id": "Q9RiAFRcRXqQ"
      },
      "source": [
        "### Soal 1: Menyesuaikan Komponen *Preprocessing* untuk Bahasa Inggris\n",
        "\n",
        "Perhatikan bahwa `corpus` yang digunakan berbahasa Inggris. Oleh karena itu, beberapa\n",
        "komponen dari Bagian 1.1 - 1.3 perlu disesuaikan. Silakan Anda pertimbangkan apa\n",
        "saja yang perlu diubah dan apa yang bisa digunakan untuk Bahasa Inggris juga.\n",
        "Implementasikan kodenya."
      ]
    },
    {
      "cell_type": "code",
      "execution_count": 23,
      "metadata": {
        "id": "Hvn7tlzbRXqQ"
      },
      "outputs": [],
      "source": [
        "from typing import Any, Optional\n",
        "\n",
        "def stem_english_tokens(tokens: list[str], stemmer: Any):\n",
        "  stemmed_tokens: list[str] = [\n",
        "        stemmer.stem(token) if token else \"\" for token in tokens\n",
        "    ]\n",
        "  stemmed_tokens_without_empty_string: list[str] = [\n",
        "      token for token in stemmed_tokens if not ((token == \"\") or (token == None))\n",
        "  ]\n",
        "  return stemmed_tokens_without_empty_string\n",
        "\n",
        "def remove_english_stop_words(tokens: list[str], stop_words: list[str]):\n",
        "    tokens_without_stop_words = [token for token in tokens if token not in stop_words]\n",
        "    return tokens_without_stop_words"
      ]
    },
    {
      "cell_type": "markdown",
      "metadata": {
        "id": "qT-M9p7oRXqQ"
      },
      "source": [
        "### Soal 2: Membandingkan *Pipeline* Berbasiskan Regex dan BPE\n",
        "\n",
        "Dengan komponen yang sudah Anda sesuaikan pada Soal 1, implementasikan dua *pipeline*\n",
        "dengan *tokenizer* berbeda (antara regex atau BPE). Untuk BPE, latih pada `corpus`\n",
        "dan gunakan suatu nilai `num_of_merges`. Jelaskan alasan Anda menggunakan nilai\n",
        "`num_of_merges` tersebut. Lalu, jalankan kedua *pipeline* pada tiga teks yang dipilih\n",
        "secara acak dari `corpus`. Analisis kelebihan dan kekurangan dari masing-masing\n",
        "*pipeline* pada ketiga teks tersebut."
      ]
    },
    {
      "cell_type": "code",
      "execution_count": 24,
      "metadata": {
        "id": "VW3WERD9RXqR",
        "colab": {
          "base_uri": "https://localhost:8080/"
        },
        "outputId": "83b0ee39-0a8c-4a90-a669-05c6aaafa332"
      },
      "outputs": [
        {
          "output_type": "stream",
          "name": "stdout",
          "text": [
            "1801    Once there was a noisy alligator. He liked to ...\n",
            "1190    Once upon a time, there was a little boy named...\n",
            "1817    Timmy was a very obedient boy. He was always d...\n",
            "Name: story, dtype: object\n",
            "Regex Pipeline\n",
            "========================================\n",
            "Teks 1: Once there was a noisy alligator. He liked to cause a lot of commotion and he frequently made loud noises. One day, he was walking through the swamp, loudly singing and causing a ruckus.\n",
            "He came across a duck who said to him, “Please be quiet! You’re being very noisy.” But the alligator refused to listen and kept singing.\n",
            "He walked a bit further and came across a frog who said the same thing to him. “Please don’t be so noisy!” But the alligator continued to sing and be disruptive.\n",
            "Finally, the alligator came across a wise old turtle and she said to him, “It’s nice to be happy, but it’s not nice to be too loud. You’d be better off if you kept your voice down and behaved more politely.”\n",
            "The alligator heeded the turtle’s advice and from then on he made sure to stay quiet and not be too disruptive. He learned that sometimes it’s better to be polite than to be too noisy.\n",
            "Tokens 1: ['onc', 'wa', 'noisi', 'allig', 'like', 'caus', 'lot', 'commot', 'frequent', 'made', 'loud', 'nois', 'one', 'day', 'wa', 'walk', 'swamp', 'loudli', 'sing', 'caus', 'rucku', 'came', 'across', 'duck', 'said', 'pleas', 'quiet', 'veri', 'noisi', 'allig', 'refus', 'listen', 'kept', 'sing', 'walk', 'bit', 'came', 'across', 'frog', 'said', 'thing', 'pleas', 'noisi', 'allig', 'continu', 'sing', 'disrupt', 'final', 'allig', 'came', 'across', 'wise', 'old', 'turtl', 'said', 'nice', 'happi', 'nice', 'loud', 'better', 'kept', 'voic', 'behav', 'polit', 'allig', 'heed', 'turtl', 'advic', 'made', 'sure', 'stay', 'quiet', 'disrupt', 'learn', 'sometim', 'better', 'polit', 'noisi']\n",
            "\n",
            "Teks 2: Once upon a time, there was a little boy named Timmy. Timmy loved to play with his toys and eat candy. One day, Timmy's mom took him to the store to buy him a new toy. Timmy saw a toy he really liked, but it was very expensive. His mom told him that they couldn't buy it because it was too cheap. Timmy didn't understand why something that was too cheap couldn't be bought.\n",
            "Later that day, Timmy asked his mom why they couldn't buy the toy. His mom told him the truth, that they didn't have enough money to buy it. Timmy was sad, but he understood. He knew that his mom always answered his questions truthfully.\n",
            "Tokens 2: ['onc', 'upon', 'time', 'wa', 'littl', 'boy', 'name', 'timmi', 'timmi', 'love', 'play', 'hi', 'toy', 'eat', 'candi', 'one', 'day', 'timmi', 'mom', 'took', 'store', 'buy', 'new', 'toy', 'timmi', 'saw', 'toy', 'realli', 'like', 'wa', 'veri', 'expens', 'hi', 'mom', 'told', 'buy', 'becaus', 'wa', 'cheap', 'timmi', 'understand', 'whi', 'someth', 'wa', 'cheap', 'bought', 'later', 'day', 'timmi', 'ask', 'hi', 'mom', 'whi', 'buy', 'toy', 'hi', 'mom', 'told', 'truth', 'enough', 'money', 'buy', 'timmi', 'wa', 'sad', 'understood', 'knew', 'hi', 'mom', 'alway', 'answer', 'hi', 'question', 'truth']\n",
            "\n",
            "Teks 3: Timmy was a very obedient boy. He was always doing what his parents asked. One day, his parents asked him to go to the science lab. Timmy was scared but went anyway.\n",
            "When Timmy got to the science lab he saw a big green laser. \"What is that?\" he asked his parents. His parents explained that it was a laser and the scientists were going to use it to test things.\n",
            "Timmy was still scared but his parents reassured him that the laser was safe. They asked him to stand on a chair and put his hand under the laser. Timmy was very obedient, so he did as he was asked.\n",
            "The laser shone on his hand, but it felt like a tickle. Timmy was relieved and happy. He said to his parents, \"This isn't so bad\". His parents were very happy that he had been so obedient. They hugged him and told him the laser was all done.\n",
            "Tokens 3: ['timmi', 'wa', 'veri', 'obedi', 'boy', 'wa', 'alway', 'hi', 'parent', 'ask', 'one', 'day', 'hi', 'parent', 'ask', 'go', 'scienc', 'lab', 'timmi', 'wa', 'scare', 'went', 'anyway', 'timmi', 'got', 'scienc', 'lab', 'saw', 'big', 'green', 'laser', 'ask', 'hi', 'parent', 'hi', 'parent', 'explain', 'wa', 'laser', 'scientist', 'go', 'use', 'test', 'thing', 'timmi', 'wa', 'still', 'scare', 'hi', 'parent', 'reassur', 'laser', 'wa', 'safe', 'ask', 'stand', 'chair', 'put', 'hi', 'hand', 'laser', 'timmi', 'wa', 'veri', 'obedi', 'wa', 'ask', 'laser', 'shone', 'hi', 'hand', 'felt', 'like', 'tickl', 'timmi', 'wa', 'reliev', 'happi', 'said', 'hi', 'parent', 'thi', 'bad', 'hi', 'parent', 'veri', 'happi', 'obedi', 'hug', 'told', 'laser', 'wa', 'done']\n",
            "\n",
            "\n",
            "BPE Pipeline\n",
            "========================================\n",
            "Teks 1: Once there was a noisy alligator. He liked to cause a lot of commotion and he frequently made loud noises. One day, he was walking through the swamp, loudly singing and causing a ruckus.\n",
            "He came across a duck who said to him, “Please be quiet! You’re being very noisy.” But the alligator refused to listen and kept singing.\n",
            "He walked a bit further and came across a frog who said the same thing to him. “Please don’t be so noisy!” But the alligator continued to sing and be disruptive.\n",
            "Finally, the alligator came across a wise old turtle and she said to him, “It’s nice to be happy, but it’s not nice to be too loud. You’d be better off if you kept your voice down and behaved more politely.”\n",
            "The alligator heeded the turtle’s advice and from then on he made sure to stay quiet and not be too disruptive. He learned that sometimes it’s better to be polite than to be too noisy.\n",
            "Tokens 1: ['once#', 'there#', 'was#', 'a#', 'isy#', 'al', 'li', 'ga', 'tor#', 'he#', 'liked#', 'to#', 'cause#', 'lot#', 'of#', 'com', 'mo', 'tion#', 'and#', 'he#', 'f', 'qu', 'ent', 'ly#', 'made#', 'loud#', 'es#', 'one#', 'day#', 'walking#', 'through#', 'the#', 'wa', 'p#', 'lou', 'dly#', 'g', 'ing#', 'ca', 'u', 'sing#', 'ru', 'c', 'k', 'u', 's#', 'came#', 'ac', 'ro', 'ss#', 'u', 'ck#', 'who#', 'said#', 'him#', 'p', 'le', 'ase#', 'be#', 'qu', 'et#', 'you#', 're#', 'being#', 'very#', 'but#', 'fu', 'sed#', 'listen#', 'kept#', 'walked#', 'bit#', 'fu', 'r', 'ther#', 'fro', 'g#', 'sa', 'me#', 'thing#', 'don#', 't#', 'so#', 'continu', 'ed#', 'sing#', 'r', 'ti', 've#', 'finally#', 'wi', 'se#', 'old#', 'tur', 'le#', 'she#', 'it#', 's#', 'nice#', 'happy#', 'but#', 'it#', 'not#', 'too#', 'd#', 'better#', 'off#', 'if#', 'you#', 'your#', 'voice#', 'down#', 'ha', 'ved#', 'more#', 'po', 'li', 'te', 'ly#', 'the#', 'e', 'ded#', 'ad', 'v', 'ice#', 'from#', 'then#', 'on#', 'sure#', 'stay#', 'learned#', 'that#', 'ti', 'es#', 'po', 'li', 'te#', 'than#']\n",
            "\n",
            "Teks 2: Once upon a time, there was a little boy named Timmy. Timmy loved to play with his toys and eat candy. One day, Timmy's mom took him to the store to buy him a new toy. Timmy saw a toy he really liked, but it was very expensive. His mom told him that they couldn't buy it because it was too cheap. Timmy didn't understand why something that was too cheap couldn't be bought.\n",
            "Later that day, Timmy asked his mom why they couldn't buy the toy. His mom told him the truth, that they didn't have enough money to buy it. Timmy was sad, but he understood. He knew that his mom always answered his questions truthfully.\n",
            "Tokens 2: ['once#', 'upon#', 'a#', 'time#', 'there#', 'was#', 'little#', 'boy#', 'named#', 'timmy#', 'loved#', 'to#', 'play#', 'with#', 'his#', 'toys#', 'and#', 'eat#', 'dy#', 'one#', 'day#', 's#', 'mom#', 'took#', 'him#', 'the#', 'store#', 'bu', 'y#', 'new#', 'toy#', 'saw#', 'he#', 'really#', 'liked#', 'but#', 'it#', 'very#', 'ex', 'p', 'en', 'si', 've#', 'his#', 'told#', 'that#', 'they#', 'couldn#', 't#', 'because#', 'too#', 'che', 'p#', 'didn#', 'stand#', 'why#', 'something#', 'be#', 'b', 'ought#', 'l', 'ter#', 'asked#', 'tru', 'th#', 'have#', 'en', 'ough#', 'mon', 'ey#', 'sad#', 'sto', 'od#', 'he#', 'knew#', 'always#', 'sw', 'ered#', 'qu', 'e', 'st', 'ons#', 'tru', 'th', 'fully#']\n",
            "\n",
            "Teks 3: Timmy was a very obedient boy. He was always doing what his parents asked. One day, his parents asked him to go to the science lab. Timmy was scared but went anyway.\n",
            "When Timmy got to the science lab he saw a big green laser. \"What is that?\" he asked his parents. His parents explained that it was a laser and the scientists were going to use it to test things.\n",
            "Timmy was still scared but his parents reassured him that the laser was safe. They asked him to stand on a chair and put his hand under the laser. Timmy was very obedient, so he did as he was asked.\n",
            "The laser shone on his hand, but it felt like a tickle. Timmy was relieved and happy. He said to his parents, \"This isn't so bad\". His parents were very happy that he had been so obedient. They hugged him and told him the laser was all done.\n",
            "Tokens 3: ['timmy#', 'was#', 'a#', 'very#', 'di', 'ent#', 'boy#', 'he#', 'always#', 'ing#', 'what#', 'his#', 'par', 'ents#', 'asked#', 'one#', 'day#', 'him#', 'to#', 'go#', 'the#', 'ci', 'en', 'ce#', 'la', 'b#', 'scared#', 'but#', 'went#', 'ani', 'way#', 'when#', 'got#', 'he#', 'saw#', 'big#', 'gre', 'en#', 'l', 'er#', 'what#', 'is#', 'that#', 'his#', 'expl', 'ined#', 'it#', 'and#', 'ci', 'en', 'ti', 'st', 's#', 'were#', 'going#', 'use#', 'te', 'st#', 'things#', 'still#', 'sur', 'ed#', 'safe#', 'they#', 'stand#', 'on#', 'cha', 'ir#', 'put#', 'hand#', 'under#', 'so#', 'did#', 'as#', 'the#', 'sh', 'one#', 'felt#', 'like#', 'ti', 'c', 'k', 'le#', 'lie', 'ved#', 'happy#', 'said#', 'this#', 'n#', 't#', 'bad#', 'had#', 'been#', 'hugged#', 'told#', 'all#', 'done#']\n",
            "\n"
          ]
        }
      ],
      "source": [
        "ps = PorterStemmer()\n",
        "\n",
        "def english_text_processing_pipeline_regex(\n",
        "    text: str, stemmer: Optional[Any] = ps, english_stopwords: Optional[list[str]] = english_stopwords\n",
        "):\n",
        "    tokens = tokenize_text_regex(text)\n",
        "    tokens = stem_english_tokens(tokens, stemmer)\n",
        "    tokens = remove_english_stop_words(tokens, english_stopwords)\n",
        "    return tokens\n",
        "\n",
        "def english_text_processing_pipeline_bpe(\n",
        "    text: str, vocab: list[str], merge_rules: list[tuple[str, str]], stemmer: Optional[Any] = ps, english_stopwords: Optional[list[str]] = english_stopwords\n",
        "):\n",
        "    tokens = tokenize_bpe(vocab, merge_rules, text)\n",
        "    tokens = stem_english_tokens(tokens, stemmer)\n",
        "    tokens = remove_english_stop_words(tokens, english_stopwords)\n",
        "\n",
        "    return tokens\n",
        "\n",
        "# Pick 3 randomly\n",
        "random_corpus = corpus.sample(n=3, random_state=42)\n",
        "random_stories = list(random_corpus)\n",
        "print(random_corpus)\n",
        "\n",
        "print(\"Regex Pipeline\")\n",
        "print(40*\"=\")\n",
        "for idx in range(len(random_stories)):\n",
        "  text = random_stories[idx]\n",
        "  pipeline_tokens = english_text_processing_pipeline_regex(\n",
        "    text, ps, english_stopwords\n",
        "  )\n",
        "  print(f\"Teks {idx + 1}: {text}\")\n",
        "  print(f\"Tokens {idx + 1}: {pipeline_tokens}\")\n",
        "  print()\n",
        "\n",
        "print()\n",
        "print(\"BPE Pipeline\")\n",
        "print(40*\"=\")\n",
        "vocab, merge_rules = train_bpe(corpus, 1000)\n",
        "# BPE With 10 merge rules with vocab.\n",
        "\n",
        "for index in range(len(random_stories)):\n",
        "  text = random_stories[index]\n",
        "  pipeline_tokens = english_text_processing_pipeline_bpe(\n",
        "    text, vocab, merge_rules, ps, english_stopwords\n",
        "  )\n",
        "  print(f\"Teks {index + 1}: {text}\")\n",
        "  print(f\"Tokens {index + 1}: {pipeline_tokens}\")\n",
        "  print()"
      ]
    },
    {
      "cell_type": "code",
      "source": [
        "regex_size = 0\n",
        "\n",
        "for story in corpus:\n",
        "  regex_size += len(tokenize_text_regex(story))\n",
        "\n",
        "print(\"Total words (counting duplicate) in corpus: \", regex_size)"
      ],
      "metadata": {
        "colab": {
          "base_uri": "https://localhost:8080/"
        },
        "id": "DGj3mITKqtAq",
        "outputId": "48f22155-b00f-4d6a-e088-1078a19a5172"
      },
      "execution_count": 25,
      "outputs": [
        {
          "output_type": "stream",
          "name": "stdout",
          "text": [
            "Total words (counting duplicate) in corpus:  491612\n"
          ]
        }
      ]
    },
    {
      "cell_type": "markdown",
      "metadata": {
        "id": "Gu2F2BV3RXqR"
      },
      "source": [
        "**Memilih number of merge**\n",
        "Menurut saya, pemilihan `number_of_merge` dapat bergantung dari beberapa karakteristik berikut:\n",
        "- Ukuran corpus: apabila ukuran corpus kecil, maka number_of_merge hanya memerlukan number_of_merge yang kecil untuk hasilnya yang baik.\n",
        "- Namun dari ukuran corpus tersebut, memang apabila number_of_merge terlalu besar maka dapat menyebabkan BPE tokenizer kita menjadi **overfitting**, Hal ini dapat mengakibatkan penurunan performa pada data yang belum pernah dilihat sebelumnya.\n",
        "\n",
        "\n",
        "Saya memilih n = 1000, karena artinya dapat dilihat bahwa maksimal kata yang ada dicorpus yang akan kita latih adalah 491612 ribu. Nah, apabila kita menggunakan n yang terlalu besar misalnya di sekitar 300000 maka kemungkinan besar, tokenizer kita akan terlalu overfitting terhadap corpus kita. Oleh karena itu saya memilih 1000 karena untuk number of merge 1000, tokenizer kita dapat melihat pola-pola subword yang didapat.\n",
        "\n",
        "\n",
        "**Kelebihan dan kekurangan**\n",
        "\n",
        "Dapat dilihat dari hasil random corpus yang diperoleh, apabila kita menggunakan pipeline dengan step yang sama, contohnya pada kedua tipe tersebut tahap meliputi tokenizer (regex/BPE) -> stemming word -> stopwords removal terdapat beberapa kelebihan dan kekurangan yang dapat saya observasi:\n",
        "\n",
        "Untuk Regex Tokenizer:\n",
        "  \n",
        "  **Kelebihan:**\n",
        "  - Berdasarkan observasi saya **cepat dan sederhana**, untuk setiap story pada corpus yang ada, regex tokenizer adalah tokenizer yang sangat cepat. Hal ini karena regex tokenizer sendiri bersifat naive dan tidak mementingkan pola yang ada selain apabila itu adalah suatu alphanumerik, maka akan termasuk 1 token. Hal ini tentunya kurang efisien untuk kata-kata yang lebih kompleks seperti Rumah Sakit dimana artinya bukanlah rumah dan sakit melainkan 1 kali representasi.\n",
        "  - Observasi saya selanjutnya, **dari segi fleksibilitas**, dengan menggunakan regex, kita dapat menentukan definisi token menurut kita. Jadi regex dapat menjadi satu cara yang powerful apabila kita ingin mendefinisikan token kita sendiri\n",
        "  - Terakhir, **mudah dipahami**, tokenizer adalah hal yang cukup mudah dipahami. Simplenya, tokenizer regex adalah token-token yang diperoleh berdasarkan pola match yang ada.\n",
        "\n",
        "**Kekurangan:**\n",
        "- Berdasarkan observasi yang saya dapatkan, regex tokenizer masih memiliki **kekurangan dalam prsesisi dalam menangani kata-kata yang kompleks**\n",
        "- Selanjutnya, regex tokenizer masih **tidak menggunakan frekuensi atau data dari text yang ada**, hal ini tentu saja masalah ketika kata-kata sedikit yang sering muncul bersamaan namun dianggap sebagai token yang berbeda.\n",
        "- Apabila bahasa yang berbeda-beda dan tidak alfabet seperti biasanya seperti (mandarin, arab, dll), maka regex tokenizer kemungkinan besar tidak dapat bekerja sesuai dengan ekspektasi kita.\n",
        "\n",
        "\n",
        "Untuk BPE:\n",
        "\n",
        "**Kelebihan dari BPE**\n",
        "- Dengan *n* yang besar, BPE **dapat mengurangi ukuran vocabulary** dengan menggabungkan sub-kata yang sering muncul bersamaan.\n",
        "- BPE bekerja lebih baik untuk bahasa yang memiliki banyak bentuk kata karena dapat memecah kata menjadi sub-kata yang lebih kecil, memungkinkan untuk menangani kata-kata baru yang belum pernah dilihat sebelumnya.\n",
        "- BPE dapat dilatih berdasarkan corpus sedangkan regex tokenizer tidak perlu pelatihan, hal ini merupakan kelebihan karena BPE termasuk data driven tokenizer yang sesuai dengan pola dari corpus yang kita miliki.\n",
        "\n",
        "**Kekurangan dari BPE**\n",
        "- BPE pada umumnya menghasilkan token yang lebih panjang karena BPE memecah kata menjadi sub-kata, hasil tokenisasi biasanya menghasilkan lebih banyak token dibandingkan dengan regex tokenizer, yang dapat memperpanjang waktu pemrosesan dan mengonsumsi lebih banyak memori.\n",
        "- Selanjutnya efektivitas tokenisasi BPE sangat tergantung pada data pelatihan. Jika data pelatihan tidak mencakup variasi kata yang cukup, hasil tokenisasi bisa kurang optimal."
      ]
    },
    {
      "cell_type": "markdown",
      "metadata": {
        "id": "lfaMdcnaRXqR"
      },
      "source": [
        "### Soal 3: Membangun *Stop Words*\n",
        "\n",
        "Dengan memanfaatkan *tokenizer* regex, Anda diminta untuk mengumpulkan seluruh\n",
        "token unik beserta frekuensi kemunculannya dari `corpus`. Berdasarkan frekuensi\n",
        "kemunculan ini, ambil *top-200* token yang memiliki frekuensi tertinggi sebagai\n",
        "*stop words*.\n",
        "\n",
        "Tampilkan *stop words* Anda dan bandingkan dengan *stop words* yang Anda gunakan\n",
        "di Soal 1 dan 2. Jelaskan hasil observasi Anda."
      ]
    },
    {
      "cell_type": "code",
      "execution_count": 26,
      "metadata": {
        "id": "aVEM9ZVARXqR",
        "colab": {
          "base_uri": "https://localhost:8080/"
        },
        "outputId": "2efc5ced-478a-4c3b-9d8d-414b00b896f5"
      },
      "outputs": [
        {
          "output_type": "stream",
          "name": "stdout",
          "text": [
            "Top 200 kata dengan frekuensi: [('and#', 22266), ('the#', 21583), ('to#', 17076), ('a#', 15214), ('was#', 13866), ('it#', 7277), ('her#', 6303), ('He#', 5665), ('She#', 5545), ('he#', 5428), ('The#', 4923), ('she#', 4507), ('said#', 4318), ('in#', 4204), ('his#', 4154), ('They#', 4052), ('that#', 3937), ('with#', 3910), ('Lily#', 3906), ('day#', 3894), ('so#', 3691), ('of#', 3586), ('had#', 3280), ('they#', 3066), ('on#', 3051), ('s#', 2968), ('time#', 2830), ('little#', 2818), ('there#', 2739), ('for#', 2707), ('very#', 2490), ('you#', 2457), ('t#', 2323), ('I#', 2313), ('happy#', 2278), ('Once#', 2276), ('mom#', 2273), ('saw#', 2230), ('It#', 2211), ('One#', 2204), ('but#', 2136), ('big#', 2099), ('upon#', 2008), ('were#', 1936), ('girl#', 1912), ('play#', 1851), ('him#', 1832), ('Timmy#', 1746), ('wanted#', 1734), ('not#', 1631), ('up#', 1630), ('went#', 1563), ('is#', 1491), ('all#', 1486), ('be#', 1393), ('them#', 1387), ('But#', 1375), ('loved#', 1368), ('named#', 1352), ('friends#', 1318), ('go#', 1308), ('felt#', 1258), ('their#', 1256), ('at#', 1250), ('have#', 1208), ('around#', 1199), ('back#', 1182), ('asked#', 1170), ('could#', 1161), ('looked#', 1130), ('boy#', 1099), ('would#', 1089), ('started#', 1051), ('too#', 1048), ('can#', 1027), ('smiled#', 1024), ('help#', 1019), ('Tom#', 1009), ('are#', 1003), ('fun#', 994), ('away#', 976), ('out#', 976), ('like#', 970), ('what#', 928), ('some#', 924), ('ran#', 920), ('made#', 916), ('together#', 887), ('park#', 887), ('something#', 878), ('sad#', 874), ('found#', 870), ('make#', 869), ('from#', 861), ('then#', 861), ('when#', 844), ('bird#', 839), ('again#', 836), ('playing#', 827), ('home#', 827), ('You#', 824), ('man#', 821), ('put#', 817), ('got#', 813), ('see#', 794), ('who#', 793), ('didn#', 786), ('Ben#', 782), ('decided#', 781), ('came#', 773), ('do#', 752), ('excited#', 752), ('new#', 747), ('always#', 745), ('one#', 739), ('want#', 730), ('an#', 728), ('mommy#', 722), ('did#', 719), ('things#', 715), ('down#', 709), ('as#', 708), ('outside#', 698), ('old#', 693), ('scared#', 688), ('Max#', 677), ('friend#', 676), ('When#', 650), ('about#', 633), ('other#', 632), ('knew#', 627), ('get#', 619), ('took#', 607), ('find#', 594), ('couldn#', 592), ('liked#', 589), ('much#', 586), ('more#', 575), ('how#', 571), ('because#', 565), ('take#', 565), ('thought#', 564), ('Tim#', 563), ('special#', 562), ('Jack#', 550), ('Her#', 549), ('tree#', 545), ('we#', 544), ('From#', 535), ('Suddenly#', 535), ('So#', 530), ('toys#', 522), ('told#', 515), ('your#', 512), ('tried#', 510), ('good#', 510), ('gave#', 507), ('never#', 501), ('over#', 501), ('house#', 497), ('toy#', 497), ('inside#', 497), ('just#', 493), ('if#', 491), ('my#', 480), ('Sam#', 478), ('into#', 476), ('me#', 475), ('Then#', 471), ('dog#', 467), ('Mom#', 464), ('We#', 456), ('this#', 453), ('His#', 448), ('better#', 448), ('will#', 443), ('until#', 443), ('heard#', 443), ('know#', 441), ('proud#', 436), ('eat#', 420), ('no#', 417), ('bear#', 417), ('look#', 416), ('played#', 414), ('Let#', 396), ('learned#', 390), ('car#', 388), ('water#', 387), ('end#', 385), ('kind#', 379), ('lots#', 377), ('long#', 376), ('dad#', 376), ('hugged#', 374), ('And#', 373), ('even#', 373), ('each#', 372), ('sky#', 371), ('Mommy#', 366), ('garden#', 365), ('way#', 363), ('beautiful#', 361), ('m#', 360), ('says#', 360), ('room#', 359), ('That#', 357), ('off#', 357), ('by#', 354), ('kept#', 352), ('After#', 351), ('As#', 347), ('feel#', 345), ('Anna#', 344), ('thanked#', 342), ('animals#', 339), ('What#', 338), ('come#', 334), ('sorry#', 333), ('safe#', 333), ('still#', 333), ('feeling#', 328), ('small#', 326), ('best#', 326), ('family#', 324), ('nice#', 323), ('careful#', 322), ('brave#', 322), ('John#', 320), ('both#', 318), ('two#', 316), ('don#', 316), ('before#', 315), ('Sarah#', 314), ('every#', 313), ('cat#', 309), ('ball#', 306), ('many#', 306), ('Mia#', 303), ('laughed#', 298), ('soon#', 298), ('lived#', 296), ('called#', 295), ('its#', 294), ('going#', 294), ('walked#', 291), ('hurt#', 290), ('Every#', 289), ('try#', 287), ('walking#', 287), ('hard#', 284), ('sun#', 283), ('box#', 282), ('people#', 280), ('share#', 277), ('picked#', 277), ('flew#', 275), ('idea#', 274), ('Lucy#', 274), ('opened#', 267), ('being#', 263), ('should#', 263), ('Yes#', 262), ('quickly#', 262), ('while#', 261), ('next#', 259), ('pretty#', 257), ('let#', 254), ('explore#', 254), ('noticed#', 254), ('Jane#', 254), ('great#', 253), ('love#', 253), ('bad#', 252), ('ground#', 251), ('replied#', 250), ('been#', 249), ('stay#', 249), ('looking#', 248), ('keep#', 245), ('noise#', 245), ('red#', 243), ('door#', 241), ('shiny#', 240), ('say#', 238), ('No#', 238), ('forest#', 237), ('stopped#', 237), ('sure#', 236), ('loud#', 236), ('important#', 235), ('also#', 234), ('Can#', 233), ('eyes#', 230), ('need#', 229), ('angry#', 228), ('Sara#', 227), ('now#', 224), ('right#', 224), ('Thank#', 223), ('showed#', 223), ('ever#', 222), ('lot#', 222), ('became#', 219), ('fish#', 215), ('clean#', 214), ('give#', 214), ('closer#', 214), ('smile#', 213), ('watched#', 213), ('listen#', 213), ('or#', 213), ('Bob#', 213), ('bed#', 212), ('really#', 212), ('grabbed#', 210), ('food#', 210), ('fast#', 209), ('slide#', 207), ('run#', 205), ('place#', 205), ('everyone#', 204), ('goodbye#', 204), ('This#', 201), ('after#', 201), ('different#', 200), ('show#', 199), ('hug#', 198), ('nodded#', 198), ('tired#', 197), ('voice#', 197), ('work#', 196), ('Everyone#', 196), ('rain#', 196), ('walk#', 196), ('fell#', 196), ('realized#', 196), ('warm#', 193), ('three#', 193), ('strong#', 190), ('began#', 190), ('where#', 189), ('hopped#', 189), ('ate#', 187), ('hand#', 187), ('himself#', 186), ('having#', 185), ('Spot#', 184), ('high#', 184), ('adventure#', 184), ('Benny#', 184), ('jumped#', 183), ('bunny#', 183), ('helped#', 183), ('world#', 183), ('favorite#', 182), ('why#', 182), ('night#', 182), ('dark#', 182), ('hands#', 181), ('wait#', 180), ('blue#', 179), ('boat#', 178), ('anymore#', 178), ('Joe#', 178), ('cry#', 177), ('brother#', 177), ('through#', 176), ('face#', 176), ('yummy#', 175), ('making#', 175), ('bit#', 174), ('cake#', 174), ('lady#', 174), ('re#', 174), ('first#', 170), ('reached#', 169), ('birds#', 169), ('mouse#', 168), ('top#', 167), ('Sue#', 167), ('done#', 167), ('curious#', 167), ('okay#', 167), ('head#', 167), ('coming#', 165), ('rabbit#', 165), ('herself#', 165), ('years#', 165), ('bright#', 164), ('catch#', 164), ('rock#', 164), ('happened#', 164), ('delicious#', 164), ('flowers#', 163), ('puppy#', 163), ('pond#', 162), ('Daisy#', 162), ('game#', 162), ('dress#', 162), ('seen#', 161), ('than#', 161), ('Finally#', 160), ('under#', 159), ('kitchen#', 159), ('daddy#', 159), ('Billy#', 157), ('move#', 157), ('Don#', 157), ('thing#', 156), ('butterfly#', 156), ('children#', 156), ('trees#', 155), ('worry#', 155), ('yellow#', 154), ('grass#', 154), ('There#', 154), ('mum#', 154), ('used#', 153), ('store#', 153), ('fly#', 153), ('blocks#', 153), ('watch#', 152), ('kids#', 152), ('ready#', 152), ('only#', 152), ('finally#', 151), ('running#', 151), ('sat#', 150), ('name#', 149), ('remembered#', 149), ('Tommy#', 149), ('enjoyed#', 149), ('glad#', 149), ('story#', 148), ('shouted#', 148), ('worked#', 147), ('parents#', 146), ('happily#', 145), ('doll#', 145), ('truck#', 145), ('use#', 145), ('continued#', 145), ('tall#', 144), ('Sally#', 144), ('wrong#', 143), ('lost#', 142), ('full#', 142), ('Now#', 142), ('stop#', 142), ('lion#', 142), ('has#', 142), ('carefully#', 141), ('lesson#', 141), ('arrived#', 141), ('getting#', 140), ('surprised#', 140), ('wind#', 139), ('ice#', 139), ('Look#', 138), ('waved#', 138), ('cool#', 137), ('able#', 137), ('buy#', 137), ('stayed#', 136), ('doing#', 136), ('surprise#', 136), ('cookies#', 136), ('think#', 135), ('wished#', 134), ('near#', 133), ('dinner#', 133), ('finished#', 133), ('cold#', 132), ('open#', 132), ('friendly#', 131), ('gone#', 130), ('wonderful#', 130), ('green#', 129), ('care#', 129), ('cream#', 129), ('sound#', 129), ('floor#', 129), ('mother#', 129), ('another#', 128), ('ll#', 128), ('A#', 128), ('few#', 127), ('hill#', 126), ('others#', 125), ('own#', 125), ('pick#', 124), ('filled#', 124), ('picture#', 124), ('brought#', 124), ('morning#', 124), ('table#', 123), ('us#', 123), ('soft#', 123), ('everything#', 123), ('woods#', 123), ('squirrel#', 123), ('wasn#', 123), ('held#', 123), ('At#', 122), ('behind#', 122), ('Sammy#', 122), ('Wow#', 121), ('needed#', 121), ('hat#', 121), ('here#', 121), ('stick#', 121), ('mean#', 120), ('Molly#', 120), ('enough#', 119), ('our#', 119), ('joy#', 119), ('Do#', 118), ('left#', 118), ('flower#', 118), ('stepped#', 118), ('grandma#', 117), ('far#', 115), ('close#', 115), ('tell#', 115), ('rest#', 114), ('any#', 114), ('funny#', 114), ('ask#', 114), ('amazing#', 114), ('Lila#', 114), ('touch#', 113), ('set#', 113), ('music#', 113), ('learn#', 113), ('anything#', 112), ('leaves#', 112), ('pink#', 112), ('understand#', 112), ('agreed#', 111), ('colors#', 111), ('cried#', 110), ('flying#', 110), ('hear#', 110), ('Maybe#', 110), ('nap#', 110), ('beach#', 110), ('wet#', 110), ('trying#', 109), ('else#', 109), ('swing#', 109), ('paper#', 109), ('money#', 109), ('frog#', 108), ('yes#', 108), ('hungry#', 107), ('forgot#', 107), ('teddy#', 107), ('broken#', 106), ('climbed#', 105), ('jump#', 105), ('eating#', 105), ('air#', 105), ('fix#', 105), ('hole#', 104), ('Daddy#', 104), ('someone#', 104), ('listened#', 104), ('grateful#', 104), ('looks#', 104), ('sleep#', 103), ('sweet#', 103), ('does#', 103), ('leave#', 102), ('colorful#', 101), ('strange#', 101), ('pictures#', 101), ('sing#', 101), ('hair#', 101), ('climb#', 100), ('moral#', 100), ('shared#', 100), ('followed#', 100), ('deep#', 100), ('slowly#', 100), ('treasure#', 99), ('heavy#', 99), ('Amy#', 99), ('moment#', 99), ('farmer#', 98), ('believe#', 98), ('amazed#', 98), ('nearby#', 98), ('duck#', 98), ('dangerous#', 97), ('scary#', 97), ('candy#', 97), ('faster#', 97), ('Why#', 96), ('sometimes#', 96), ('All#', 96), ('promised#', 96), ('sister#', 96), ('most#', 96), ('am#', 95), ('owner#', 95), ('might#', 95), ('perfect#', 95), ('silly#', 95), ('year#', 95), ('ride#', 94), ('wouldn#', 94), ('pulled#', 94), ('Jake#', 94), ('laugh#', 93), ('bag#', 93), ('clothes#', 93), ('Soon#', 93), ('white#', 93), ('across#', 93), ('hot#', 92), ('baby#', 92), ('hide#', 92), ('visit#', 92), ('Dad#', 92), ('Mum#', 92), ('explained#', 91), ('towards#', 91), ('Mama#', 91), ('light#', 90), ('Later#', 90), ('please#', 90), ('backyard#', 90), ('jam#', 90), ('helping#', 89), ('In#', 89), ('higher#', 89), ('everywhere#', 89), ('tower#', 89), ('window#', 88), ('talk#', 88), ('fit#', 88), ('lonely#', 87), ('Oh#', 87), ('such#', 87), ('dry#', 87), ('castle#', 87), ('read#', 86), ('worried#', 86), ('suddenly#', 86), ('dragon#', 86), ('remember#', 85), ('monster#', 85), ('field#', 85), ('sees#', 85), ('singing#', 84), ('swim#', 84), ('mess#', 84), ('won#', 83), ('dolls#', 83), ('taking#', 83), ('same#', 83), ('Hello#', 83), ('magical#', 83), ('seemed#', 83), ('3#', 83), ('moved#', 82), ('bug#', 82), ('exploring#', 82), ('without#', 82), ('turned#', 82), ('river#', 82), ('storm#', 82), ('train#', 81), ('tail#', 81), ('closed#', 81), ('cut#', 81), ('likes#', 81), ('turn#', 80), ('job#', 80), ('book#', 80), ('cheese#', 80), ('bigger#', 80), ('spot#', 80), ('tight#', 80), ('tiny#', 80), ('rocks#', 79), ('wear#', 79), ('threw#', 79), ('caught#', 79), ('makes#', 79), ('books#', 79), ('princess#', 79), ('longer#', 79), ('thank#', 79), ('fire#', 79), ('chair#', 78), ('race#', 78), ('upset#', 78), ('bowl#', 77), ('bite#', 77), ('alone#', 77), ('along#', 77), ('knee#', 77), ('woke#', 77), ('young#', 76), ('jar#', 76), ('sand#', 76), ('pieces#', 76), ('kite#', 76), ('onto#', 75), ('Come#', 75), ('quiet#', 75), ('stories#', 75), ('stuck#', 74), ('join#', 74), ('cars#', 74), ('Mary#', 74), ('side#', 73), ('met#', 73), ('dropped#', 73), ('ocean#', 73), ('sunshine#', 73), ('lake#', 73), ('waited#', 72), ('purple#', 72), ('gentle#', 72), ('hello#', 72), ('drum#', 72), ('Hi#', 71), ('party#', 71), ('bought#', 71), ('broke#', 71), ('crying#', 71), ('Sure#', 71), ('child#', 71), ('Jenny#', 71), ('must#', 70), ('nothing#', 70), ('break#', 70), ('sang#', 70), ('dirty#', 70), ('Jill#', 70), ('Just#', 69), ('sit#', 69), ('late#', 69), ('Emma#', 69), ('Mr#', 69), ('pretend#', 68), ('reach#', 67), ('forever#', 67), ('sea#', 67), ('days#', 67), ('accidentally#', 67), ('tasted#', 67), ('woman#', 67), ('draw#', 67), ('healthy#', 67), ('OK#', 67), ('today#', 66), ('swimming#', 66), ('enjoy#', 66), ('course#', 66), ('swings#', 66), ('animal#', 66), ('brown#', 65), ('mouth#', 65), ('Please#', 65), ('Inside#', 65), ('Okay#', 65), ('sitting#', 65), ('bucket#', 65), ('shoes#', 65), ('words#', 65), ('dance#', 65), ('shook#', 65), ('bike#', 65), ('teacher#', 65), ('school#', 65), ('Mark#', 65), ('Peter#', 65), ('balloon#', 65), ('wise#', 64), ('games#', 64), ('piece#', 64), ('daughter#', 64), ('wings#', 64), ('neighbor#', 64), ('wall#', 64), ('searched#', 63), ('cheered#', 63), ('With#', 63), ('song#', 63), ('Fluffy#', 63), ('instead#', 63), ('picnic#', 63), ('furry#', 63), ('seat#', 63), ('asleep#', 63), ('Jimmy#', 63), ('huge#', 63), ('ant#', 63), ('farm#', 62), ('Mittens#', 62), ('fall#', 62), ('snake#', 62), ('rude#', 62), ('juice#', 62), ('pull#', 62), ('smiling#', 62), ('apple#', 62), ('pet#', 61), ('free#', 61), ('anyone#', 61), ('milk#', 61), ('tidy#', 61), ('build#', 61), ('shirt#', 61), ('soup#', 61), ('town#', 61), ('yard#', 60), ('swam#', 60), ('talked#', 60), ('dream#', 60), ('heart#', 60), ('doctor#', 60), ('blanket#', 60), ('bench#', 60), ('drove#', 60), ('bread#', 60), ('spoon#', 60), ('though#', 59), ('laughing#', 59), ('spider#', 59), ('well#', 59), ('hold#', 59), ('sign#', 59), ('carrot#', 59), ('ducks#', 59), ('smiles#', 59), ('spotted#', 59), ('creature#', 59), ('talking#', 58), ('street#', 58), ('branch#', 58), ('adventures#', 58), ('cozy#', 58), ('relieved#', 58), ('pushed#', 57), ('fruit#', 57), ('apples#', 57), ('shining#', 57), ('paint#', 57), ('sharing#', 57), ('drink#', 57), ('wagon#', 57), ('pocket#', 57), ('busy#', 57), ('rope#', 57), ('feet#', 56), ('sunny#', 56), ('wondered#', 56), ('sounds#', 56), ('forget#', 56), ('which#', 56), ('hoped#', 56), ('noises#', 56), ('bubble#', 56), ('fairy#', 56), ('trip#', 55), ('jungle#', 55), ('fight#', 55), ('Johnny#', 55), ('wearing#', 55), ('patient#', 55), ('smart#', 55), ('ugly#', 55), ('orange#', 54), ('nest#', 54), ('sharp#', 54), ('journey#', 54), ('trouble#', 54), ('exciting#', 54), ('large#', 54), ('eventually#', 54), ('sauce#', 54), ('round#', 53), ('plants#', 53), ('arms#', 53), ('owl#', 53), ('cute#', 53), ('path#', 53), ('hit#', 53), ('living#', 53), ('star#', 53), ('secret#', 53), ('Lola#', 53), ('whole#', 52), ('places#', 52), ('front#', 52), ('sick#', 52), ('wants#', 52), ('clever#', 52), ('lunch#', 51), ('holding#', 51), ('treat#', 51), ('black#', 51), ('My#', 51), ('sack#', 51), ('asks#', 51), ('village#', 51), ('wide#', 51), ('Together#', 50), ('On#', 50), ('lay#', 50), ('afraid#', 50), ('wish#', 50), ('throw#', 50), ('mine#', 50), ('mad#', 50), ('fair#', 50), ('matter#', 50), ('Everywhere#', 50), ('touched#', 49), ('birthday#', 49), ('clapped#', 49), ('line#', 49), ('often#', 49), ('shop#', 49), ('answer#', 49), ('bring#', 49), ('building#', 49), ('songs#', 49), ('gift#', 49), ('cave#', 49), ('person#', 49), ('Mummy#', 49), ('tightly#', 48), ('easy#', 48), ('turns#', 48), ('shell#', 48), ('snack#', 48), ('confused#', 48), ('elephant#', 48), ('hours#', 48), ('End#', 48), ('runs#', 48), ('lucky#', 48), ('corner#', 48), ('last#', 47), ('danced#', 47), ('fighting#', 47), ('stand#', 47), ('taught#', 47), ('march#', 47), ('chased#', 47), ('goat#', 47), ('wash#', 47), ('bush#', 47), ('Of#', 47), ('wave#', 47), ('pile#', 47), ('twins#', 47), ('umbrella#', 47), ('appeared#', 47), ('thankful#', 47), ('Grandpa#', 47), ('promise#', 46), ('generous#', 46), ('If#', 46), ('clouds#', 46), ('Their#', 46), ('teach#', 46), ('life#', 46), ('watching#', 46), ('rainbow#', 46), ('poor#', 46), ('welcome#', 46), ('polite#', 46), ('plan#', 46), ('How#', 46), ('Brownie#', 46), ('While#', 45), ('horse#', 45), ('missed#', 45), ('naughty#', 45), ('ashamed#', 45), ('passed#', 45), ('king#', 45), ('gently#', 45), ('tasty#', 45), ('bubbles#', 45), ('swan#', 45), ('hugs#', 45), ('pot#', 45), ('bedroom#', 45), ('wore#', 44), ('bee#', 44), ('grow#', 44), ('messy#', 44), ('arm#', 44), ('understood#', 44), ('Ducky#', 44), ('snow#', 44), ('cloud#', 44), ('screamed#', 44), ('Alex#', 44), ('cow#', 43), ('pretended#', 43), ('taste#', 43), ('puddle#', 43), ('basket#', 43), ('waves#', 43), ('hop#', 43), ('present#', 43), ('tea#', 43), ('honey#', 43), ('fixed#', 43), ('nuts#', 43), ('bottle#', 43), ('toast#', 43), ('start#', 43), ('prince#', 43), ('rolled#', 42), ('magic#', 42), ('stood#', 42), ('spent#', 42), ('empty#', 42), ('whenever#', 42), ('meant#', 42), ('barked#', 42), ('part#', 42), ('fox#', 42), ('shy#', 42), ('especially#', 42), ('cup#', 42), ('blew#', 42), ('takes#', 42), ('knowing#', 42), ('real#', 42), ('nervous#', 42), ('caterpillar#', 42), ('Emily#', 41), ('mind#', 41), ('save#', 41), ('bath#', 41), ('tank#', 41), ('Grandma#', 41), ('follow#', 41), ('count#', 41), ('elderly#', 41), ('wolf#', 41), ('stars#', 41), ('middle#', 41), ('Andy#', 41), ('body#', 40), ('carrots#', 40), ('enjoying#', 40), ('difficult#', 40), ('stones#', 40), ('tomorrow#', 40), ('helpful#', 40), ('coin#', 40), ('smelled#', 40), ('calling#', 40), ('call#', 40), ('meet#', 40), ('fur#', 40), ('couch#', 40), ('band#', 40), ('block#', 40), ('measure#', 40), ('shore#', 40), ('forward#', 40), ('sailed#', 39), ('whale#', 39), ('nose#', 39), ('forgive#', 39), ('zoo#', 39), ('jumping#', 39), ('organized#', 39), ('Here#', 39), ('smooth#', 39), ('hope#', 39), ('shapes#', 39), ('peaceful#', 39), ('Hey#', 39), ('Kim#', 39), ('interesting#', 39), ('wild#', 39), ('change#', 39), ('wheat#', 39), ('mud#', 38), ('embarrassed#', 38), ('teeth#', 38), ('hopping#', 38), ('already#', 38), ('kitten#', 38), ('carried#', 38), ('taken#', 38), ('letter#', 38), ('board#', 38), ('disappointed#', 38), ('pie#', 38), ('Today#', 38), ('penguin#', 38), ('grapes#', 37), ('happening#', 37), ('beauty#', 37), ('famous#', 37), ('machine#', 37), ('sugar#', 37), ('sparkly#', 37), ('gathered#', 37), ('spicy#', 37), ('knocked#', 37), ('comfortable#', 37), ('weird#', 37), ('waiting#', 37), ('Go#', 37), ('grab#', 37), ('faces#', 37), ('sword#', 37), ('feels#', 37), ('pizza#', 37), ('clown#', 37), ('pillow#', 37), ('pleased#', 37), ('realised#', 37), ('jacket#', 37), ('colourful#', 37), ('Bear#', 37), ('clear#', 36), ('lit#', 36), ('oven#', 36), ('tent#', 36), ('plant#', 36), ('kinds#', 36), ('yourself#', 36), ('minutes#', 36), ('kindness#', 36), ('Even#', 36), ('landed#', 36), ('hiding#', 36), ('skipped#', 36), ('fat#', 36), ('paw#', 36), ('seek#', 36), ('Nemo#', 36), ('bugs#', 36), ('giant#', 36), ('asking#', 36), ('Tweetie#', 36), ('movie#', 36), ('handle#', 36), ('father#', 36), ('sour#', 35), ('key#', 35), ('these#', 35), ('distance#', 35), ('breath#', 35), ('terrible#', 35), ('nature#', 35), ('frustrated#', 35), ('slipped#', 35), ('drawing#', 35), ('walks#', 35), ('sadly#', 35), ('fancy#', 35), ('cheerful#', 35), ('berries#', 35), ('corn#', 35), ('test#', 35), ('suggested#', 35), ('wrap#', 35), ('coat#', 35), ('hidden#', 35), ('Where#', 35), ('thinks#', 35), ('knife#', 35), ('once#', 35), ('lovely#', 35), ('unusual#', 35), ('computer#', 35), ('determined#', 35), ('almost#', 35), ('Joey#', 35), ('roll#', 34), ('island#', 34), ('Good#', 34), ('problem#', 34), ('foot#', 34), ('check#', 34), ('grew#', 34), ('extra#', 34), ('fake#', 34), ('discovered#', 34), ('Rex#', 34), ('incredible#', 34), ('protect#', 34), ('Well#', 34), ('happen#', 34), ('pebble#', 34), ('d#', 34), ('figure#', 34), ('Bella#', 34), ('honest#', 33), ('bake#', 33), ('hospital#', 33), ('bored#', 33), ('true#', 33), ('monkey#', 33), ('questions#', 33), ('push#', 33), ('shelf#', 33), ('meadow#', 33), ('bow#', 33), ('garage#', 33), ('write#', 33), ('trumpet#', 33), ('splash#', 33), ('flag#', 33), ('chicken#', 33), ('buttons#', 33), ('sight#', 33), ('playground#', 33), ('guitar#', 33), ('Thomas#', 33), ('Alice#', 33), ('Jenna#', 33), ('stream#', 33), ('bracelet#', 33), ('button#', 33), ('Betsy#', 33), ('fence#', 32), ('cookie#', 32), ('learning#', 32), ('dancing#', 32), ('breakfast#', 32), ('selfish#', 32), ('adventurous#', 32), ('treats#', 32), ('trunk#', 32), ('popular#', 32), ('creative#', 32), ('splashed#', 32), ('lazy#', 32), ('bossy#', 32), ('pointed#', 32), ('gives#', 32), ('leg#', 32), ('son#', 32), ('dirt#', 32), ('wrote#', 32), ('wand#', 32), ('zoom#', 32), ('tray#', 32), ('driver#', 32), ('net#', 32), ('ok#', 32), ('gem#', 32), ('land#', 31), ('cart#', 31), ('offered#', 31), ('soap#', 31), ('wagged#', 31), ('thinking#', 31), ('snacks#', 31), ('banana#', 31), ('camera#', 31), ('color#', 31), ('Are#', 31), ('dolphin#', 31), ('tools#', 31), ('noisy#', 31), ('later#', 31), ('saved#', 31), ('towel#', 31), ('stubborn#', 31), ('comes#', 31), ('harmless#', 31), ('moms#', 31), ('hid#', 31), ('speed#', 31), ('counted#', 31), ('spin#', 31), ('search#', 31), ('balloons#', 31), ('mirror#', 31), ('Baby#', 31), ('flea#', 31), ('oyster#', 31), ('drawer#', 31), ('igloo#', 31), ('Lilly#', 31), ('saying#', 30), ('spun#', 30), ('nail#', 30), ('weak#', 30), ('flute#', 30), ('frightened#', 30), ('stone#', 30), ('To#', 30), ('packed#', 30), ('juicy#', 30), ('police#', 30), ('glass#', 30), ('rode#', 30), ('neck#', 30), ('spend#', 30), ('phone#', 30), ('rare#', 30), ('chocolate#', 30), ('plane#', 30), ('excitedly#', 30), ('lock#', 30), ('mountain#', 30), ('feathers#', 30), ('valuable#', 30), ('bridge#', 30), ('louder#', 30), ('log#', 30), ('chest#', 30), ('finish#', 30), ('expensive#', 30), ('bus#', 30), ('mint#', 30), ('slept#', 30), ('Tina#', 30), ('drank#', 29), ('tough#', 29), ('thick#', 29), ('vegetables#', 29), ('plate#', 29), ('kiss#', 29), ('poured#', 29), ('excitement#', 29), ('hurts#', 29), ('case#', 29), ('eye#', 29), ('rice#', 29), ('guilty#', 29), ('bags#', 29), ('yelled#', 29), ('vase#', 29), ('lying#', 29), ('cannot#', 29), ('smaller#', 29), ('number#', 29), ('humble#', 29), ('view#', 29), ('string#', 29), ('wealthy#', 29), ('regular#', 29), ('group#', 29), ('airplane#', 29), ('happiness#', 29), ('staff#', 29), ('delighted#', 29), ('mysterious#', 29), ('twist#', 29), ('Clara#', 29), ('fierce#', 29), ('harbor#', 29), ('Ted#', 29), ('Ann#', 29), ('Bunny#', 29), ('working#', 28), ('carry#', 28), ('sink#', 28), ('sleepy#', 28), ('exclaimed#', 28), ('eager#', 28), ('missing#', 28), ('drew#', 28), ('tie#', 28), ('dogs#', 28), ('notice#', 28), ('Freddy#', 28), ('necklace#', 28), ('bone#', 28), ('win#', 28), ('deer#', 28), ('dreamed#', 28), ('licked#', 28), ('smoke#', 28), ('ordinary#', 28), ('tooth#', 28), ('disappeared#', 28), ('borrow#', 28), ('glue#', 28), ('Some#', 28), ('belonged#', 28), ('admired#', 28), ('fine#', 28), ('cleaned#', 28), ('tears#', 28), ('collect#', 28), ('counting#', 28), ('skin#', 28), ('successful#', 28), ('Tweet#', 28), ('fields#', 28), ('dinosaur#', 28), ('brightly#', 28), ('Little#', 28), ('temple#', 28), ('Jim#', 28), ('infant#', 28), ('jewel#', 28), ('Moo#', 28), ('escape#', 27), ('pirate#', 27), ('slow#', 27), ('smelly#', 27), ('smell#', 27), ('against#', 27), ('stronger#', 27), ('lift#', 27), ('sheep#', 27), ('sandwich#', 27), ('calm#', 27), ('rushed#', 27), ('Eventually#', 27), ('fragile#', 27), ('raced#', 27), ('painted#', 27), ('bald#', 27), ('compassionate#', 27), ('grumpy#', 27), ('create#', 27), ('anxious#', 27), ('elevator#', 27), ('friendship#', 27), ('feed#', 27), ('puts#', 27), ('kid#', 27), ('snuggled#', 27), ('mill#', 27), ('basketball#', 27), ('acorns#', 27), ('bounced#', 27), ('returned#', 27), ('golden#', 27), ('bloom#', 27), ('spread#', 27), ('petals#', 27), ('changed#', 27), ('reliable#', 27), ('jelly#', 27), ('leaf#', 27), ('axe#', 27), ('leopard#', 27), ('goose#', 27), ('thirsty#', 26), ('wood#', 26), ('moving#', 26), ('lead#', 26), ('ticket#', 26), ('persistent#', 26), ('powerful#', 26), ('factory#', 26), ('deaf#', 26), ('unique#', 26), ('Pip#', 26), ('branches#', 26), ('laundry#', 26), ('road#', 26), ('hammer#', 26), ('lose#', 26), ('steal#', 26), ('invited#', 26), ('flashlight#', 26), ('news#', 26), ('loudly#', 26), ('marry#', 26), ('volcano#', 26), ('Who#', 26), ('print#', 26), ('belong#', 26), ('obedient#', 26), ('answered#', 26), ('hippo#', 26), ('walls#', 26), ('respect#', 26), ('Harry#', 26), ('hang#', 26), ('veil#', 26), ('egg#', 26), ('legs#', 25), ('safely#', 25), ('tummy#', 25), ('TV#', 25), ('Tweety#', 25), ('acorn#', 25), ('wife#', 25), ('bitter#', 25), ('tag#', 25), ('snowman#', 25), ('painting#', 25), ('trust#', 25), ('anyway#', 25), ('crayons#', 25), ('Before#', 25), ('trap#', 25), ('football#', 25), ('sighed#', 25), ('See#', 25), ('hook#', 25), ('Sometimes#', 25), ('eggs#', 25), ('coal#', 25), ('market#', 25), ('Bun#', 25), ('grown#', 25), ('nosy#', 25), ('disgusting#', 25), ('reef#', 25), ('stumbled#', 25), ('airport#', 25), ('carrying#', 25), ('scissors#', 25), ('managed#', 25), ('married#', 25), ('clay#', 25), ('Pete#', 25), ('power#', 25), ('witch#', 25), ('pup#', 25), ('older#', 25), ('razor#', 25), ('gorilla#', 25), ('triangle#', 25), ('cap#', 25), ('Teddy#', 25), ('falling#', 24), ('goal#', 24), ('covered#', 24), ('low#', 24), ('mixed#', 24), ('bulb#', 24), ('become#', 24), ('badly#', 24), ('added#', 24), ('content#', 24), ('drawings#', 24), ('beetle#', 24), ('bouncing#', 24), ('classroom#', 24), ('locked#', 24), ('neat#', 24), ('drive#', 24), ('value#', 24), ('sleeping#', 24), ('bounce#', 24), ('beak#', 24), ('nicely#', 24), ('butter#', 24), ('pumpkin#', 24), ('wonder#', 24), ('yum#', 24), ('bushes#', 24), ('pay#', 24), ('sell#', 24), ('passport#', 24), ('rat#', 24), ('microscope#', 24), ('modern#', 24), ('favourite#', 24), ('tiger#', 24), ('message#', 24), ('attic#', 24), ('comet#', 24), ('vendor#', 24), ('Toby#', 24), ('parrot#', 24), ('mole#', 24), ('lively#', 23), ('swinging#', 23), ('marched#', 23), ('washed#', 23), ('jog#', 23), ('Buzz#', 23), ('crawled#', 23), ('turtle#', 23), ('finger#', 23), ('clumsy#', 23), ('fluffy#', 23), ('scream#', 23), ('rescue#', 23), ('afternoon#', 23), ('hung#', 23), ('fridge#', 23), ('seem#', 23), ('ones#', 23), ('act#', 23), ('Be#', 23), ('size#', 23), ('rich#', 23), ('giving#', 23), ('zoomed#', 23), ('giggled#', 23), ('Give#', 23), ('harder#', 23), ('Sorry#', 23), ('wrapped#', 23), ('ignorant#', 23), ('celebrate#', 23), ('jealous#', 23), ('imagined#', 23), ('warned#', 23), ('carpet#', 23), ('shield#', 23), ('brilliant#', 23), ('suit#', 23), ('jeep#', 23), ('sudden#', 23), ('shone#', 23), ('circle#', 23), ('spinning#', 23), ('whistle#', 23), ('study#', 23), ('tunnel#', 23), ('Henry#', 23), ('Bobby#', 23), ('Suzy#', 23), ('fan#', 23), ('switch#', 23), ('nut#', 23), ('sofa#', 23), ('Ella#', 23), ('rocket#', 23), ('stamp#', 23), ('magazine#', 23), ('Jen#', 23), ('icy#', 22), ('alligator#', 22), ('joke#', 22), ('closet#', 22), ('robot#', 22), ('bottom#', 22), ('fill#', 22), ('lights#', 22), ('Would#', 22), ('chase#', 22), ('chose#', 22), ('sandwiches#', 22), ('chew#', 22), ('step#', 22), ('medicine#', 22), ('ruined#', 22), ('dreaming#', 22), ('sunflower#', 22), ('ways#', 22), ('sunset#', 22), ('means#', 22), ('spaghetti#', 22), ('listening#', 22), ('uncle#', 22), ('decide#', 22), ('placed#', 22), ('hears#', 22), ('aid#', 22), ('mail#', 22), ('foolish#', 22), ('careless#', 22), ('cross#', 22), ('fireplace#', 22), ('pipe#', 22), ('mix#', 22), ('lightning#', 22), ('library#', 22), ('perfectly#', 22), ('above#', 22), ('ring#', 22), ('wine#', 22), ('Next#', 22), ('Everything#', 22), ('standing#', 22), ('cats#', 22), ('giraffe#', 22), ('cube#', 22), ('Dee#', 22), ('yacht#', 22), ('cobweb#', 22), ('Dave#', 22), ('angel#', 22), ('twig#', 22), ('bell#', 22), ('Fred#', 22), ('bull#', 22), ('knob#', 22), ('trade#', 21), ('popped#', 21), ('barn#', 21), ('tease#', 21), ('led#', 21), ('throwing#', 21), ('raining#', 21), ('jolly#', 21), ('yet#', 21), ('biggest#', 21), ('gets#', 21), ('boring#', 21), ('cooking#', 21), ('those#', 21), ('ingredients#', 21), ('tool#', 21), ('past#', 21), ('danger#', 21), ('lifted#', 21), ('gray#', 21), ('Bongo#', 21), ('alert#', 21), ('butterflies#', 21), ('advice#', 21), ('surf#', 21), ('puddles#', 21), ('glow#', 21), ('scarf#', 21), ('stupid#', 21), ('shells#', 21), ('Stop#', 21), ('edge#', 21), ('tries#', 21), ('knows#', 21), ('ear#', 21), ('loves#', 21), ('doesn#', 21), ('office#', 21), ('pale#', 21), ('refused#', 21), ('flexible#', 21), ('pattern#', 21), ('fearful#', 21), ('sail#', 21), ('tells#', 21), ('James#', 21), ('penny#', 21), ('package#', 21), ('wake#', 21), ('stairs#', 21), ('brothers#', 21), ('four#', 21), ('radio#', 21), ('boats#', 21), ('sorts#', 21), ('Poppy#', 21), ('blow#', 21), ('seal#', 21), ('Papa#', 21), ('Dan#', 21), ('daisy#', 20), ('stretch#', 20), ('rubbed#', 20), ('pack#', 20), ('luggage#', 20), ('impressive#', 20), ('harsh#', 20), ('cleaning#', 20), ('hairy#', 20), ('crawl#', 20), ('pain#', 20), ('finding#', 20), ('worm#', 20), ('cries#', 20), ('normal#', 20), ('mistake#', 20), ('roar#', 20), ('serious#', 20), ('trucks#', 20), ('spilled#', 20), ('stirred#', 20), ('allowed#', 20), ('gold#', 20), ('happier#', 20), ('rolling#', 20), ('impressed#', 20), ('practice#', 20), ('cupboard#', 20), ('growing#', 20), ('troubled#', 20), ('pray#', 20), ('floated#', 20), ('wiped#', 20), ('useful#', 20), ('paid#', 20), ('drinks#', 20), ('note#', 20), ('moon#', 20), ('repair#', 20), ('task#', 20), ('parade#', 20), ('solve#', 20), ('putting#', 20), ('reward#', 20), ('return#', 20), ('hunter#', 20), ('handed#', 20), ('pencil#', 20), ('heat#', 20), ('Steve#', 20), ('delight#', 20), ('sweetheart#', 20), ('dive#', 20), ('further#', 20), ('searching#', 20), ('cauliflower#', 20), ('roared#', 20), ('pool#', 20), ('planes#', 20), ('slippery#', 19), ('splashing#', 19), ('tricks#', 19), ('examine#', 19), ('closely#', 19), ('worth#', 19), ('playful#', 19), ('sweetie#', 19), ('sounded#', 19), ('practiced#', 19), ('independent#', 19), ('leaving#', 19), ('Your#', 19), ('trusted#', 19), ('hedge#', 19), ('wallet#', 19), ('scale#', 19), ('continue#', 19), ('pass#', 19), ('nod#', 19), ('live#', 19), ('needs#', 19), ('Help#', 19), ('goes#', 19), ('meeting#', 19), ('knight#', 19), ('stack#', 19), ('respectful#', 19), ('giggle#', 19), ('nowhere#', 19), ('Mrs#', 19), ('pinch#', 19), ('telling#', 19), ('pig#', 19), ('skeleton#', 19), ('imagine#', 19), ('thief#', 19), ('raft#', 19), ('picking#', 19), ('energy#', 19), ('ancient#', 19), ('pushing#', 19), ('delicate#', 19), ('stared#', 19), ('comb#', 19), ('younger#', 19), ('Tony#', 19), ('scooter#', 19), ('sparkle#', 19), ('bicycle#', 19), ('mask#', 19), ('spoiled#', 19), ('knot#', 19), ('Jeff#', 19), ('helicopter#', 19), ('motor#', 19), ('uniform#', 19), ('video#', 18), ('cared#', 18), ('bananas#', 18), ('guard#', 18), ('crazy#', 18), ('shake#', 18), ('Will#', 18), ('circus#', 18), ('steel#', 18), ('ahead#', 18), ('tripped#', 18), ('shut#', 18), ('octopus#', 18), ('twirled#', 18), ('peach#', 18), ('sparkled#', 18), ('driving#', 18), ('balance#', 18), ('stage#', 18), ('weigh#', 18), ('less#', 18), ('joined#', 18), ('summer#', 18), ('fountain#', 18), ('thunder#', 18), ('mineral#', 18), ('hero#', 18), ('curled#', 18), ('pirates#', 18), ('softly#', 18), ('coins#', 18), ('broccoli#', 18), ('stir#', 18), ('onions#', 18), ('patch#', 18), ('enormous#', 18), ('ranch#', 18), ('steps#', 18), ('cooked#', 18), ('using#', 18), ('order#', 18), ('tomato#', 18), ('sticks#', 18), ('tire#', 18), ('rose#', 18), ('cook#', 18), ('thin#', 18), ('itself#', 18), ('soar#', 18), ('drain#', 18), ('kangaroo#', 18), ('wizard#', 18), ('hotel#', 18), ('spoke#', 18), ('hardly#', 18), ('Whenever#', 18), ('themselves#', 18), ('may#', 18), ('team#', 18), ('Charlie#', 18), ('Jess#', 18), ('cop#', 18), ('Mimi#', 18), ('cabinet#', 18), ('bears#', 18), ('reindeer#', 18), ('Cat#', 18), ('bison#', 18), ('salad#', 17), ('miserable#', 17), ('cheap#', 17), ('showing#', 17), ('unknown#', 17), ('fear#', 17), ('stove#', 17), ('shoulder#', 17), ('telephone#', 17), ('apologized#', 17), ('mark#', 17), ('petted#', 17), ('riding#', 17), ('radishes#', 17), ('attention#', 17), ('lab#', 17), ('reminded#', 17), ('unlock#', 17), ('crab#', 17), ('vet#', 17), ('maybe#', 17), ('meal#', 17), ('wheel#', 17), ('circles#', 17), ('balls#', 17), ('God#', 17), ('rubber#', 17), ('yours#', 17), ('mushroom#', 17), ('houses#', 17), ('dear#', 17), ('invite#', 17), ('ladder#', 17), ('whispered#', 17), ('cord#', 17), ('pigeon#', 17), ('shout#', 17), ('weather#', 17), ('scare#', 17), ('bathroom#', 17), ('ambulance#', 17), ('shiver#', 17), ('tutor#', 17), ('pretending#', 17), ('owned#', 17), ('Happy#', 17), ('Eva#', 17), ('helpless#', 17), ('colours#', 17), ('shouting#', 17), ('spray#', 17), ('breeze#', 17), ('stuff#', 17), ('moments#', 17), ('week#', 17), ('learnt#', 17), ('musician#', 17), ('toes#', 17), ('tube#', 17), ('choose#', 17), ('Ryan#', 17), ('track#', 17), ('gym#', 17), ('comfort#', 16), ('slides#', 16), ('dependable#', 16), ('cover#', 16), ('touching#', 16), ('cheer#', 16), ('pointing#', 16), ('palace#', 16), ('forgave#', 16), ('However#', 16), ('bookcase#', 16), ('hoping#', 16), ('courage#', 16), ('skip#', 16), ('Did#', 16), ('weight#', 16), ('squirrels#', 16), ('perform#', 16), ('Thanks#', 16), ('impatient#', 16), ('helps#', 16), ('Ollie#', 16), ('early#', 16), ('winter#', 16), ('enthusiastic#', 16), ('forth#', 16), ('quite#', 16), ('barking#', 16), ('frowned#', 16), ('bikes#', 16), ('shoot#', 16), ('slid#', 16), ('scolded#', 16), ('distant#', 16), ('times#', 16), ('peek#', 16), ('snap#', 16), ('wandered#', 16), ('heal#', 16), ('fingers#', 16), ('Squirrel#', 16), ('starting#', 16), ('ended#', 16), ('celebrated#', 16), ('neighborhood#', 16), ('stretching#', 16), ('restaurant#', 16), ('tied#', 16), ('welcomed#', 16), ('Red#', 16), ('flood#', 16), ('writing#', 16), ('girls#', 16), ('Penny#', 16), ('sunglasses#', 16), ('hadn#', 16), ('Instead#', 16), ('spirit#', 16), ('point#', 16), ('seed#', 16), ('strawberry#', 16), ('record#', 16), ('waving#', 16), ('received#', 16), ('gate#', 16), ('sock#', 16), ('otter#', 16), ('fisherman#', 16), ('player#', 16), ('Brown#', 16), ('Abigail#', 16), ('Mike#', 16), ('piano#', 16), ('dishwasher#', 16), ('magnet#', 16), ('Mina#', 16), ('mattress#', 16), ('cows#', 15), ('vanished#', 15), ('dreams#', 15), ('belt#', 15), ('dull#', 15), ('paws#', 15), ('mild#', 15), ('climbing#', 15), ('ears#', 15), ('apart#', 15), ('fruits#', 15), ('prize#', 15), ('envious#', 15), ('charming#', 15), ('recognized#', 15), ('weeks#', 15), ('boxes#', 15), ('forgotten#', 15), ('serve#', 15), ('First#', 15), ('ending#', 15), ('rake#', 15), ('prepare#', 15), ('towers#', 15), ('travel#', 15), ('quietly#', 15), ('celery#', 15), ('poked#', 15), ('crawling#', 15), ('envelope#', 15), ('meat#', 15), ('kissed#', 15), ('stolen#', 15), ('hated#', 15), ('below#', 15), ('quick#', 15), ('shows#', 15), ('loyal#', 15), ('permission#', 15), ('pen#', 15), ('proudly#', 15), ('horn#', 15), ('itch#', 15), ('clapping#', 15), ('match#', 15), ('blowing#', 15), ('spade#', 15), ('accepted#', 15), ('second#', 15), ('shopkeeper#', 15), ('warmth#', 15), ('peace#', 15), ('chirping#', 15), ('Everyday#', 15), ('marbles#', 15), ('exam#', 15), ('shade#', 15), ('Jay#', 15), ('city#', 15), ('purse#', 15), ('separate#', 15), ('alarm#', 15), ('visited#', 15), ('glowed#', 15), ('squash#', 15), ('between#', 15), ('Grace#', 15), ('Lulu#', 15), ('makeup#', 15), ('vehicle#', 15), ('jail#', 15), ('bunnies#', 15), ('Susie#', 15), ('turkey#', 15), ('Leo#', 15), ('Roxy#', 14), ('slip#', 14), ('miss#', 14), ('truth#', 14), ('graceful#', 14), ('wool#', 14), ('tour#', 14), ('tear#', 14), ('Me#', 14), ('bandage#', 14), ('fresh#', 14), ('gifted#', 14), ('spring#', 14), ('original#', 14), ('during#', 14), ('judge#', 14), ('frame#', 14), ('grandpa#', 14), ('design#', 14), ('competitive#', 14), ('Remember#', 14), ('sunrise#', 14), ('image#', 14), ('yarn#', 14), ('Christmas#', 14), ('bathtub#', 14), ('cage#', 14), ('hats#', 14), ('papers#', 14), ('cloth#', 14), ('queen#', 14), ('dig#', 14), ('roof#', 14), ('either#', 14), ('wardrobe#', 14), ('evening#', 14), ('beat#', 14), ('lend#', 14), ('organize#', 14), ('kingdom#', 14), ('flour#', 14), ('Smith#', 14), ('seeing#', 14), ('anchor#', 14), ('label#', 14), ('vine#', 14), ('Unfortunately#', 14), ('bent#', 14), ('expected#', 14), ('headed#', 14), ('pistol#', 14), ('grey#', 14), ('ignore#', 14), ('gloomy#', 14), ('cell#', 14), ('Tuesday#', 14), ('Its#', 14), ('numbers#', 14), ('thread#', 14), ('chance#', 14), ('experience#', 14), ('curtain#', 14), ('short#', 14), ('understanding#', 14), ('Claire#', 14), ('boys#', 14), ('collection#', 14), ('journal#', 14), ('wheels#', 14), ('university#', 14), ('mist#', 14), ('Uncle#', 14), ('pour#', 14), ('Jacob#', 14), ('vacation#', 14), ('Bobo#', 14), ('trash#', 14), ('blueberries#', 14), ('laughs#', 14), ('buckle#', 14), ('raven#', 14), ('mop#', 14), ('Chris#', 14), ('Chickie#', 14), ('mug#', 14), ('beans#', 14), ('Bernie#', 14), ('Felix#', 14), ('iron#', 14), ('thoughtful#', 13), ('kick#', 13), ('kicked#', 13), ('stretched#', 13), ('jewelry#', 13), ('remove#', 13), ('lie#', 13), ('uncomfortable#', 13), ('ants#', 13), ('chasing#', 13), ('complain#', 13), ('dug#', 13), ('deeper#', 13), ('shark#', 13), ('class#', 13), ('feelings#', 13), ('provide#', 13), ('nurse#', 13), ('explain#', 13), ('shoe#', 13), ('easily#', 13), ('matches#', 13), ('creatures#', 13), ('gather#', 13), ('dizzy#', 13), ('weighed#', 13), ('barrel#', 13), ('space#', 13), ('avocado#', 13), ('flapped#', 13), ('given#', 13), ('peeked#', 13), ('bark#', 13), ('motorcycle#', 13), ('admire#', 13), ('brush#', 13), ('wing#', 13), ('shocked#', 13), ('lollipop#', 13), ('stops#', 13), ('sandbox#', 13), ('tucked#', 13), ('shakes#', 13), ('chickens#', 13), ('guess#', 13), ('names#', 13), ('adorable#', 13), ('exit#', 13), ('object#', 13), ('poppy#', 13), ('word#', 13), ('eagle#', 13), ('eaten#', 13), ('holiday#', 13), ('mitten#', 13), ('maze#', 13), ('ghost#', 13), ('grape#', 13), ('glowing#', 13), ('wishes#', 13), ('barber#', 13), ('remind#', 13), ('scooped#', 13), ('immediately#', 13), ('mummy#', 13), ('People#', 13), ('created#', 13), ('kayak#', 13), ('memories#', 13), ('cactus#', 13), ('Each#', 13), ('rise#', 13), ('decorations#', 13), ('studying#', 13), ('discover#', 13), ('discovery#', 13), ('minute#', 13), ('available#', 13), ('pearl#', 13), ('Milly#', 13), ('shouldn#', 13), ('attach#', 13), ('notebook#', 13), ('explored#', 13), ('brain#', 13), ('Rose#', 13), ('bringing#', 13), ('mighty#', 13), ('Sophie#', 13), ('Rabbit#', 13), ('subway#', 13), ('hose#', 13), ('Mandy#', 13), ('Abi#', 13), ('poem#', 13), ('wire#', 13), ('burn#', 12), ('collar#', 12), ('map#', 12), ('tap#', 12), ('believed#', 12), ('intelligent#', 12), ('fetch#', 12), ('permit#', 12), ('monkeys#', 12), ('meowed#', 12), ('yucky#', 12), ('knowledge#', 12), ('nobody#', 12), ('chewed#', 12), ('gifts#', 12), ('attractive#', 12), ('anywhere#', 12), ('mystery#', 12), ('Yay#', 12), ('future#', 12), ('Ellie#', 12), ('cups#', 12), ('surfing#', 12), ('disappear#', 12), ('add#', 12), ('complete#', 12), ('shaking#', 12), ('hurting#', 12), ('kisses#', 12), ('nods#', 12), ('marks#', 12), ('holds#', 12), ('unhappy#', 12), ('dessert#', 12), ('lips#', 12), ('boots#', 12), ('opens#', 12), ('relax#', 12), ('safety#', 12), ('falls#', 12), ('accident#', 12), ('Olive#', 12), ('knock#', 12), ('cooler#', 12), ('jug#', 12), ('card#', 12), ('onion#', 12), ('crocodile#', 12), ('coffee#', 12), ('deliver#', 12), ('flat#', 12), ('thorn#', 12), ('jazz#', 12), ('fallen#', 12), ('pill#', 12), ('entered#', 12), ('sailing#', 12), ('sailor#', 12), ('brighter#', 12), ('straight#', 12), ('offer#', 12), ('teasing#', 12), ('shape#', 12), ('since#', 12), ('strength#', 12), ('Jamie#', 12), ('five#', 12), ('disturbed#', 12), ('reminder#', 12), ('luxury#', 12), ('approached#', 12), ('measuring#', 12), ('beneath#', 12), ('wondering#', 12), ('dictionary#', 12), ('mule#', 12), ('cane#', 12), ('oak#', 12), ('jet#', 12), ('Pippy#', 12), ('May#', 12), ('clearing#', 12), ('Kiki#', 12), ('pin#', 12), ('decorate#', 12), ('chipmunk#', 12), ('tape#', 12), ('Dull#', 12), ('steak#', 12), ('chimney#', 12), ('chain#', 12), ('polar#', 12), ('rough#', 12), ('crown#', 12), ('paused#', 12), ('thermometer#', 12), ('planet#', 12), ('candles#', 12), ('bathe#', 12), ('feather#', 12), ('helmet#', 12), ('yoga#', 12), ('laces#', 12), ('Nina#', 12), ('Lenny#', 12), ('polish#', 11), ('candle#', 11), ('lemon#', 11), ('hay#', 11), ('skull#', 11), ('porch#', 11), ('replace#', 11), ('gazed#', 11), ('staring#', 11), ('zebra#', 11), ('struggling#', 11), ('cushion#', 11), ('fold#', 11), ('fishes#', 11), ('following#', 11), ('bumped#', 11), ('blankets#', 11), ('leash#', 11), ('scratched#', 11), ('ignored#', 11), ('hurry#', 11), ('Crabby#', 11), ('underground#', 11), ('wherever#', 11), ('flavor#', 11), ('disagreed#', 11), ('Santa#', 11), ('watered#', 11), ('cable#', 11), ('checked#', 11), ('shelter#', 11), ('ship#', 11), ('metal#', 11), ('kindly#', 11), ('zipper#', 11), ('demanded#', 11), ('starts#', 11), ('jumps#', 11), ('Ant#', 11), ('Time#', 11), ('regret#', 11), ('apron#', 11), ('responsible#', 11), ('boo#', 11), ('batter#', 11), ('balanced#', 11), ('dried#', 11), ('completed#', 11), ('staying#', 11), ('sort#', 11), ('lizard#', 11), ('destroyed#', 11), ('hoop#', 11), ('dish#', 11), ('drop#', 11), ('clap#', 11), ('pair#', 11), ('bravely#', 11), ('museum#', 11), ('gotten#', 11), ('yawned#', 11), ('Ok#', 11), ('invitation#', 11), ('knelt#', 11), ('Wait#', 11), ('support#', 11), ('remained#', 11), ('poke#', 11), ('sweater#', 11), ('shine#', 11), ('valley#', 11), ('company#', 11), ('spending#', 11), ('claws#', 11), ('comfy#', 11), ('pages#', 11), ('mission#', 11), ('ideas#', 11), ('difference#', 11), ('napkin#', 11), ('lemonade#', 11), ('popcorn#', 11), ('spell#', 11), ('refreshed#', 11), ('These#', 11), ('known#', 11), ('Ruby#', 11), ('fuel#', 11), ('sport#', 11), ('For#', 11), ('rug#', 11), ('cautiously#', 11), ('pony#', 11), ('Frank#', 11), ('pastry#', 11), ('blackboard#', 11), ('tub#', 11), ('gun#', 11), ('Pippin#', 11), ('zigzag#', 11), ('Rosy#', 11), ('Maya#', 11), ('Matt#', 11), ('Allie#', 11), ('Buddy#', 10), ('oats#', 10), ('bees#', 10), ('faucet#', 10), ('Mmm#', 10), ('Sadly#', 10), ('earthquake#', 10), ('punish#', 10), ('trail#', 10), ('happiest#', 10), ('Finny#', 10), ('pole#', 10), ('fishing#', 10), ('investigate#', 10), ('actually#', 10), ('panic#', 10), ('solution#', 10), ('delay#', 10), ('Luckily#', 10), ('improve#', 10), ('rained#', 10), ('resist#', 10), ('practicing#', 10), ('rhythm#', 10), ('potatoes#', 10), ('jokes#', 10), ('belongs#', 10), ('growled#', 10), ('shivered#', 10), ('gasped#', 10), ('shivering#', 10), ('sweeties#', 10), ('send#', 10), ('crayon#', 10), ('cone#', 10), ('tongue#', 10), ('refrigerator#', 10), ('zooming#', 10), ('fixing#', 10), ('scratch#', 10), ('melted#', 10), ('Like#', 10), ('flies#', 10), ('Is#', 10), ('breaks#', 10), ('stable#', 10), ('beside#', 10), ('buried#', 10), ('digging#', 10), ('ve#', 10), ('ups#', 10), ('surrounded#', 10), ('hanging#', 10), ('stranger#', 10), ('Blue#', 10), ('mosquito#', 10), ('youth#', 10), ('planned#', 10), ('haircut#', 10), ('Monica#', 10), ('shopping#', 10), ('Tigger#', 10), ('somebody#', 10), ('floating#', 10), ('humans#', 10), ('Josh#', 10), ('marriage#', 10), ('safari#', 10), ('theater#', 10), ('challenge#', 10), ('sent#', 10), ('exactly#', 10), ('square#', 10), ('sneezed#', 10), ('weren#', 10), ('heel#', 10), ('birdcage#', 10), ('myself#', 10), ('buzzing#', 10), ('surface#', 10), ('overjoyed#', 10), ('built#', 10), ('secrets#', 10), ('turning#', 10), ('Jerry#', 10), ('pressed#', 10), ('vowed#', 10), ('awe#', 10), ('everyday#', 10), ('billboard#', 10), ('boot#', 10), ('somewhere#', 10), ('relief#', 10), ('memory#', 10), ('leak#', 10), ('rabbits#', 10), ('screen#', 10), ('dead#', 10), ('sweets#', 10), ('candies#', 10), ('unicorn#', 10), ('Nutty#', 10), ('yogurt#', 10), ('law#', 10), ('filthy#', 10), ('contain#', 10), ('request#', 10), ('shower#', 10), ('battery#', 10), ('opera#', 10), ('human#', 10), ('wisdom#', 10), ('accept#', 10), ('sped#', 10), ('shrink#', 10), ('pasta#', 10), ('movies#', 10), ('creek#', 10), ('Piggie#', 10), ('taller#', 10), ('oranges#', 10), ('rod#', 10), ('silver#', 10), ('Amelia#', 10), ('waffle#', 10), ('hockey#', 10), ('Tuna#', 10), ('Rani#', 10), ('Tia#', 10), ('Matilda#', 10), ('jogging#', 10), ('David#', 10), ('Joy#', 10), ('ow#', 10), ('carts#', 10), ('Katy#', 10), ('Linda#', 10), ('Mamma#', 10), ('Frankie#', 10), ('Hootie#', 10), ('gloves#', 9), ('freeze#', 9), ('seeds#', 9), ('Toot#', 9), ('bookshelf#', 9), ('camping#', 9), ('laughter#', 9), ('nightmare#', 9), ('appreciate#', 9), ('whip#', 9), ('hers#', 9), ('peel#', 9), ('question#', 9), ('counter#', 9), ('imagination#', 9), ('reading#', 9), ('helper#', 9), ('cereal#', 9), ('arguing#', 9), ('patience#', 9), ('success#', 9), ('desk#', 9), ('argue#', 9), ('raise#', 9), ('speak#', 9), ('doors#', 9), ('Bambi#', 9), ('sore#', 9), ('parked#', 9), ('solved#', 9), ('awake#', 9), ('earth#', 9), ('pajamas#', 9), ('teaching#', 9), ('unlocked#', 9), ('suffering#', 9), ('prevent#', 9), ('dishes#', 9), ('crashed#', 9), ('tangled#', 9), ('crunchy#', 9), ('sip#', 9), ('presents#', 9), ('supposed#', 9), ('alive#', 9), ('blood#', 9), ('darker#', 9), ('observe#', 9), ('crack#', 9), ('swans#', 9), ('file#', 9), ('begged#', 9), ('Something#', 9), ('cutting#', 9), ('picks#', 9), ('thanks#', 9), ('steep#', 9), ('regretted#', 9), ('cliff#', 9), ('rules#', 9), ('curiosity#', 9), ('skills#', 9), ('improved#', 9), ('bang#', 9), ('Because#', 9), ('shrugged#', 9), ('voices#', 9), ('Eat#', 9), ('toilet#', 9), ('raindrops#', 9), ('twisted#', 9), ('laid#', 9), ('leaning#', 9), ('choice#', 9), ('saving#', 9), ('chirped#', 9), ('baking#', 9), ('Bubbles#', 9), ('officers#', 9), ('birdie#', 9), ('keeping#', 9), ('measured#', 9), ('superhero#', 9), ('oatmeal#', 9), ('tore#', 9), ('worms#', 9), ('Stripey#', 9), ('windows#', 9), ('plans#', 9), ('praised#', 9), ('figured#', 9), ('wander#', 9), ('teaches#', 9), ('revealed#', 9), ('Everybody#', 9), ('weep#', 9), ('Jones#', 9), ('homes#', 9), ('landscape#', 9), ('Kate#', 9), ('sliding#', 9), ('downstairs#', 9), ('alright#', 9), ('studied#', 9), ('scurried#', 9), ('relaxed#', 9), ('crept#', 9), ('Tam#', 9), ('wooden#', 9), ('growling#', 9), ('math#', 9), ('eagerly#', 9), ('backwards#', 9), ('Whiskers#', 9), ('setting#', 9), ('spark#', 9), ('Farmer#', 9), ('Tucker#', 9), ('Jean#', 9), ('entire#', 9), ('Gizmo#', 9), ('Jessie#', 9), ('bother#', 9), ('aeroplane#', 9), ('cosy#', 9), ('club#', 9), ('chubby#', 9), ('ashtray#', 9), ('Luggage#', 9), ('plastic#', 9), ('unite#', 9), ('crossed#', 9), ('Abbie#', 9), ('Louise#', 9), ('novel#', 9), ('x#', 9), ('ray#', 9), ('model#', 9), ('veterinarian#', 9), ('prepared#', 9), ('pilot#', 9), ('Anne#', 9), ('holes#', 9), ('Bucky#', 9), ('cuddled#', 9), ('Mira#', 9), ('mall#', 9), ('dinosaurs#', 9), ('isn#', 9), ('diary#', 9), ('True#', 9), ('engine#', 9), ('Tilly#', 9), ('ten#', 9), ('camp#', 9), ('Zara#', 9), ('insisted#', 9), ('Maria#', 9), ('Percy#', 9), ('Momo#', 9), ('screw#', 9), ('Jeremy#', 9), ('nation#', 9), ('penguins#', 9), ('Sunny#', 9), ('Sid#', 9), ('Anya#', 9), ('Nell#', 9), ('Kitty#', 8), ('wipe#', 8), ('cakes#', 8), ('frosting#', 8), ('sprinkles#', 8), ('station#', 8), ('bet#', 8), ('trick#', 8), ('Buzzy#', 8), ('tastes#', 8), ('marching#', 8), ('trains#', 8), ('caused#', 8), ('statue#', 8), ('stripes#', 8), ('emergency#', 8), ('yell#', 8), ('purred#', 8), ('gain#', 8), ('argued#', 8), ('Otto#', 8), ('swept#', 8), ('fought#', 8), ('broom#', 8), ('outfit#', 8), ('patiently#', 8), ('treasures#', 8), ('performed#', 8), ('strike#', 8), ('creating#', 8), ('Owl#', 8), ('yesterday#', 8), ('fascinated#', 8), ('caring#', 8), ('theirs#', 8), ('Leave#', 8), ('brushed#', 8), ('safer#', 8), ('barks#', 8), ('Ow#', 8), ('lid#', 8), ('frown#', 8), ('post#', 8), ('parts#', 8), ('breathe#', 8), ('admiring#', 8), ('crumbs#', 8), ('fed#', 8), ('wasted#', 8), ('aunt#', 8), ('beard#', 8), ('teaspoon#', 8), ('settle#', 8), ('drifted#', 8), ('pockets#', 8), ('Bee#', 8), ('pit#', 8), ('cuddle#', 8), ('stole#', 8), ('plumber#', 8), ('Johnson#', 8), ('Finn#', 8), ('muffins#', 8), ('shrimp#', 8), ('ourselves#', 8), ('balancing#', 8), ('scattered#', 8), ('letting#', 8), ('Have#', 8), ('appear#', 8), ('texture#', 8), ('medal#', 8), ('chores#', 8), ('modest#', 8), ('stuffed#', 8), ('pause#', 8), ('pants#', 8), ('paddled#', 8), ('gust#', 8), ('sigh#', 8), ('split#', 8), ('highest#', 8), ('gear#', 8), ('truly#', 8), ('talent#', 8), ('dressed#', 8), ('collected#', 8), ('history#', 8), ('mistakes#', 8), ('pouring#', 8), ('shadow#', 8), ('seats#', 8), ('soak#', 8), ('melt#', 8), ('loaded#', 8), ('settled#', 8), ('sunlight#', 8), ('shock#', 8), ('glee#', 8), ('peered#', 8), ('surfboard#', 8), ('pastels#', 8), ('pupil#', 8), ('melon#', 8), ('Afterwards#', 8), ('sold#', 8), ('Mikey#', 8), ('disturb#', 8), ('Janey#', 8), ('Tess#', 8), ('puzzle#', 8), ('elder#', 8), ('darkness#', 8), ('keys#', 8), ('pine#', 8), ('prunes#', 8), ('Hatty#', 8), ('neighbour#', 8), ('arrow#', 8), ('upstairs#', 8), ('Black#', 8), ('budge#', 8), ('thrilled#', 8), ('trampoline#', 8), ('Queen#', 8), ('Paul#', 8), ('visiting#', 8), ('complaining#', 8), ('fastest#', 8), ('drops#', 8), ('laser#', 8), ('winning#', 8), ('Cow#', 8), ('blinked#', 8), ('kitty#', 8), ('furniture#', 8), ('blooming#', 8), ('usually#', 8), ('waffles#', 8), ('leaned#', 8), ('Rosemary#', 8), ('weapon#', 8), ('Harriet#', 8), ('quarrel#', 8), ('sir#', 8), ('parent#', 8), ('hunt#', 8), ('clock#', 8), ('Laure#', 8), ('Chloe#', 8), ('Hannah#', 8), ('Flipper#', 8), ('pushes#', 8), ('ribbons#', 8), ('sense#', 8), ('Beth#', 8), ('Bopus#', 8), ('Mop#', 8), ('peasant#', 8), ('Ali#', 8), ('panda#', 8), ('Olivia#', 8), ('Kris#', 8), ('kneeled#', 7), ('wreck#', 7), ('squeeze#', 7), ('succeeded#', 7), ('jogged#', 7), ('steam#', 7), ('lions#', 7), ('soil#', 7), ('trapped#', 7), ('catching#', 7), ('dreamt#', 7), ('agree#', 7), ('none#', 7), ('sparkles#', 7), ('peaches#', 7), ('officer#', 7), ('pepper#', 7), ('characters#', 7), ('importance#', 7), ('willing#', 7), ('float#', 7), ('properly#', 7), ('goodnight#', 7), ('powers#', 7), ('castles#', 7), ('guys#', 7), ('restless#', 7), ('motorcycles#', 7), ('nodding#', 7), ('10#', 7), ('1#', 7), ('Someone#', 7), ('sighs#', 7), ('letters#', 7), ('mister#', 7), ('someday#', 7), ('Really#', 7), ('bars#', 7), ('sniffed#', 7), ('finds#', 7), ('brings#', 7), ('heads#', 7), ('worse#', 7), ('demand#', 7), ('pumpkins#', 7), ('calls#', 7), ('sticky#', 7), ('repeat#', 7), ('pigeons#', 7), ('encouraged#', 7), ('vegetable#', 7), ('earn#', 7), ('accidents#', 7), ('signed#', 7), ('accomplished#', 7), ('swooped#', 7), ('soldiers#', 7), ('country#', 7), ('rail#', 7), ('chip#', 7), ('slice#', 7), ('perched#', 7), ('drinking#', 7), ('strangers#', 7), ('removed#', 7), ('ostrich#', 7), ('feeding#', 7), ('destination#', 7), ('ribbon#', 7), ('rising#', 7), ('struggled#', 7), ('thumbs#', 7), ('Ratty#', 7), ('pancakes#', 7), ('problems#', 7), ('Kara#', 7), ('An#', 7), ('peanut#', 7), ('prayed#', 7), ('shot#', 7), ('insect#', 7), ('dare#', 7), ('surprises#', 7), ('sprayed#', 7), ('sausage#', 7), ('costume#', 7), ('satisfied#', 7), ('ash#', 7), ('becoming#', 7), ('instructions#', 7), ('squeezed#', 7), ('pulling#', 7), ('squealed#', 7), ('secure#', 7), ('luck#', 7), ('rewarded#', 7), ('shined#', 7), ('slimy#', 7), ('chairs#', 7), ('pebbles#', 7), ('trades#', 7), ('palm#', 7), ('soaked#', 7), ('patted#', 7), ('sparrow#', 7), ('collecting#', 7), ('Slowly#', 7), ('possible#', 7), ('printer#', 7), ('written#', 7), ('creations#', 7), ('twigs#', 7), ('mama#', 7), ('port#', 7), ('Zac#', 7), ('activity#', 7), ('bunch#', 7), ('exhausted#', 7), ('oysters#', 7), ('recorded#', 7), ('shovel#', 7), ('destroy#', 7), ('discuss#', 7), ('wonders#', 7), ('snakes#', 7), ('Put#', 7), ('Bubba#', 7), ('chamber#', 7), ('crib#', 7), ('microphone#', 7), ('Gigi#', 7), ('printed#', 7), ('cartoon#', 7), ('mustache#', 7), ('damage#', 7), ('twinkle#', 7), ('yielded#', 7), ('radish#', 7), ('receive#', 7), ('workers#', 7), ('hurried#', 7), ('Firecat#', 7), ('Paw#', 7), ('dragged#', 7), ('oh#', 7), ('barely#', 7), ('outdoors#', 7), ('photo#', 7), ('Helen#', 7), ('mailman#', 7), ('hurricanes#', 7), ('acted#', 7), ('Cora#', 7), ('pride#', 7), ('Lisa#', 7), ('Liza#', 7), ('cherries#', 7), ('load#', 7), ('prune#', 7), ('Terry#', 7), ('missile#', 7), ('delivery#', 7), ('bloomed#', 7), ('bridges#', 7), ('Polly#', 7), ('Pepper#', 7), ('yawn#', 7), ('ruler#', 7), ('pastries#', 7), ('Listen#', 7), ('waste#', 7), ('selling#', 7), ('ranger#', 7), ('grill#', 7), ('scarecrow#', 7), ('olive#', 7), ('bulls#', 7), ('swamp#', 7), ('bouncy#', 7), ('Adele#', 7), ('Marie#', 7), ('Jackie#', 7), ('Samantha#', 7), ('Pat#', 7), ('Johnnie#', 7), ('Jemma#', 7), ('King#', 7), ('gas#', 7), ('oil#', 7), ('rotten#', 7), ('duckling#', 7), ('kites#', 7), ('Baa#', 7), ('soldier#', 7), ('Rudolph#', 7), ('collector#', 7), ('Patty#', 7), ('war#', 7), ('Dolly#', 7), ('Shelly#', 7), ('burger#', 7), ('Sparky#', 7), ('Squeaky#', 7), ('Spike#', 7), ('William#', 7), ('Baloo#', 7), ('rhinoceros#', 6), ('decorated#', 6), ('surrender#', 6), ('score#', 6), ('swung#', 6), ('unpack#', 6), ('tonight#', 6), ('cocoa#', 6), ('torn#', 6), ('language#', 6), ('ripe#', 6), ('loose#', 6), ('apologize#', 6), ('folded#', 6), ('swallowed#', 6), ('rides#', 6), ('protected#', 6), ('rooms#', 6), ('slapped#', 6), ('edges#', 6), ('washing#', 6), ('Yum#', 6), ('packing#', 6), ('backpack#', 6), ('tracks#', 6), ('released#', 6), ('fireman#', 6), ('salty#', 6), ('tugged#', 6), ('breaking#', 6), ('shed#', 6), ('jewels#', 6), ('beginning#', 6), ('happens#', 6), ('tremble#', 6), ('2#', 6), ('boom#', 6), ('tug#', 6), ('misses#', 6), ('shouts#', 6), ('yelling#', 6), ('Aunt#', 6), ('lives#', 6), ('wags#', 6), ('stealing#', 6), ('crash#', 6), ('throws#', 6), ('cheering#', 6), ('introduced#', 6), ('leader#', 6), ('Days#', 6), ('colored#', 6), ('hate#', 6), ('cashier#', 6), ('discussing#', 6), ('spiders#', 6), ('Carl#', 6), ('muffin#', 6), ('wanting#', 6), ('suffer#', 6), ('babysitter#', 6), ('bedtime#', 6), ('lick#', 6), ('scaring#', 6), ('observed#', 6), ('Miss#', 6), ('logs#', 6), ('moves#', 6), ('Always#', 6), ('event#', 6), ('spear#', 6), ('imagining#', 6), ('died#', 6), ('cape#', 6), ('diamond#', 6), ('Both#', 6), ('Summer#', 6), ('By#', 6), ('stirring#', 6), ('sandcastle#', 6), ('competition#', 6), ('Ameli#', 6), ('spoil#', 6), ('peanuts#', 6), ('coloured#', 6), ('super#', 6), ('accomplishment#', 6), ('librarian#', 6), ('elephants#', 6), ('chief#', 6), ('pencils#', 6), ('determination#', 6), ('sheet#', 6), ('gathering#', 6), ('operation#', 6), ('prove#', 6), ('buying#', 6), ('shoulders#', 6), ('backed#', 6), ('poking#', 6), ('Welcome#', 6), ('neighbourhood#', 6), ('Take#', 6), ('row#', 6), ('soaring#', 6), ('flap#', 6), ('Nothing#', 6), ('copper#', 6), ('rubbing#', 6), ('nasty#', 6), ('tighter#', 6), ('sparkling#', 6), ('precious#', 6), ('inviting#', 6), ('Charlotte#', 6), ('center#', 6), ('least#', 6), ('onwards#', 6), ('everybody#', 6), ('cardboard#', 6), ('rush#', 6), ('colour#', 6), ('folder#', 6), ('sneeze#', 6), ('cause#', 6), ('hurricane#', 6), ('ringing#', 6), ('Without#', 6), ('peeking#', 6), ('snapped#', 6), ('amazement#', 6), ('Joanne#', 6), ('crossing#', 6), ('freezer#', 6), ('Burt#', 6), ('whatever#', 6), ('lotion#', 6), ('entrance#', 6), ('yield#', 6), ('comforted#', 6), ('reverse#', 6), ('poison#', 6), ('festival#', 6), ('rustling#', 6), ('Jan#', 6), ('prevented#', 6), ('warning#', 6), ('scatter#', 6), ('encouraging#', 6), ('attacked#', 6), ('easier#', 6), ('jars#', 6), ('repaired#', 6), ('Maddie#', 6), ('urge#', 6), ('performance#', 6), ('Margaret#', 6), ('reluctantly#', 6), ('George#', 6), ('control#', 6), ('release#', 6), ('Daniel#', 6), ('dresses#', 6), ('creation#', 6), ('pinched#', 6), ('ink#', 6), ('fog#', 6), ('sisters#', 6), ('struck#', 6), ('porridge#', 6), ('coach#', 6), ('junk#', 6), ('supply#', 6), ('snuck#', 6), ('crystal#', 6), ('covering#', 6), ('nearly#', 6), ('strawberries#', 6), ('newfound#', 6), ('skipping#', 6), ('requested#', 6), ('waddled#', 6), ('church#', 6), ('swaying#', 6), ('ceiling#', 6), ('eats#', 6), ('oxygen#', 6), ('guy#', 6), ('pigs#', 6), ('socks#', 6), ('Bobbi#', 6), ('Willie#', 6), ('kneel#', 6), ('prayers#', 6), ('dolphins#', 6), ('explorer#', 6), ('Ralph#', 6), ('Lucky#', 6), ('Brooke#', 6), ('Coal#', 6), ('Bluey#', 6), ('writer#', 6), ('hanger#', 6), ('chef#', 6), ('gumball#', 6), ('stamps#', 6), ('Stacy#', 6), ('Janessa#', 6), ('Elsa#', 6), ('Stuart#', 6), ('Elle#', 6), ('seagull#', 6), ('teacup#', 6), ('calendar#', 6), ('Rosie#', 6), ('Cathy#', 6), ('hills#', 5), ('Rover#', 5), ('frozen#', 5), ('planted#', 5), ('Puff#', 5), ('sting#', 5), ('splashes#', 5), ('overcome#', 5), ('sharks#', 5), ('machines#', 5), ('cuddly#', 5), ('served#', 5), ('teased#', 5), ('gained#', 5), ('tentacles#', 5), ('losing#', 5), ('wagging#', 5), ('mice#', 5), ('thunderstorm#', 5), ('hissed#', 5), ('amount#', 5), ('minerals#', 5), ('froze#', 5), ('cheeks#', 5), ('raked#', 5), ('resisted#', 5), ('unfortunately#', 5), ('During#', 5), ('area#', 5), ('doctors#', 5), ('achieve#', 5), ('pop#', 5), ('patterns#', 5), ('ours#', 5), ('pedal#', 5), ('spots#', 5), ('wiggled#', 5), ('reeds#', 5), ('8#', 5), ('mailed#', 5), ('plates#', 5), ('lets#', 5), ('reaches#', 5), ('actions#', 5), ('climbs#', 5), ('watches#', 5), ('hive#', 5), ('insects#', 5), ('firefighter#', 5), ('ruining#', 5), ('third#', 5), ('smelling#', 5), ('cupcakes#', 5), ('rid#', 5), ('faraway#', 5), ('organizing#', 5), ('hall#', 5), ('acting#', 5), ('greedy#', 5), ('ordered#', 5), ('screaming#', 5), ('stumble#', 5), ('resting#', 5), ('included#', 5), ('itchy#', 5), ('victory#', 5), ('knees#', 5), ('allow#', 5), ('Ouch#', 5), ('nicer#', 5), ('soared#', 5), ('toward#', 5), ('price#', 5), ('meals#', 5), ('violin#', 5), ('sandpit#', 5), ('agreement#', 5), ('Two#', 5), ('stomach#', 5), ('rocked#', 5), ('decision#', 5), ('plenty#', 5), ('cabin#', 5), ('naps#', 5), ('nails#', 5), ('Moral#', 5), ('Being#', 5), ('reality#', 5), ('Rain#', 5), ('stacked#', 5), ('striped#', 5), ('burning#', 5), ('costumes#', 5), ('daring#', 5), ('wedding#', 5), ('harm#', 5), ('reaching#', 5), ('clowns#', 5), ('sorting#', 5), ('neatly#', 5), ('Becky#', 5), ('mentioned#', 5), ('offering#', 5), ('handsome#', 5), ('conflict#', 5), ('Chirpy#', 5), ('beamed#', 5), ('fascinating#', 5), ('bravest#', 5), ('spreading#', 5), ('horizon#', 5), ('munching#', 5), ('grandmother#', 5), ('underneath#', 5), ('steady#', 5), ('Until#', 5), ('sprinkled#', 5), ('chess#', 5), ('bean#', 5), ('fabric#', 5), ('pan#', 5), ('awhile#', 5), ('snail#', 5), ('film#', 5), ('adults#', 5), ('trading#', 5), ('business#', 5), ('scratching#', 5), ('mesmerized#', 5), ('smarter#', 5), ('Susy#', 5), ('tricky#', 5), ('strongest#', 5), ('traffic#', 5), ('tissue#', 5), ('separated#', 5), ('flight#', 5), ('bank#', 5), ('half#', 5), ('loving#', 5), ('Juno#', 5), ('perfume#', 5), ('manage#', 5), ('closing#', 5), ('gaze#', 5), ('scampered#', 5), ('dust#', 5), ('however#', 5), ('Ricky#', 5), ('blinking#', 5), ('toe#', 5), ('sneak#', 5), ('Still#', 5), ('intrigued#', 5), ('whisper#', 5), ('lecture#', 5), ('restore#', 5), ('lawn#', 5), ('hearts#', 5), ('tornado#', 5), ('corners#', 5), ('neighbors#', 5), ('roaring#', 5), ('deal#', 5), ('freedom#', 5), ('discovering#', 5), ('weekend#', 5), ('Dr#', 5), ('Hoot#', 5), ('Grump#', 5), ('trailer#', 5), ('Sunshine#', 5), ('grand#', 5), ('Gary#', 5), ('bakery#', 5), ('stays#', 5), ('bye#', 5), ('works#', 5), ('hearing#', 5), ('Jasper#', 5), ('inspired#', 5), ('reason#', 5), ('stamped#', 5), ('age#', 5), ('tickle#', 5), ('Grandson#', 5), ('Alexis#', 5), ('shadows#', 5), ('singer#', 5), ('mountains#', 5), ('winked#', 5), ('encourage#', 5), ('flame#', 5), ('watermelon#', 5), ('maker#', 5), ('smells#', 5), ('points#', 5), ('Excuse#', 5), ('mouths#', 5), ('sides#', 5), ('Or#', 5), ('grandparents#', 5), ('Uh#', 5), ('Enjoy#', 5), ('sings#', 5), ('Try#', 5), ('grandparent#', 5), ('ago#', 5), ('tunnels#', 5), ('escaped#', 5), ('chop#', 5), ('thumb#', 5), ('Lilli#', 5), ('Lizzie#', 5), ('dolly#', 5), ('science#', 5), ('Jonny#', 5), ('hike#', 5), ('attached#', 5), ('golf#', 5), ('powder#', 5), ('mixing#', 5), ('glider#', 5), ('Ms#', 5), ('cub#', 5), ('succeed#', 5), ('opinion#', 5), ('behave#', 5), ('Cory#', 5), ('bowed#', 5), ('dresser#', 5), ('menu#', 5), ('sits#', 5), ('hits#', 5), ('coupon#', 5), ('shaped#', 5), ('stair#', 5), ('Man#', 5), ('ladybug#', 5), ('Beebee#', 5), ('Gina#', 5), ('firework#', 5), ('Abby#', 5), ('badger#', 5), ('piñata#', 5), ('reindeers#', 5), ('Meg#', 5), ('000#', 5), ('inches#', 5), ('Mel#', 5), ('Yolanda#', 5), ('JoJo#', 5), ('Lion#', 5), ('bin#', 5), ('Bossy#', 5), ('mixer#', 5), ('Raya#', 5), ('Melissa#', 5), ('Brandy#', 5), ('Ruth#', 5), ('Chef#', 5), ('Amanda#', 5), ('struggle#', 4), ('cooled#', 4), ('chick#', 4), ('brand#', 4), ('thanking#', 4), ('Factory#', 4), ('burned#', 4), ('magazines#', 4), ('dared#', 4), ('nervously#', 4), ('untied#', 4), ('lined#', 4), ('matched#', 4), ('earlier#', 4), ('survive#', 4), ('cheek#', 4), ('joyful#', 4), ('scoop#', 4), ('dough#', 4), ('burnt#', 4), ('bouquet#', 4), ('license#', 4), ('forehead#', 4), ('exercise#', 4), ('15#', 4), ('healthier#', 4), ('structure#', 4), ('gears#', 4), ('increase#', 4), ('unexpected#', 4), ('grocery#', 4), ('Monkey#', 4), ('proper#', 4), ('sweep#', 4), ('pleasure#', 4), ('provided#', 4), ('firemen#', 4), ('disagree#', 4), ('rule#', 4), ('examined#', 4), ('sneaked#', 4), ('warmer#', 4), ('Nice#', 4), ('grabs#', 4), ('brushes#', 4), ('rainy#', 4), ('flavors#', 4), ('arrive#', 4), ('spoons#', 4), ('burst#', 4), ('keeps#', 4), ('paths#', 4), ('bumpy#', 4), ('aside#', 4), ('snatched#', 4), ('licks#', 4), ('Oops#', 4), ('ruin#', 4), ('honk#', 4), ('families#', 4), ('catches#', 4), ('stickers#', 4), ('boss#', 4), ('repeated#', 4), ('pat#', 4), ('argument#', 4), ('Wednesday#', 4), ('hopscotch#', 4), ('blades#', 4), ('matters#', 4), ('laying#', 4), ('prettier#', 4), ('cards#', 4), ('bites#', 4), ('Sharing#', 4), ('beef#', 4), ('crowd#', 4), ('postman#', 4), ('lollipops#', 4), ('adding#', 4), ('slices#', 4), ('stitch#', 4), ('wealth#', 4), ('tying#', 4), ('Yummy#', 4), ('fishy#', 4), ('experienced#', 4), ('tigers#', 4), ('youngest#', 4), ('saxophone#', 4), ('instrument#', 4), ('chips#', 4), ('forgetting#', 4), ('afford#', 4), ('bones#', 4), ('chatting#', 4), ('markers#', 4), ('berry#', 4), ('passing#', 4), ('Sunday#', 4), ('chilly#', 4), ('paddling#', 4), ('Back#', 4), ('unpacked#', 4), ('heartbroken#', 4), ('streams#', 4), ('skill#', 4), ('Birthday#', 4), ('giggling#', 4), ('praying#', 4), ('watering#', 4), ('filling#', 4), ('shelves#', 4), ('straw#', 4), ('mailbox#', 4), ('racing#', 4), ('faced#', 4), ('peck#', 4), ('including#', 4), ('gazing#', 4), ('Keep#', 4), ('twinkling#', 4), ('temptation#', 4), ('toolbox#', 4), ('fantastic#', 4), ('flames#', 4), ('heading#', 4), ('root#', 4), ('leapt#', 4), ('impossible#', 4), ('drums#', 4), ('Feeling#', 4), ('welcoming#', 4), ('baked#', 4), ('grinned#', 4), ('frogs#', 4), ('hopes#', 4), ('usual#', 4), ('cottage#', 4), ('travels#', 4), ('breathed#', 4), ('hunting#', 4), ('polished#', 4), ('automobile#', 4), ('seatbelt#', 4), ('Yeah#', 4), ('anytime#', 4), ('seems#', 4), ('Grandmother#', 4), ('shall#', 4), ('palms#', 4), ('kicking#', 4), ('celebration#', 4), ('stare#', 4), ('fault#', 4), ('7#', 4), ('conquered#', 4), ('lean#', 4), ('Darnell#', 4), ('minded#', 4), ('Katrine#', 4), ('appreciation#', 4), ('gonna#', 4), ('frowning#', 4), ('afterwards#', 4), ('Many#', 4), ('travelled#', 4), ('recording#', 4), ('bury#', 4), ('seesaw#', 4), ('softest#', 4), ('calming#', 4), ('Mister#', 4), ('Marley#', 4), ('crane#', 4), ('treehouse#', 4), ('reply#', 4), ('Another#', 4), ('fork#', 4), ('flip#', 4), ('wandering#', 4), ('soccer#', 4), ('piggy#', 4), ('symbol#', 4), ('Ew#', 4), ('Yuck#', 4), ('quit#', 4), ('results#', 4), ('puppies#', 4), ('exercises#', 4), ('replaced#', 4), ('pillows#', 4), ('item#', 4), ('stopping#', 4), ('pear#', 4), ('belly#', 4), ('fairies#', 4), ('eight#', 4), ('rails#', 4), ('rushing#', 4), ('feast#', 4), ('decorating#', 4), ('goodbyes#', 4), ('drift#', 4), ('fireflies#', 4), ('switched#', 4), ('lent#', 4), ('instantly#', 4), ('dropping#', 4), ('weeping#', 4), ('vanish#', 4), ('season#', 4), ('switches#', 4), ('press#', 4), ('twice#', 4), ('sweaty#', 4), ('Jojo#', 4), ('finishing#', 4), ('beds#', 4), ('focused#', 4), ('pretzel#', 4), ('conversation#', 4), ('throat#', 4), ('Janet#', 4), ('paintbrush#', 4), ('snoring#', 4), ('carton#', 4), ('notes#', 4), ('fin#', 4), ('trips#', 4), ('gates#', 4), ('seriously#', 4), ('shave#', 4), ('fright#', 4), ('aren#', 4), ('pitch#', 4), ('luckily#', 4), ('lands#', 4), ('spraying#', 4), ('dripping#', 4), ('tapped#', 4), ('juiciest#', 4), ('traded#', 4), ('runner#', 4), ('noon#', 4), ('slithered#', 4), ('Princess#', 4), ('flutter#', 4), ('tiptoed#', 4), ('silence#', 4), ('siren#', 4), ('snowflakes#', 4), ('cost#', 4), ('typed#', 4), ('riches#', 4), ('olives#', 4), ('generosity#', 4), ('expert#', 4), ('hawk#', 4), ('twirl#', 4), ('puzzles#', 4), ('larger#', 4), ('scraped#', 4), ('drawers#', 4), ('dove#', 4), ('slammed#', 4), ('nightmares#', 4), ('pastor#', 4), ('direction#', 4), ('heavier#', 4), ('goodies#', 4), ('airplanes#', 4), ('granddaughter#', 4), ('artist#', 4), ('sailors#', 4), ('bump#', 4), ('dances#', 4), ('hey#', 4), ('needle#', 4), ('waiter#', 4), ('spit#', 4), ('Kaaaw#', 4), ('bond#', 4), ('Oliver#', 4), ('seashells#', 4), ('items#', 4), ('lily#', 4), ('recommend#', 4), ('Isabella#', 4), ('confident#', 4), ('waters#', 4), ('prayer#', 4), ('van#', 4), ('Adam#', 4), ('united#', 4), ('moons#', 4), ('Stay#', 4), ('shoelaces#', 4), ('bully#', 4), ('matching#', 4), ('rescued#', 4), ('Carrot#', 4), ('repairman#', 4), ('spears#', 4), ('razors#', 4), ('figures#', 4), ('whistled#', 4), ('salon#', 4), ('curly#', 4), ('horns#', 4), ('softer#', 4), ('principal#', 4), ('softened#', 4), ('Susan#', 4), ('blueberry#', 4), ('ladies#', 4), ('labels#', 4), ('grandchild#', 4), ('winks#', 4), ('east#', 4), ('sticking#', 4), ('Jacky#', 4), ('Barry#', 4), ('moldy#', 4), ('veggies#', 4), ('product#', 4), ('inchworm#', 4), ('Bertha#', 4), ('Sound#', 4), ('villagers#', 4), ('sill#', 3), ('Want#', 3), ('crabs#', 3), ('videos#', 3), ('tomatoes#', 3), ('bulbs#', 3), ('providing#', 3), ('lap#', 3), ('rot#', 3), ('hallway#', 3), ('dryer#', 3), ('owners#', 3), ('snowmen#', 3), ('wiggle#', 3), ('smallest#', 3), ('fluttering#', 3), ('directions#', 3), ('cornfield#', 3), ('result#', 3), ('actor#', 3), ('pounds#', 3), ('rang#', 3), ('avocados#', 3), ('delayed#', 3), ('saucers#', 3), ('waking#', 3), ('months#', 3), ('traveling#', 3), ('meatballs#', 3), ('meowing#', 3), ('lied#', 3), ('piles#', 3), ('baths#', 3), ('windy#', 3), ('scent#', 3), ('Get#', 3), ('blocked#', 3), ('protecting#', 3), ('mushrooms#', 3), ('scarves#', 3), ('tossed#', 3), ('9#', 3), ('frowns#', 3), ('pokes#', 3), ('pulls#', 3), ('rusty#', 3), ('glued#', 3), ('hugging#', 3), ('compassion#', 3), ('turtles#', 3), ('bar#', 3), ('fever#', 3), ('Dear#', 3), ('zip#', 3), ('helmets#', 3), ('quack#', 3), ('consequences#', 3), ('chases#', 3), ('cuddles#', 3), ('sincere#', 3), ('Move#', 3), ('shooed#', 3), ('nectar#', 3), ('leads#', 3), ('common#', 3), ('hitting#', 3), ('Bad#', 3), ('chalk#', 3), ('spill#', 3), ('refuse#', 3), ('anger#', 3), ('ankle#', 3), ('discussed#', 3), ('hen#', 3), ('page#', 3), ('punished#', 3), ('treasured#', 3), ('chewy#', 3), ('reveal#', 3), ('tuck#', 3), ('poisonous#', 3), ('holidays#', 3), ('introduce#', 3), ('streamers#', 3), ('slap#', 3), ('tallest#', 3), ('west#', 3), ('cautious#', 3), ('roses#', 3), ('purr#', 3), ('textures#', 3), ('cleaner#', 3), ('decoration#', 3), ('Halloween#', 3), ('valued#', 3), ('dragons#', 3), ('thrown#', 3), ('freely#', 3), ('glasses#', 3), ('farther#', 3), ('speeding#', 3), ('storms#', 3), ('rumbling#', 3), ('trembled#', 3), ('tuna#', 3), ('answers#', 3), ('urged#', 3), ('pancake#', 3), ('spilling#', 3), ('shoved#', 3), ('interested#', 3), ('awoken#', 3), ('rested#', 3), ('troubles#', 3), ('awoke#', 3), ('stroked#', 3), ('options#', 3), ('puff#', 3), ('wow#', 3), ('giraffes#', 3), ('ill#', 3), ('freezing#', 3), ('specks#', 3), ('Those#', 3), ('marble#', 3), ('heavily#', 3), ('Though#', 3), ('ignoring#', 3), ('situation#', 3), ('breaths#', 3), ('scales#', 3), ('final#', 3), ('tip#', 3), ('belts#', 3), ('failed#', 3), ('neighbouring#', 3), ('overheard#', 3), ('Choo#', 3), ('Bless#', 3), ('lawyer#', 3), ('guessed#', 3), ('anybody#', 3), ('anticipation#', 3), ('Ready#', 3), ('Up#', 3), ('sometime#', 3), ('glittered#', 3), ('diamonds#', 3), ('suggestion#', 3), ('stepping#', 3), ('gobbled#', 3), ('hilltop#', 3), ('rowed#', 3), ('relaxing#', 3), ('rowing#', 3), ('spoonful#', 3), ('expect#', 3), ('slug#', 3), ('self#', 3), ('droplets#', 3), ('traveled#', 3), ('guide#', 3), ('Startled#', 3), ('pupils#', 3), ('fears#', 3), ('shrinking#', 3), ('potion#', 3), ('sew#', 3), ('tidying#', 3), ('printing#', 3), ('Meanwhile#', 3), ('blast#', 3), ('growl#', 3), ('sneaking#', 3), ('hesitated#', 3), ('responded#', 3), ('behavior#', 3), ('Playing#', 3), ('worries#', 3), ('supplies#', 3), ('tickets#', 3), ('complained#', 3), ('fairly#', 3), ('responsibility#', 3), ('swords#', 3), ('chuckled#', 3), ('sidewalk#', 3), ('eldest#', 3), ('proven#', 3), ('rotted#', 3), ('completely#', 3), ('sandcastles#', 3), ('Through#', 3), ('Poor#', 3), ('toaster#', 3), ('coop#', 3), ('seashell#', 3), ('scored#', 3), ('diving#', 3), ('cherry#', 3), ('bathrobe#', 3), ('benches#', 3), ('compete#', 3), ('fashion#', 3), ('thud#', 3), ('copy#', 3), ('Great#', 3), ('Todd#', 3), ('scenery#', 3), ('surroundings#', 3), ('hiss#', 3), ('napping#', 3), ('races#', 3), ('rub#', 3), ('echoed#', 3), ('remembers#', 3), ('covers#', 3), ('raccoons#', 3), ('Poppies#', 3), ('sights#', 3), ('sports#', 3), ('Under#', 3), ('flowing#', 3), ('bits#', 3), ('punishment#', 3), ('beast#', 3), ('trophy#', 3), ('beaming#', 3), ('sale#', 3), ('simple#', 3), ('goo#', 3), ('wound#', 3), ('springs#', 3), ('poses#', 3), ('rescuing#', 3), ('Never#', 3), ('panicked#', 3), ('hops#', 3), ('dived#', 3), ('onward#', 3), ('passengers#', 3), ('wires#', 3), ('signs#', 3), ('gratitude#', 3), ('curiously#', 3), ('supported#', 3), ('pedaling#', 3), ('totally#', 3), ('raised#', 3), ('display#', 3), ('beautifully#', 3), ('trotted#', 3), ('sending#', 3), ('Katie#', 3), ('smelt#', 3), ('adored#', 3), ('ventured#', 3), ('trembling#', 3), ('driveway#', 3), ('dribbling#', 3), ('wept#', 3), ('dashed#', 3), ('causing#', 3), ('skunk#', 3), ('realize#', 3), ('Seeing#', 3), ('cherished#', 3), ('worrying#', 3), ('obey#', 3), ('scrambled#', 3), ('indoors#', 3), ('risks#', 3), ('handkerchief#', 3), ('fingertips#', 3), ('lumberjack#', 3), ('marked#', 3), ('lumber#', 3), ('astonished#', 3), ('blues#', 3), ('achieved#', 3), ('grabbing#', 3), ('playroom#', 3), ('teamwork#', 3), ('cleared#', 3), ('inch#', 3), ('Goldilocks#', 3), ('players#', 3), ('sizes#', 3), ('level#', 3), ('trusty#', 3), ('shops#', 3), ('donkey#', 3), ('supplied#', 3), ('hearted#', 3), ('cloudy#', 3), ('towels#', 3), ('Momma#', 3), ('Flopsy#', 3), ('sweetest#', 3), ('challenged#', 3), ('lighter#', 3), ('waded#', 3), ('art#', 3), ('greeted#', 3), ('clerk#', 3), ('desert#', 3), ('Judy#', 3), ('grandson#', 3), ('chirp#', 3), ('Tuesdays#', 3), ('baseball#', 3), ('melody#', 3), ('swish#', 3), ('flapping#', 3), ('reflection#', 3), ('cuts#', 3), ('simply#', 3), ('practising#', 3), ('Number#', 3), ('Track#', 3), ('brick#', 3), ('apologised#', 3), ('Earth#', 3), ('type#', 3), ('Halfway#', 3), ('Mild#', 3), ('Bill#', 3), ('surely#', 3), ('adult#', 3), ('polishing#', 3), ('condition#', 3), ('paramedics#', 3), ('pecked#', 3), ('Zip#', 3), ('screams#', 3), ('matey#', 3), ('exchange#', 3), ('Ha#', 3), ('ha#', 3), ('height#', 3), ('wobbly#', 3), ('click#', 3), ('remembering#', 3), ('Bye#', 3), ('alley#', 3), ('customer#', 3), ('Twinkle#', 3), ('Only#', 3), ('tricked#', 3), ('blows#', 3), ('communicate#', 3), ('popping#', 3), ('weeds#', 3), ('widened#', 3), ('muscle#', 3), ('taxi#', 3), ('planning#', 3), ('realizing#', 3), ('babies#', 3), ('deserved#', 3), ('flow#', 3), ('quieter#', 3), ('policeman#', 3), ('untie#', 3), ('Not#', 3), ('binoculars#', 3), ('promises#', 3), ('behaved#', 3), ('Use#', 3), ('fiancé#', 3), ('blessed#', 3), ('fact#', 3), ('bubblegum#', 3), ('tunes#', 3), ('uniforms#', 3), ('seas#', 3), ('stern#', 3), ('recorders#', 3), ('lamp#', 3), ('tasting#', 3), ('squishy#', 3), ('guns#', 3), ('fits#', 3), ('rows#', 3), ('pinching#', 3), ('engines#', 3), ('movements#', 3), ('Our#', 3), ('Friends#', 3), ('strings#', 3), ('startled#', 3), ('Fine#', 3), ('preschool#', 3), ('monsters#', 3), ('choo#', 3), ('mechanic#', 3), ('raincoat#', 3), ('dollars#', 3), ('combed#', 3), ('vroom#', 3), ('bleeding#', 3), ('batteries#', 3), ('parades#', 3), ('Cookies#', 3), ('sobbed#', 3), ('uses#', 3), ('bottles#', 3), ('hunters#', 3), ('salsa#', 3), ('vanilla#', 3), ('creamy#', 3), ('repeats#', 3), ('bend#', 3), ('damaged#', 3), ('tamer#', 3), ('fort#', 3), ('Whee#', 3), ('dads#', 3), ('oasis#', 3), ('swap#', 3), ('lever#', 3), ('glove#', 3), ('increased#', 3), ('Julie#', 3), ('calmly#', 3), ('barracks#', 3), ('quacking#', 3), ('hesitant#', 3), ('Wendy#', 3), ('expression#', 3), ('jellyfish#', 3), ('melting#', 3), ('niece#', 3), ('recipe#', 3), ('riddle#', 3), ('beanstalk#', 3), ('firewood#', 3), ('scolds#', 3), ('fable#', 3), ('compass#', 3), ('stuffing#', 3), ('Purple#', 3), ('Land#', 3), ('homework#', 3), ('lemons#', 3), ('bricks#', 3), ('wrist#', 3), ('sunflowers#', 3), ('spikes#', 3), ('Bo#', 3), ('critters#', 3), ('Hermione#', 3), ('universe#', 3), ('queens#', 2), ('peas#', 2), ('guarding#', 2), ('stung#', 2), ('cartoons#', 2), ('dollies#', 2), ('ease#', 2), ('zebras#', 2), ('flashing#', 2), ('persimmon#', 2), ('sweetness#', 2), ('throne#', 2), ('adopt#', 2), ('jiggle#', 2), ('fins#', 2), ('stool#', 2), ('scrape#', 2), ('Dogs#', 2), ('noodles#', 2), ('screwdriver#', 2), ('wrench#', 2), ('commotion#', 2), ('tortoise#', 2), ('crackers#', 2), ('probably#', 2), ('beakers#', 2), ('questioned#', 2), ('stain#', 2), ('cavity#', 2), ('provides#', 2), ('background#', 2), ('dentist#', 2), ('ketchup#', 2), ('stinky#', 2), ('untangle#', 2), ('paints#', 2), ('Amen#', 2), ('pets#', 2), ('squeak#', 2), ('terrified#', 2), ('wounds#', 2), ('clues#', 2), ('Deal#', 2), ('beep#', 2), ('rips#', 2), ('whispers#', 2), ('Tell#', 2), ('kicks#', 2), ('address#', 2), ('shrugging#', 2), ('delaying#', 2), ('shown#', 2), ('pretends#', 2), ('cough#', 2), ('unzip#', 2), ('stomped#', 2), ('sets#', 2), ('claps#', 2), ('rolls#', 2), ('decides#', 2), ('sniffled#', 2), ('coughed#', 2), ('scoops#', 2), ('knocks#', 2), ('envy#', 2), ('cooperate#', 2), ('wider#', 2), ('builders#', 2), ('Bang#', 2), ('gap#', 2), ('doggy#', 2), ('tablecloth#', 2), ('fourth#', 2), ('intently#', 2), ('opening#', 2), ('lines#', 2), ('mattered#', 2), ('Bugs#', 2), ('Excitedly#', 2), ('possession#', 2), ('messes#', 2), ('apology#', 2), ('paintings#', 2), ('snuggling#', 2), ('floats#', 2), ('humbly#', 2), ('sirens#', 2), ('blaring#', 2), ('shattered#', 2), ('million#', 2), ('bodies#', 2), ('pastel#', 2), ('toppings#', 2), ('tours#', 2), ('gracefully#', 2), ('cast#', 2), ('countries#', 2), ('steer#', 2), ('parties#', 2), ('fade#', 2), ('bravery#', 2), ('congratulated#', 2), ('plain#', 2), ('rays#', 2), ('shooting#', 2), ('trails#', 2), ('scooping#', 2), ('draining#', 2), ('drainpipe#', 2), ('Water#', 2), ('suitcase#', 2), ('peak#', 2), ('instincts#', 2), ('steadily#', 2), ('glimmer#', 2), ('swirl#', 2), ('liquid#', 2), ('juices#', 2), ('restored#', 2), ('spiky#', 2), ('hips#', 2), ('mend#', 2), ('lungs#', 2), ('damp#', 2), ('exploration#', 2), ('leading#', 2), ('darling#', 2), ('doorway#', 2), ('tempted#', 2), ('stroll#', 2), ('desire#', 2), ('carpenter#', 2), ('project#', 2), ('sausages#', 2), ('hummed#', 2), ('dates#', 2), ('events#', 2), ('routine#', 2), ('Satisfied#', 2), ('oat#', 2), ('Love#', 2), ('doorbell#', 2), ('Along#', 2), ('soothing#', 2), ('weighs#', 2), ('indeed#', 2), ('chill#', 2), ('whose#', 2), ('conversations#', 2), ('blushed#', 2), ('Ahhh#', 2), ('sprinkle#', 2), ('Guardian#', 2), ('disrespectful#', 2), ('Much#', 2), ('pounding#', 2), ('tested#', 2), ('despite#', 2), ('tricycle#', 2), ('rebuild#', 2), ('heroes#', 2), ('length#', 2), ('freshly#', 2), ('mustered#', 2), ('overcoming#', 2), ('frustration#', 2), ('harbour#', 2), ('mindful#', 2), ('vast#', 2), ('hollow#', 2), ('companion#', 2), ('oars#', 2), ('returning#', 2), ('six#', 2), ('Speed#', 2), ('tune#', 2), ('whistling#', 2), ('silent#', 2), ('yummiest#', 2), ('buckets#', 2), ('horses#', 2), ('rewarding#', 2), ('knocking#', 2), ('Disappointed#', 2), ('base#', 2), ('wetter#', 2), ('siblings#', 2), ('spice#', 2), ('spices#', 2), ('beating#', 2), ('4#', 2), ('throughout#', 2), ('Lots#', 2), ('gulp#', 2), ('within#', 2), ('seconds#', 2), ('humming#', 2), ('playhouse#', 2), ('recommended#', 2), ('Using#', 2), ('pots#', 2), ('slipping#', 2), ('explaining#', 2), ('arranged#', 2), ('barge#', 2), ('joining#', 2), ('teachers#', 2), ('medical#', 2), ('grin#', 2), ('Nature#', 2), ('glanced#', 2), ('cheerfulness#', 2), ('wisest#', 2), ('shorter#', 2), ('thoughtfully#', 2), ('responsibly#', 2), ('fights#', 2), ('burying#', 2), ('coloring#', 2), ('supermarket#', 2), ('local#', 2), ('achievement#', 2), ('ingredient#', 2), ('tippy#', 2), ('toed#', 2), ('lessons#', 2), ('applied#', 2), ('spooky#', 2), ('snapping#', 2), ('rotting#', 2), ('snuggle#', 2), ('dozed#', 2), ('hangers#', 2), ('hull#', 2), ('politely#', 2), ('neither#', 2), ('accomplishments#', 2), ('court#', 2), ('woodland#', 2), ('loads#', 2), ('focus#', 2), ('respected#', 2), ('paintbrushes#', 2), ('brightened#', 2), ('juggle#', 2), ('afar#', 2), ('declared#', 2), ('Out#', 2), ('streamed#', 2), ('repeating#', 2), ('till#', 2), ('cheesy#', 2), ('aroma#', 2), ('fives#', 2), ('tires#', 2), ('passes#', 2), ('positive#', 2), ('suggesting#', 2), ('pouch#', 2), ('sneaky#', 2), ('recommending#', 2), ('cooed#', 2), ('twisting#', 2), ('sensation#', 2), ('Meow#', 2), ('quacked#', 2), ('retriever#', 2), ('hissing#', 2), ('gripped#', 2), ('surprising#', 2), ('delivered#', 2), ('stale#', 2), ('pressing#', 2), ('energetic#', 2), ('Strike#', 2), ('rounds#', 2), ('code#', 2), ('cracked#', 2), ('mysteries#', 2), ('pouted#', 2), ('fist#', 2), ('flipped#', 2), ('energized#', 2), ('squeezes#', 2), ('health#', 2), ('appreciated#', 2), ('container#', 2), ('borrowed#', 2), ('unnecessary#', 2), ('awful#', 2), ('dangers#', 2), ('dreamland#', 2), ('naptime#', 2), ('noticing#', 2), ('shuffled#', 2), ('coral#', 2), ('cargo#', 2), ('fearless#', 2), ('earned#', 2), ('glittery#', 2), ('pleasant#', 2), ('energised#', 2), ('protective#', 2), ('hardest#', 2), ('fiercely#', 2), ('blown#', 2), ('Quickly#', 2), ('festive#', 2), ('Plus#', 2), ('collapsed#', 2), ('painter#', 2), ('stomping#', 2), ('travelling#', 2), ('network#', 2), ('electricity#', 2), ('distracted#', 2), ('disappearing#', 2), ('reader#', 2), ('familiar#', 2), ('lower#', 2), ('lightly#', 2), ('activities#', 2), ('pedals#', 2), ('mood#', 2), ('clicked#', 2), ('toppled#', 2), ('wobbled#', 2), ('marveled#', 2), ('risen#', 2), ('changing#', 2), ('theatre#', 2), ('canvas#', 2), ('existed#', 2), ('photos#', 2), ('hut#', 2), ('audience#', 2), ('performing#', 2), ('drenched#', 2), ('pies#', 2), ('snug#', 2), ('Bright#', 2), ('dribbled#', 2), ('tripping#', 2), ('fluffiest#', 2), ('tickled#', 2), ('buildings#', 2), ('Gradually#', 2), ('magnificent#', 2), ('response#', 2), ('somersaults#', 2), ('objects#', 2), ('speaking#', 2), ('itches#', 2), ('demanding#', 2), ('stump#', 2), ('stormy#', 2), ('kit#', 2), ('grinning#', 2), ('wildflowers#', 2), ('whining#', 2), ('chopped#', 2), ('chatted#', 2), ('beads#', 2), ('curtains#', 2), ('scurrying#', 2), ('student#', 2), ('solving#', 2), ('ambled#', 2), ('refusing#', 2), ('tickling#', 2), ('contentedly#', 2), ('types#', 2), ('pathway#', 2), ('chosen#', 2), ('exercising#', 2), ('sorted#', 2), ('blonde#', 2), ('threat#', 2), ('web#', 2), ('bowls#', 2), ('championship#', 2), ('pruning#', 2), ('sadness#', 2), ('heels#', 2), ('worn#', 2), ('convinced#', 2), ('miracle#', 2), ('bathing#', 2), ('cutest#', 2), ('crowned#', 2), ('majestic#', 2), ('brightest#', 2), ('stores#', 2), ('Selfish#', 2), ('parks#', 2), ('Other#', 2), ('elders#', 2), ('buddies#', 2), ('refreshing#', 2), ('avoid#', 2), ('breathing#', 2), ('blocking#', 2), ('certain#', 2), ('answering#', 2), ('projects#', 2), ('doze#', 2), ('squeaked#', 2), ('missiles#', 2), ('launched#', 2), ('annoyed#', 2), ('Behind#', 2), ('process#', 2), ('gratefully#', 2), ('pressure#', 2), ('mints#', 2), ('giggles#', 2), ('hungrier#', 2), ('nights#', 2), ('vines#', 2), ('favor#', 2), ('fluttered#', 2), ('discoveries#', 2), ('beyond#', 2), ('wondrous#', 2), ('waist#', 2), ('studies#', 2), ('include#', 2), ('ballerina#', 2), ('closets#', 2), ('yawning#', 2), ('warmest#', 2), ('plugged#', 2), ('thorns#', 2), ('nibble#', 2), ('greatest#', 2), ('squinting#', 2), ('reappeared#', 2), ('ripped#', 2), ('angrily#', 2), ('quiz#', 2), ('playdate#', 2), ('reminding#', 2), ('firm#', 2), ('television#', 2), ('booth#', 2), ('worker#', 2), ('owie#', 2), ('blink#', 2), ('couple#', 2), ('harmony#', 2), ('Splash#', 2), ('soundly#', 2), ('glitter#', 2), ('savouring#', 2), ('wishing#', 2), ('meadows#', 2), ('contented#', 2), ('cove#', 2), ('Big#', 2), ('yellows#', 2), ('amongst#', 2), ('hopeless#', 2), ('wiggling#', 2), ('preparing#', 2), ('keeper#', 2), ('nibbling#', 2), ('munch#', 2), ('cradled#', 2), ('celebrating#', 2), ('passion#', 2), ('talented#', 2), ('potty#', 2), ('sleigh#', 2), ('Ho#', 2), ('ho#', 2), ('kneeling#', 2), ('clucked#', 2), ('homeless#', 2), ('overflow#', 2), ('knights#', 2), ('stands#', 2), ('wobbles#', 2), ('flash#', 2), ('wasting#', 2), ('ripples#', 2), ('equipment#', 2), ('bud#', 2), ('agrees#', 2), ('buckled#', 2), ('Cheese#', 2), ('clipboard#', 2), ('device#', 2), ('writes#', 2), ('rockets#', 2), ('coats#', 2), ('robe#', 2), ('polka#', 2), ('darlings#', 2), ('Yesterday#', 2), ('Star#', 2), ('tinkle#', 2), ('tar#', 2), ('pinkle#', 2), ('chooses#', 2), ('spits#', 2), ('cents#', 2), ('Too#', 2), ('rider#', 2), ('affect#', 2), ('colder#', 2), ('lava#', 2), ('harvest#', 2), ('ironing#', 2), ('flights#', 2), ('applaud#', 2), ('applause#', 2), ('hairstyle#', 2), ('braid#', 2), ('exhibit#', 2), ('squeezing#', 2), ('loosened#', 2), ('Treasure#', 2), ('caterpillars#', 2), ('flown#', 2), ('latest#', 2), ('cawing#', 2), ('perch#', 2), ('screeched#', 2), ('Drink#', 2), ('differently#', 2), ('ruffled#', 2), ('winking#', 2), ('Wherever#', 2), ('Wide#', 2), ('glimmering#', 2), ('knots#', 2), ('repairs#', 2), ('lurking#', 2), ('swat#', 2), ('disruptive#', 2), ('vest#', 2), ('Miraculously#', 2), ('changes#', 2), ('reassured#', 2), ('Imagine#', 2), ('faded#', 2), ('possibilities#', 2), ('burrow#', 2), ('dots#', 2), ('achieving#', 2), ('granted#', 2), ('rocking#', 2), ('remain#', 2), ('telescope#', 2), ('soothe#', 2), ('minding#', 2), ('drawn#', 2), ('Betty#', 2), ('Does#', 2), ('progress#', 2), ('stubbed#', 2), ('deed#', 2), ('Doorkeeper#', 2), ('marshmallows#', 2), ('spells#', 2), ('crumble#', 2), ('threads#', 2), ('Pick#', 2), ('microphones#', 2), ('darken#', 2), ('glared#', 2), ('revved#', 2), ('presented#', 2), ('flavours#', 2), ('Snowy#', 2), ('instant#', 2), ('tantrum#', 2), ('grazing#', 2), ('mooed#', 2), ('Wheeee#', 2), ('erase#', 2), ('racecar#', 2), ('zipped#', 2), ('eerie#', 2), ('source#', 2), ('milder#', 2), ('Binny#', 2), ('Most#', 2), ('wrapping#', 2), ('C#', 2), ('mon#', 2), ('melts#', 2), ('picnics#', 2), ('chugga#', 2), ('fried#', 2), ('costs#', 2), ('birdies#', 2), ('imaginary#', 2), ('scold#', 2), ('roads#', 2), ('shrugs#', 2), ('wipes#', 2), ('dock#', 2), ('scares#', 2), ('captain#', 2), ('Arrr#', 2), ('talks#', 2), ('Jumping#', 2), ('howl#', 2), ('Sand#', 2), ('yourselves#', 2), ('seeker#', 2), ('unsafe#', 2), ('bandaged#', 2), ('backs#', 2), ('squish#', 2), ('mixes#', 2), ('crunch#', 2), ('poster#', 2), ('Which#', 2), ('mat#', 2), ('fuzzy#', 2), ('listens#', 2), ('cheaper#', 2), ('hopeful#', 2), ('unpacking#', 2), ('hi#', 2), ('superheroes#', 2), ('smartest#', 2), ('Watch#', 2), ('kettle#', 2), ('tests#', 2), ('pecks#', 2), ('bride#', 2), ('banged#', 2), ('undone#', 2), ('acrobats#', 2), ('mothers#', 2), ('Fighting#', 2), ('cheating#', 2), ('unfair#', 2), ('aids#', 2), ('yelped#', 2), ('plays#', 2), ('waits#', 2), ('musicians#', 2), ('Five#', 2), ('prickly#', 2), ('explorers#', 2), ('public#', 2), ('kilos#', 2), ('bleed#', 2), ('wins#', 2), ('style#', 2), ('rivers#', 2), ('drifting#', 2), ('X#', 2), ('confidently#', 2), ('flashed#', 2), ('crashing#', 2), ('twinkled#', 2), ('shame#', 2), ('exploded#', 2), ('fitting#', 2), ('tending#', 2), ('playtime#', 2), ('miller#', 2), ('scowled#', 2), ('gardening#', 2), ('reacted#', 2), ('sprung#', 2), ('licking#', 2), ('alas#', 2), ('den#', 2), ('ordering#', 2), ('tournament#', 2), ('winds#', 2), ('managing#', 2), ('swollen#', 2), ('closes#', 2), ('robbed#', 2), ('pantry#', 2), ('sneakers#', 2), ('wink#', 2), ('smartness#', 2), ('suits#', 2), ('canister#', 2), ('bombs#', 2), ('pays#', 2), ('attacking#', 2), ('shuts#', 2), ('kindling#', 2), ('satisfaction#', 2), ('proved#', 2), ('shrunk#', 2), ('force#', 2), ('follows#', 2), ('manners#', 2), ('insult#', 2), ('Maa#', 2), ('ham#', 2), ('enlightenment#', 2), ('rulers#', 2), ('sway#', 2), ('dollhouse#', 2), ('herbs#', 2), ('electric#', 2), ('daisies#', 2), ('healed#', 2), ('dripped#', 2), ('surgery#', 2), ('massage#', 2), ('puzzled#', 2), ('recognize#', 2), ('Cradle#', 2), ('choosing#', 2), ('guacamole#', 2), ('arrows#', 2), ('wildly#', 2), ('instruments#', 2), ('grills#', 2), ('wiping#', 1), ('kings#', 1), ('Kids#', 1), ('tops#', 1), ('fragrance#', 1), ('allergic#', 1), ('reaction#', 1), ('swallow#', 1), ('lunchtime#', 1), ('lamps#', 1), ('Doll#', 1), ('burner#', 1), ('burners#', 1), ('peels#', 1), ('shrug#', 1), ('Persimmons#', 1), ('lace#', 1), ('groceries#', 1), ('hotter#', 1), ('thirstier#', 1), ('cases#', 1), ('trustworthy#', 1), ('soften#', 1), ('chewing#', 1), ('dustpan#', 1), ('handing#', 1), ('mommies#', 1), ('Allowed#', 1), ('chili#', 1), ('swallowing#', 1), ('actors#', 1), ('arguments#', 1), ('20#', 1), ('diet#', 1), ('hare#', 1), ('increasing#', 1), ('paying#', 1), ('tubes#', 1), ('scientist#', 1), ('experiments#', 1), ('beaker#', 1), ('teapot#', 1), ('lighters#', 1), ('campsite#', 1), ('unlocking#', 1), ('surfed#', 1), ('beehive#', 1), ('cavities#', 1), ('Minerals#', 1), ('toothache#', 1), ('fires#', 1), ('floors#', 1), ('purring#', 1), ('Plane#', 1), ('unravel#', 1), ('Celery#', 1), ('steaming#', 1), ('tiles#', 1), ('coughing#', 1), ('speechless#', 1), ('explodes#', 1), ('bomb#', 1), ('enters#', 1), ('bends#', 1), ('reads#', 1), ('sends#', 1), ('charity#', 1), ('drives#', 1), ('cleans#', 1), ('sticker#', 1), ('annoying#', 1), ('meaner#', 1), ('strikes#', 1), ('protects#', 1), ('claims#', 1), ('sells#', 1), ('cones#', 1), ('popsicles#', 1), ('whoever#', 1), ('Dinner#', 1), ('Onions#', 1), ('invites#', 1), ('owns#', 1), ('swims#', 1), ('succeeds#', 1), ('pedaled#', 1), ('runny#', 1), ('whined#', 1), ('sniffs#', 1), ('fetches#', 1), ('narrow#', 1), ('rocky#', 1), ('sensible#', 1), ('drips#', 1), ('forgiving#', 1), ('smash#', 1), ('dent#', 1), ('splattered#', 1), ('zoomers#', 1), ('cares#', 1), ('colony#', 1), ('lays#', 1), ('groups#', 1), ('patients#', 1), ('disagrees#', 1), ('fifth#', 1), ('sixth#', 1), ('seventh#', 1), ('eighth#', 1), ('ninth#', 1), ('tenth#', 1), ('eleventh#', 1), ('twelfth#', 1), ('feeder#', 1), ('visitor#', 1), ('flush#', 1), ('Hours#', 1), ('Throughout#', 1), ('Kittens#', 1), ('section#', 1), ('concert#', 1), ('signing#', 1), ('Phew#', 1), ('unless#', 1), ('Muffins#', 1), ('retrieved#', 1), ('double#', 1), ('express#', 1), ('planting#', 1), ('talons#', 1), ('American#', 1), ('disorganized#', 1), ('pointy#', 1), ('mittens#', 1), ('Coffee#', 1), ('Afterward#', 1), ('tiptoes#', 1), ('Swim#', 1), ('reefs#', 1), ('uneasy#', 1), ('storage#', 1), ('braver#', 1), ('hedges#', 1), ('bowing#', 1), ('pounced#', 1), ('meetings#', 1), ('designed#', 1), ('cotton#', 1), ('Snake#', 1), ('Ladders#', 1), ('Ignore#', 1), ('vacuum#', 1), ('vacuuming#', 1), ('passports#', 1), ('unfolded#', 1), ('craving#', 1), ('Peaceful#', 1), ('Valley#', 1), ('Roar#', 1), ('patrolling#', 1), ('helpers#', 1), ('heaven#', 1), ('stubbornly#', 1), ('weapons#', 1), ('gardener#', 1), ('sprinkler#', 1), ('surfer#', 1), ('clothesline#', 1), ('grumbled#', 1), ('coolest#', 1), ('defeat#', 1), ('thieves#', 1), ('piling#', 1), ('cliffs#', 1), ('pills#', 1), ('absolutely#', 1), ('weee#', 1), ('gleaming#', 1), ('Wanna#', 1), ('kangaroos#', 1), ('handful#', 1), ('Sparkles#', 1), ('Sparkels#', 1), ('Magic#', 1), ('haven#', 1), ('sieve#', 1), ('tastiest#', 1), ('cabinets#', 1), ('itched#', 1), ('praising#', 1), ('smarts#', 1), ('notcied#', 1), ('trousers#', 1), ('1000#', 1), ('ancestors#', 1), ('wily#', 1), ('refusal#', 1), ('injuries#', 1), ('severe#', 1), ('Sadness#', 1), ('lighting#', 1), ('doorknob#', 1), ('sly#', 1), ('fulfill#', 1), ('cluttered#', 1), ('untidy#', 1), ('bubbly#', 1), ('containers#', 1), ('whirred#', 1), ('dryness#', 1), ('memorizing#', 1), ('historical#', 1), ('character#', 1), ('obediently#', 1), ('scrubbing#', 1), ('volcanoes#', 1), ('spewed#', 1), ('towns#', 1), ('Trees#', 1), ('engulfed#', 1), ('spew#', 1), ('craziest#', 1), ('Rabbits#', 1), ('thicker#', 1), ('tipped#', 1), ('cottony#', 1), ('storing#', 1), ('minister#', 1), ('merry#', 1), ('unpredictable#', 1), ('harmful#', 1), ('volunteered#', 1), ('bushy#', 1), ('scaly#', 1), ('yous#', 1), ('Magical#', 1), ('Shield#', 1), ('revealing#', 1), ('remote#', 1), ('peeped#', 1), ('guessing#', 1), ('glossy#', 1), ('Island#', 1), ('Happiness#', 1), ('unloaded#', 1), ('spines#', 1), ('clearly#', 1), ('uninviting#', 1), ('Lets#', 1), ('Cool#', 1), ('cheers#', 1), ('flowed#', 1), ('Source#', 1), ('shallow#', 1), ('exposed#', 1), ('sandy#', 1), ('Children#', 1), ('Follow#', 1), ('capture#', 1), ('releasing#', 1), ('passionate#', 1), ('enthusiasm#', 1), ('particularly#', 1), ('morsel#', 1), ('deserted#', 1), ('terribly#', 1), ('calmness#', 1), ('definitely#', 1), ('supper#', 1), ('delightful#', 1), ('fulfilled#', 1), ('strumming#', 1), ('defeated#', 1), ('Curious#', 1), ('scarfs#', 1), ('Turbo#', 1), ('Racer#', 1), ('turbo#', 1), ('racer#', 1), ('compare#', 1), ('experiencing#', 1), ('Knife#', 1), ('Sunglasses#', 1), ('Hope#', 1), ('Hissssss#', 1), ('Cake#', 1), ('Jump#', 1), ('Amazingly#', 1), ('exams#', 1), ('specialness#', 1), ('twittered#', 1), ('serving#', 1), ('cancelled#', 1), ('inching#', 1), ('pace#', 1), ('climed#', 1), ('ceremony#', 1), ('trudging#', 1), ('guided#', 1), ('temples#', 1), ('topple#', 1), ('shrieked#', 1), ('swirled#', 1), ('locks#', 1), ('brushing#', 1), ('Marriage#', 1), ('marrying#', 1), ('timid#', 1), ('tips#', 1), ('Nobody#', 1), ('rats#', 1), ('traditional#', 1), ('educational#', 1), ('awkward#', 1), ('granddaugther#', 1), ('spinner#', 1), ('cauliflowers#', 1), ('tougher#', 1), ('charge#', 1), ('gorgeous#', 1), ('transformation#', 1), ('Perfect#', 1), ('katrine#', 1), ('implressive#', 1), ('attempt#', 1), ('hooves#', 1), ('attraction#', 1), ('queue#', 1), ('awaiting#', 1), ('unfold#', 1), ('contagious#', 1), ('centre#', 1), ('rather#', 1), ('Snip#', 1), ('snip#', 1), ('wrinkle#', 1), ('smily#', 1), ('begging#', 1), ('Friendship#', 1), ('violent#', 1), ('oceans#', 1), ('laziness#', 1), ('Far#', 1), ('amused#', 1), ('LONG#', 1), ('10th#', 1), ('lump#', 1), ('obeyed#', 1), ('Spin#', 1), ('scooting#', 1), ('warn#', 1), ('waggled#', 1), ('mischief#', 1), ('jigsaw#', 1), ('whether#', 1), ('aloud#', 1), ('salt#', 1), ('combination#', 1), ('sneakily#', 1), ('Peeking#', 1), ('unwanted#', 1), ('Bookcase#', 1), ('ends#', 1), ('shimmer#', 1), ('leaking#', 1), ('gotta#', 1), ('behaviour#', 1), ('wrestle#', 1), ('freed#', 1), ('innocent#', 1), ('Teaching#', 1), ('Farms#', 1), ('sturdy#', 1), ('deadline#', 1), ('interrupt#', 1), ('paycheck#', 1), ('mealtime#', 1), ('sunnies#', 1), ('juggled#', 1), ('juggling#', 1), ('indluded#', 1), ('goals#', 1), ('ultimately#', 1), ('winner#', 1), ('entertaining#', 1), ('healing#', 1), ('leap#', 1), ('mixture#', 1), ('gushing#', 1), ('pled#', 1), ('cheesiest#', 1), ('slowing#', 1), ('seahorse#', 1), ('kindheartedness#', 1), ('imposing#', 1), ('motioned#', 1), ('Nonsense#', 1), ('moods#', 1), ('widely#', 1), ('attitude#', 1), ('Often#', 1), ('safest#', 1), ('chocolates#', 1), ('painful#', 1), ('raged#', 1), ('shady#', 1), ('designing#', 1), ('wilt#', 1), ('Ribbit#', 1), ('carved#', 1), ('aprons#', 1), ('baker#', 1), ('announced#', 1), ('Hearing#', 1), ('wielding#', 1), ('stylish#', 1), ('snout#', 1), ('Pig#', 1), ('curl#', 1), ('shelters#', 1), ('Cheap#', 1), ('Shelter#', 1), ('affordable#', 1), ('wrists#', 1), ('joking#', 1), ('mustaches#', 1), ('disagreement#', 1), ('disagreeing#', 1), ('challenging#', 1), ('ability#', 1), ('stubbornness#', 1), ('rubbish#', 1), ('ticklish#', 1), ('squished#', 1), ('Gathering#', 1), ('softness#', 1), ('mesmerised#', 1), ('efforts#', 1), ('acts#', 1), ('yielding#', 1), ('squashed#', 1), ('jobs#', 1), ('scuttle#', 1), ('beacon#', 1), ('University#', 1), ('grounds#', 1), ('newspapers#', 1), ('seeking#', 1), ('creep#', 1), ('desks#', 1), ('spy#', 1), ('securely#', 1), ('amusing#', 1), ('unsure#', 1), ('acceptable#', 1), ('becasue#', 1), ('thicket#', 1), ('motionless#', 1), ('instinct#', 1), ('corals#', 1), ('pears#', 1), ('venture#', 1), ('belief#', 1), ('Heat#', 1), ('handiwork#', 1), ('whispering#', 1), ('tweet#', 1), ('Wind#', 1), ('Tree#', 1), ('surfaces#', 1), ('gadgets#', 1), ('proposed#', 1), ('toss#', 1), ('pro#', 1), ('upcoming#', 1), ('stockings#', 1), ('lectures#', 1), ('Decorating#', 1), ('peeled#', 1), ('frantically#', 1), ('emerged#', 1), ('agreeing#', 1), ('calmed#', 1), ('cells#', 1), ('recess#', 1), ('DANGER#', 1), ('yowled#', 1), ('teasingly#', 1), ('pedalled#', 1), ('moose#', 1), ('session#', 1), ('panel#', 1), ('secretly#', 1), ('peepers#', 1), ('observing#', 1), ('persistence#', 1), ('sweetly#', 1), ('capturing#', 1), ('swished#', 1), ('tumbling#', 1), ('vanishes#', 1), ('temperatures#', 1), ('sledding#', 1), ('conductor#', 1), ('amazment#', 1), ('displayed#', 1), ('sparked#', 1), ('thrower#', 1), ('swiftly#', 1), ('rainwater#', 1), ('remaining#', 1), ('aeroplanes#', 1), ('whimper#', 1), ('supporting#', 1), ('lowered#', 1), ('marker#', 1), ('Yellow#', 1), ('Comet#', 1), ('olds#', 1), ('enthralled#', 1), ('muscles#', 1), ('triumphantly#', 1), ('dribble#', 1), ('floaty#', 1), ('jumble#', 1), ('towering#', 1), ('metres#', 1), ('arrangement#', 1), ('nibbled#', 1), ('embarked#', 1), ('handfuls#', 1), ('bendy#', 1), ('appreciating#', 1), ('handmade#', 1), ('stitched#', 1), ('songbird#', 1), ('songbirds#', 1), ('nighttime#', 1), ('permitted#', 1), ('exotic#', 1), ('passage#', 1), ('prized#', 1), ('dreamy#', 1), ('wetness#', 1), ('independence#', 1), ('vibrant#', 1), ('moaning#', 1), ('storekeeper#', 1), ('begun#', 1), ('Exit#', 1), ('latch#', 1), ('whoosh#', 1), ('wicked#', 1), ('frolicking#', 1), ('skirts#', 1), ('compliment#', 1), ('outfits#', 1), ('cigarettes#', 1), ('Thankyou#', 1), ('tons#', 1), ('pistols#', 1), ('trolley#', 1), ('spilt#', 1), ('cupboards#', 1), ('floppy#', 1), ('sampled#', 1), ('reds#', 1), ('pinks#', 1), ('purples#', 1), ('stunning#', 1), ('haircuts#', 1), ('shaky#', 1), ('seven#', 1), ('nine#', 1), ('Upstairs#', 1), ('tinge#', 1), ('barky#', 1), ('coolness#', 1), ('Poke#', 1), ('embarrass#', 1), ('shirts#', 1), ('elevators#', 1), ('truthfully#', 1), ('scribbling#', 1), ('purses#', 1), ('chaos#', 1), ('Roaring#', 1), ('predicted#', 1), ('untangled#', 1), ('hunger#', 1), ('shaved#', 1), ('dipped#', 1), ('biscuits#', 1), ('windowsill#', 1), ('pavement#', 1), ('shortest#', 1), ('separating#', 1), ('injury#', 1), ('photographs#', 1), ('scuffed#', 1), ('grip#', 1), ('shift#', 1), ('bathed#', 1), ('mosaic#', 1), ('blooms#', 1), ('treasuring#', 1), ('rarely#', 1), ('Friend#', 1), ('bakeries#', 1), ('guidance#', 1), ('ahold#', 1), ('sparkiling#', 1), ('Apples#', 1), ('plums#', 1), ('favourites#', 1), ('poisoned#', 1), ('lobby#', 1), ('tiled#', 1), ('bill#', 1), ('babbled#', 1), ('organised#', 1), ('Ever#', 1), ('Building#', 1), ('techniques#', 1), ('undeterred#', 1), ('fooled#', 1), ('fiercest#', 1), ('petting#', 1), ('bold#', 1), ('mended#', 1), ('features#', 1), ('glided#', 1), ('hundreds#', 1), ('Missiles#', 1), ('guards#', 1), ('raking#', 1), ('single#', 1), ('greeting#', 1), ('peacefully#', 1), ('seagulls#', 1), ('captured#', 1), ('clumsily#', 1), ('tackle#', 1), ('fisherment#', 1), ('wanderings#', 1), ('snooze#', 1), ('threats#', 1), ('intelligence#', 1), ('pored#', 1), ('Rhyme#', 1), ('minty#', 1), ('thousand#', 1), ('gardens#', 1), ('winding#', 1), ('quenched#', 1), ('thirst#', 1), ('dingy#', 1), ('information#', 1), ('Explained#', 1), ('spooled#', 1), ('strands#', 1), ('reversed#', 1), ('doorstep#', 1), ('clutched#', 1), ('banging#', 1), ('glittering#', 1), ('tickly#', 1), ('Ah#', 1), ('ah#', 1), ('CHOO#', 1), ('active#', 1), ('fossil#', 1), ('creaky#', 1), ('ABC#', 1), ('droopy#', 1), ('grumbling#', 1), ('bumping#', 1), ('munched#', 1), ('labour#', 1), ('haul#', 1), ('livingroom#', 1), ('whirled#', 1), ('parking#', 1), ('Right#', 1), ('carefree#', 1), ('official#', 1), ('hurray#', 1), ('socket#', 1), ('examining#', 1), ('More#', 1), ('surfers#', 1), ('Rough#', 1), ('bellies#', 1), ('formed#', 1), ('scrunching#', 1), ('Vanish#', 1), ('sooo#', 1), ('puffy#', 1), ('feathery#', 1), ('Oxygen#', 1), ('Sunbathing#', 1), ('Owner#', 1), ('healthiest#', 1), ('flock#', 1), ('brightness#', 1), ('snatch#', 1), ('stubborness#', 1), ('Sooner#', 1), ('Tomorrow#', 1), ('bat#', 1), ('natural#', 1), ('acknowledge#', 1), ('presence#', 1), ('promising#', 1), ('JOHN#', 1), ('lasted#', 1), ('nestled#', 1), ('hovered#', 1), ('High#', 1), ('lovingly#', 1), ('clinic#', 1), ('beeping#', 1), ('bumpers#', 1), ('scrub#', 1), ('sponge#', 1), ('soapy#', 1), ('squeaky#', 1), ('scrubbed#', 1), ('shiniest#', 1), ('brilliantly#', 1), ('paraded#', 1), ('suited#', 1), ('choreographed#', 1), ('leaps#', 1), ('realising#', 1), ('incredibly#', 1), ('forwards#', 1), ('strutted#', 1), ('complimented#', 1), ('grunt#', 1), ('thump#', 1), ('improving#', 1), ('chins#', 1), ('burp#', 1), ('cheeky#', 1), ('occurred#', 1), ('crocodiles#', 1), ('swayed#', 1), ('swerve#', 1), ('born#', 1), ('tidbits#', 1), ('parrots#', 1), ('Eagerly#', 1), ('receiving#', 1), ('protection#', 1), ('accepting#', 1), ('wriggled#', 1), ('lad#', 1), ('twirling#', 1), ('gymnastic#', 1), ('mats#', 1), ('posts#', 1), ('hurdles#', 1), ('Flashlight#', 1), ('squealing#', 1), ('crazier#', 1), ('sized#', 1), ('squeals#', 1), ('Catch#', 1), ('foxes#', 1), ('Delivery#', 1), ('delivering#', 1), ('thankfully#', 1), ('headband#', 1), ('Holding#', 1), ('twitched#', 1), ('enchanted#', 1), ('cupcake#', 1), ('recognizing#', 1), ('combined#', 1), ('equal#', 1), ('individual#', 1), ('portions#', 1), ('teams#', 1), ('Giving#', 1), ('sunbeams#', 1), ('Drops#', 1), ('Early#', 1), ('foods#', 1), ('jaw#', 1), ('chilli#', 1), ('sleeve#', 1), ('batch#', 1), ('headache#', 1), ('Over#', 1), ('ponies#', 1), ('brag#', 1), ('hatched#', 1), ('suspicious#', 1), ('Reindeer#', 1), ('Merry#', 1), ('choices#', 1), ('soaking#', 1), ('stretches#', 1), ('crawls#', 1), ('Drop#', 1), ('fisher#', 1), ('shoo#', 1), ('preventing#', 1), ('croaks#', 1), ('seesaws#', 1), ('sniffles#', 1), ('guesses#', 1), ('explains#', 1), ('gaps#', 1), ('Ahoy#', 1), ('testing#', 1), ('presses#', 1), ('data#', 1), ('unwrap#', 1), ('quarreling#', 1), ('spins#', 1), ('Dancing#', 1), ('ropes#', 1), ('tilted#', 1), ('badge#', 1), ('remains#', 1), ('dot#', 1), ('souvenirs#', 1), ('honoring#', 1), ('filter#', 1), ('rascals#', 1), ('silk#', 1), ('pans#', 1), ('spills#', 1), ('forgets#', 1), ('shivery#', 1), ('scuttled#', 1), ('Sir#', 1), ('Tinkle#', 1), ('Pinkle#', 1), ('slams#', 1), ('blame#', 1), ('soda#', 1), ('Mine#', 1), ('Sour#', 1), ('50#', 1), ('refunds#', 1), ('cheat#', 1), ('pilots#', 1), ('rainbows#', 1), ('folding#', 1), ('besides#', 1), ('English#', 1), ('Language#', 1), ('biting#', 1), ('Achoo#', 1), ('supplying#', 1), ('odor#', 1), ('duckies#', 1), ('erupting#', 1), ('flipping#', 1), ('wiggly#', 1), ('grilling#', 1), ('sicker#', 1), ('surrendered#', 1), ('tick#', 1), ('tock#', 1), ('flicker#', 1), ('slippers#', 1), ('displays#', 1), ('protector#', 1), ('Fierce#', 1), ('saws#', 1), ('hairstyles#', 1), ('gorillas#', 1), ('tightness#', 1), ('boasted#', 1), ('wiser#', 1), ('bitten#', 1), ('passable#', 1), ('overestimate#', 1), ('abilities#', 1), ('whooping#', 1), ('capable#', 1), ('pitchfork#', 1), ('bounded#', 1), ('trot#', 1), ('snaps#', 1), ('wrinkled#', 1), ('rippled#', 1), ('coaxing#', 1), ('snowing#', 1), ('peacefulness#', 1), ('peculiar#', 1), ('suggest#', 1), ('lip#', 1), ('cupped#', 1), ('chin#', 1), ('ages#', 1), ('sinking#', 1), ('structures#', 1), ('college#', 1), ('graduated#', 1), ('pollen#', 1), ('Upon#', 1), ('slumber#', 1), ('Wombat#', 1), ('twisty#', 1), ('bristly#', 1), ('emptied#', 1), ('Danger#', 1), ('Enter#', 1), ('pesky#', 1), ('swatter#', 1), ('compromised#', 1), ('frequently#', 1), ('ruckus#', 1), ('heeded#', 1), ('muddy#', 1), ('illustrated#', 1), ('tales#', 1), ('produce#', 1), ('hourglass#', 1), ('flyer#', 1), ('sweat#', 1), ('Tough#', 1), ('Fear#', 1), ('Looks#', 1), ('intimidated#', 1), ('Make#', 1), ('among#', 1), ('bells#', 1), ('parachutes#', 1), ('handled#', 1), ('plus#', 1), ('confronted#', 1), ('scientists#', 1), ('tentatively#', 1), ('Signed#', 1), ('stacks#', 1), ('12#', 1), ('fortunate#', 1), ('armchair#', 1), ('encouragement#', 1), ('blackbird#', 1), ('rely#', 1), ('spoken#', 1), ('approach#', 1), ('cooing#', 1), ('oar#', 1), ('shoreline#', 1), ('hunted#', 1), ('scariest#', 1), ('comforting#', 1), ('gleam#', 1), ('lamb#', 1), ('woolly#', 1), ('gleefully#', 1), ('cycle#', 1), ('endeavoured#', 1), ('practised#', 1), ('nerves#', 1), ('loudest#', 1), ('Should#', 1), ('policemen#', 1), ('slightly#', 1), ('posters#', 1), ('online#', 1), ('placing#', 1), ('Kindness#', 1), ('chugging#', 1), ('smoking#', 1), ('Writing#', 1), ('gliding#', 1), ('needing#', 1), ('lung#', 1), ('ruled#', 1), ('disappearance#', 1), ('chews#', 1), ('guardian#', 1), ('suffered#', 1), ('greatly#', 1), ('creepy#', 1), ('talents#', 1), ('gloominess#', 1), ('efficient#', 1), ('Fire#', 1), ('toasted#', 1), ('paddle#', 1), ('Within#', 1), ('faithful#', 1), ('invincible#', 1), ('loneliness#', 1), ('speeded#', 1), ('immense#', 1), ('handy#', 1), ('swirls#', 1), ('prettiest#', 1), ('Cars#', 1), ('automobiles#', 1), ('Hop#', 1), ('30#', 1), ('luxurious#', 1), ('illusion#', 1), ('cameras#', 1), ('devastated#', 1), ('obsessed#', 1), ('scores#', 1), ('tallied#', 1), ('expecting#', 1), ('participate#', 1), ('frightening#', 1), ('foreshadowed#', 1), ('fond#', 1), ('swishing#', 1), ('flutist#', 1), ('whales#', 1), ('toasty#', 1), ('cafes#', 1), ('husband#', 1), ('cinnamon#', 1), ('inspect#', 1), ('Since#', 1), ('wanna#', 1), ('vows#', 1), ('temperature#', 1), ('pins#', 1), ('sewed#', 1), ('master#', 1), ('handstand#', 1), ('react#', 1), ('yogas#', 1), ('timer#', 1), ('ding#', 1), ('bonfire#', 1), ('blaze#', 1), ('entertain#', 1), ('clowning#', 1), ('deepest#', 1), ('Trust#', 1), ('suitable#', 1), ('actuallly#', 1), ('enjoyable#', 1), ('jaws#', 1), ('autumn#', 1), ('shaping#', 1), ('students#', 1), ('beloved#', 1), ('identity#', 1), ('form#', 1), ('darkening#', 1), ('Lightning#', 1), ('menacing#', 1), ('embrace#', 1), ('differences#', 1), ('mucky#', 1), ('gritty#', 1), ('shots#', 1), ('pout#', 1), ('mooing#', 1), ('Kneeling#', 1), ('saucer#', 1), ('crickets#', 1), ('groundhog#', 1), ('racecars#', 1), ('boost#', 1), ('wheeled#', 1), ('tumbled#', 1), ('petrified#', 1), ('remarkable#', 1), ('levitate#', 1), ('quivered#', 1), ('atmosphere#', 1), ('hometown#', 1), ('Grinning#', 1), ('weatherfish#', 1), ('seaweed#', 1), ('sooner#', 1), ('gems#', 1), ('reunited#', 1), ('views#', 1), ('Abracadabra#', 1), ('flick#', 1), ('BANG#', 1), ('nibbles#', 1), ('campfire#', 1), ('pump#', 1), ('journeys#', 1), ('waterfall#', 1), ('tracking#', 1), ('grasp#', 1), ('tables#', 1), ('fixes#', 1), ('bandaid#', 1), ('reciting#', 1), ('banner#', 1), ('mischievous#', 1), ('unlike#', 1), ('crispy#', 1), ('lilies#', 1), ('Rest#', 1), ('ounce#', 1), ('orchard#', 1), ('loading#', 1), ('treated#', 1), ('birdy#', 1), ('combing#', 1), ('champion#', 1), ('pianos#', 1), ('fishies#', 1), ('crowded#', 1), ('Sundays#', 1), ('bending#', 1), ('stamping#', 1), ('Ravens#', 1), ('bacon#', 1), ('playmate#', 1), ('pickles#', 1), ('Road#', 1), ('Closed#', 1), ('motel#', 1), ('cranky#', 1), ('whine#', 1), ('Ask#', 1), ('Rocks#', 1), ('tapes#', 1), ('flags#', 1), ('Teasing#', 1), ('cruel#', 1), ('yelps#', 1), ('shaving#', 1), ('ouchy#', 1), ('digs#', 1), ('kneels#', 1), ('racks#', 1), ('Wolves#', 1), ('bared#', 1), ('dip#', 1), ('demands#', 1), ('crosses#', 1), ('pouts#', 1), ('wagons#', 1), ('hider#', 1), ('sails#', 1), ('Razors#', 1), ('Um#', 1), ('fruity#', 1), ('stirs#', 1), ('Squish#', 1), ('Crunch#', 1), ('pours#', 1), ('Swish#', 1), ('mumbled#', 1), ('meets#', 1), ('luckiest#', 1), ('growls#', 1), ('thumps#', 1), ('wears#', 1), ('Whistling#', 1), ('copied#', 1), ('faint#', 1), ('whistler#', 1), ('rings#', 1), ('Pizza#', 1), ('pepperoni#', 1), ('Hot#', 1), ('mustard#', 1), ('Bananas#', 1), ('skirt#', 1), ('Zap#', 1), ('Flash#', 1), ('Pow#', 1), ('Pebbles#', 1), ('hostess#', 1), ('fewer#', 1), ('groom#', 1), ('loop#', 1), ('uniting#', 1), ('lipstick#', 1), ('eyeshadow#', 1), ('blush#', 1), ('Makeup#', 1), ('attract#', 1), ('Traffic#', 1), ('manes#', 1), ('Fragile#', 1), ('Say#', 1), ('sank#', 1), ('foamy#', 1), ('Cheating#', 1), ('Fly#', 1), ('honesty#', 1), ('priceless#', 1), ('fetched#', 1), ('loot#', 1), ('vain#', 1), ('taps#', 1), ('buys#', 1), ('guitars#', 1), ('keyboards#', 1), ('awesome#', 1), ('nursery#', 1), ('rhyme#', 1), ('Toys#', 1), ('cent#', 1), ('steered#', 1), ('camel#', 1), ('panting#', 1), ('paradise#', 1), ('cuddling#', 1), ('Stars#', 1), ('practical#', 1), ('napkins#', 1), ('16#', 1), ('drag#', 1), ('bleated#', 1), ('Vroom#', 1), ('villains#', 1), ('dump#', 1), ('showers#', 1), ('twin#', 1), ('daughters#', 1), ('clogged#', 1), ('overflowing#', 1), ('Years#', 1), ('owning#', 1), ('perspective#', 1), ('allowing#', 1), ('forests#', 1), ('postcard#', 1), ('grounded#', 1), ('drowned#', 1), ('donation#', 1), ('wag#', 1), ('drown#', 1), ('Restroom#', 1), ('gnaw#', 1), ('Skeleton#', 1), ('savers#', 1), ('vendors#', 1), ('toilets#', 1), ('funnier#', 1), ('correctly#', 1), ('moonlight#', 1), ('hurriedly#', 1), ('Learning#', 1), ('hateful#', 1), ('pelted#', 1), ('repay#', 1), ('deserve#', 1), ('mornings#', 1), ('muttered#', 1), ('dawn#', 1), ('fondly#', 1), ('whitecaps#', 1), ('aware#', 1), ('overcooked#', 1), ('confidence#', 1), ('lingers#', 1), ('streak#', 1), ('transformed#', 1), ('helpfulness#', 1), ('Alright#', 1), ('stored#', 1), ('opinions#', 1), ('depend#', 1), ('stumbling#', 1), ('tended#', 1), ('crops#', 1), ('misty#', 1), ('Stealing#', 1), ('vowing#', 1), ('cultures#', 1), ('meaning#', 1), ('croaked#', 1), ('Hard#', 1), ('easiest#', 1), ('huddle#', 1), ('Sweet#', 1), ('trundled#', 1), ('churned#', 1), ('creak#', 1), ('groan#', 1), ('churning#', 1), ('smoothly#', 1), ('Taking#', 1), ('breakdown#', 1), ('proving#', 1), ('depths#', 1), ('wrecks#', 1), ('skittish#', 1), ('mastered#', 1), ('pros#', 1), ('tolerate#', 1), ('launch#', 1), ('angles#', 1), ('beneficial#', 1), ('friendships#', 1), ('ping#', 1), ('enter#', 1), ('pure#', 1), ('introducing#', 1), ('blessing#', 1), ('Could#', 1), ('unwrapped#', 1), ('mischievously#', 1), ('clubs#', 1), ('batting#', 1), ('Jazz#', 1), ('Isn#', 1), ('gruff#', 1), ('frighten#', 1), ('tipping#', 1), ('resolve#', 1), ('Tears#', 1), ('lurk#', 1), ('Looking#', 1), ('lookout#', 1), ('Instantly#', 1), ('hesitation#', 1), ('Fox#', 1), ('sparks#', 1), ('injured#', 1), ('explosion#', 1), ('MAX#', 1), ('collections#', 1), ('antlers#', 1), ('heights#', 1), ('waning#', 1), ('continuing#', 1), ('senses#', 1), ('brains#', 1), ('Finding#', 1), ('sailboat#', 1), ('ought#', 1), ('Standing#', 1), ('propose#', 1), ('expedition#', 1), ('Sauce#', 1), ('Shop#', 1), ('slathered#', 1), ('Otherwise#', 1), ('Reluctantly#', 1), ('trudged#', 1), ('Pleeeease#', 1), ('Awwww#', 1), ('drooping#', 1), ('impact#', 1), ('Eggs#', 1), ('choke#', 1), ('spat#', 1), ('except#', 1), ('Delicious#', 1), ('playfully#', 1), ('steeper#', 1), ('balancers#', 1), ('discouraged#', 1), ('extraordinary#', 1), ('interrupted#', 1), ('racket#', 1), ('equally#', 1), ('neighbours#', 1), ('Hmm#', 1), ('nightstand#', 1), ('Accidents#', 1), ('shorts#', 1), ('Mmmm#', 1), ('craft#', 1), ('materials#', 1), ('Teacher#', 1), ('creativity#', 1), ('inspected#', 1), ('hovering#', 1), ('eagerness#', 1), ('greater#', 1), ('newly#', 1), ('nuzzles#', 1), ('stumbles#', 1), ('Ice#', 1), ('puck#', 1), ('thetree#', 1), ('poems#', 1), ('flooding#', 1), ('obviously#', 1), ('a3#', 1), ('Said#', 1), ('circled#', 1), ('lettuce#', 1), ('cucumbers#', 1), ('pens#', 1), ('reasonable#', 1), ('stem#', 1), ('mummies#', 1), ('warnings#', 1), ('plump#', 1), ('ripest#', 1), ('backward#', 1), ('Goose#', 1), ('system#', 1), ('explanation#', 1), ('nightfall#', 1), ('recreate#', 1), ('moles#', 1), ('platform#', 1), ('dressing#', 1), ('smushed#', 1), ('atop#', 1), ('inched#', 1), ('Confused#', 1), ('Oysters#', 1), ('encounters#', 1), ('helplessly#', 1), ('replying#', 1), ('carve#', 1), ('crafts#', 1), ('bandits#', 1), ('lush#', 1), ('insisting#', 1), ('outstretched#', 1), ('enthusiastically#', 1), ('keen#', 1), ('detective#', 1), ('clung#', 1), ('childhood#', 1), ('bitterness#', 1), ('tails#', 1), ('Things#', 1), ('cycled#', 1), ('ridden#', 1), ('sorrow#', 1), ('alternative#', 1), ('Food#', 1), ('handlebars#', 1), ('wobble#', 1), ('trace#', 1), ('dashing#', 1), ('garments#', 1), ('Ooh#', 1), ('responding#', 1), ('addition#', 1), ('finest#', 1), ('docked#', 1), ('THE#', 1), ('electronic#', 1), ('Rhinos#', 1), ('mazement#', 1), ('Open#', 1), ('Eve#', 1), ('bellowed#', 1), ('grandbaby#', 1), ('exploding#', 1), ('rage#', 1), ('fled#', 1), ('shinier#', 1), ('cockpit#', 1), ('outcome#', 1), ('Rise#', 1), ('leafy#', 1), ('snag#', 1), ('surefooted#', 1), ('poinsettia#', 1), ('mantel#', 1), ('retrace#', 1), ('exception#', 1), ('reclined#', 1), ('Driver#', 1), ('lane#', 1), ('ferocious#', 1), ('Whoever#', 1), ('loser#', 1), ('endings#', 1), ('periods#', 1), ('similar#', 1), ('claimed#', 1), ('wraps#', 1), ('tale#', 1), ('topics#', 1), ('thoughts#', 1), ('hundred#', 1), ('clicks#', 1), ('Loud#', 1), ('unpleasant#', 1), ('situations#', 1), ('monarch#', 1), ('Chickens#', 1), ('yeah#', 1), ('Scarecrow#', 1), ('gum#', 1), ('pecking#', 1), ('misbehaving#', 1), ('shoving#', 1), ('drying#', 1), ('mound#', 1), ('lifts#', 1), ('Mouse#', 1), ('Aesop#', 1), ('spare#', 1), ('pierced#', 1), ('spared#', 1), ('doubtful#', 1), ('desperate#', 1), ('Lunch#', 1), ('enemies#', 1), ('Praying#', 1), ('believes#', 1), ('prays#', 1), ('notices#', 1), ('cooks#', 1), ('shares#', 1), ('ungrateful#', 1), ('gross#', 1), ('tossing#', 1), ('wasteful#', 1), ('Shame#', 1), ('Boo#', 1), ('taped#', 1), ('rattles#', 1), ('laws#', 1), ('bumps#', 1), ('smashed#', 1), ('Share#', 1), ('guests#', 1), ('Dangerous#', 1), ('Smoke#', 1), ('Didn#', 1), ('experiment#', 1), ('Curiosity#', 1), ('noses#', 1), ('peppers#', 1), ('Aw#', 1), ('honking#', 1), ('prisoner#', 1), ('statues#', 1), ('Slow#', 1), ('sacred#', 1), ('attentively#', 1), ('Respect#', 1), ('chat#', 1), ('honked#', 1), ('War#', 1), ('encourages#', 1), ('Sewing#', 1), ('stitches#', 1), ('sewing#', 1), ('forgiveness#', 1), ('sons#', 1), ('hour#', 1), ('ticking#', 1), ('tingle#', 1), ('artwork#', 1), ('listener#', 1), ('runways#', 1), ('suitcases#', 1), ('turkeys#', 1), ('robbers#', 1), ('sunscreen#', 1), ('swimsuits#', 1), ('popsicle#', 1), ('necks#', 1), ('strengths#', 1), ('rains#', 1), ('navy#', 1), ('fireworks#', 1), ('invitations#', 1), ('battle#', 1), ('packages#', 1), ('deliveries#', 1), ('icing#', 1), ('microwave#', 1), ('pandas#', 1), ('mane#', 1), ('permitting#', 1), ('porcelain#', 1), ('scratchy#', 1), ('builder#', 1), ('Caution#', 1), ('connection#', 1), ('Excited#', 1), ('raspberry#', 1), ('flavored#', 1), ('slower#', 1), ('paler#', 1), ('squirt#', 1), ('cowgirl#', 1), ('warily#', 1), ('soul#', 1), ('sobbing#', 1), ('teary#', 1), ('considered#', 1), ('perked#', 1), ('Show#', 1), ('plucked#', 1), ('rewards#', 1), ('products#', 1), ('unfamiliar#', 1), ('greet#', 1), ('stunned#', 1), ('Turns#', 1), ('livelier#', 1), ('quest#', 1), ('hiked#', 1), ('cursed#', 1), ('meaningful#', 1), ('nailed#', 1), ('cheery#', 1), ('Whats#', 1), ('funniest#', 1), ('Popcorn#', 1), ('allright#', 1), ('speck#', 1), ('streets#', 1), ('absent#', 1), ('mindedly#', 1), ('slapping#', 1), ('wilderness#', 1), ('closest#', 1), ('walrus#', 1), ('clump#', 1), ('sneezing#', 1), ('ACHOO#', 1), ('pigtails#', 1), ('disobey#', 1), ('Tonight#', 1), ('Pretending#', 1), ('putted#', 1), ('strut#', 1), ('rash#', 1), ('hooked#', 1), ('potato#', 1), ('countryside#', 1), ('simplest#', 1), ('pleasures#', 1), ('detail#', 1), ('creeping#', 1), ('competing#', 1), ('Fast#', 1), ('sloped#', 1), ('downwards#', 1), ('masterpiece#', 1), ('greens#', 1), ('Mind#', 1), ('movement#', 1), ('playmates#', 1), ('Oak#', 1), ('trimmed#', 1), ('tidier#', 1), ('glistened#', 1), ('daylight#', 1), ('inspecting#', 1), ('precision#', 1), ('disbelief#', 1), ('pals#', 1), ('strung#', 1), ('annd#', 1), ('Climb#', 1), ('squirm#', 1), ('splendid#', 1), ('although#', 1), ('guiltily#', 1), ('weighing#', 1), ('contained#', 1), ('material#', 1), ('Caught#', 1), ('bumblebee#', 1), ('effect#', 1), ('action#', 1), ('goodberries#', 1), ('bows#', 1), ('Trip#', 1), ('youngster#', 1), ('cheerfully#', 1), ('bystanders#', 1), ('gesture#', 1), ('considerate#', 1), ('courtroom#', 1), ('crooked#', 1), ('sadder#', 1), ('markings#', 1), ('marking#', 1), ('displease#', 1), ('visits#', 1), ('fertilizer#', 1), ('villager#', 1), ('habit#', 1), ('reunite#', 1), ('lending#', 1), ('halfway#', 1), ('orders#', 1), ('scolding#', 1), ('mucking#', 1), ('waddling#', 1), ('posted#', 1), ('tummies#', 1), ('spotting#', 1), ('banned#', 1), ('fully#', 1)]\n",
            "Top 200 kata:  ['And', 'Ben', 'But', 'From', 'He', 'Her', 'His', 'I', 'It', 'Jack', 'Let', 'Lily', 'Max', 'Mom', 'Mommy', 'Once', 'One', 'Sam', 'She', 'So', 'Suddenly', 'The', 'Then', 'They', 'Tim', 'Timmy', 'Tom', 'We', 'When', 'You', 'a', 'about', 'again', 'all', 'always', 'an', 'and', 'are', 'around', 'as', 'asked', 'at', 'away', 'back', 'be', 'bear', 'because', 'better', 'big', 'bird', 'boy', 'but', 'came', 'can', 'car', 'could', 'couldn', 'dad', 'day', 'decided', 'did', 'didn', 'do', 'dog', 'down', 'each', 'eat', 'end', 'even', 'excited', 'felt', 'find', 'for', 'found', 'friend', 'friends', 'from', 'fun', 'gave', 'get', 'girl', 'go', 'good', 'got', 'had', 'happy', 'have', 'he', 'heard', 'help', 'her', 'him', 'his', 'home', 'house', 'how', 'hugged', 'if', 'in', 'inside', 'into', 'is', 'it', 'just', 'kind', 'knew', 'know', 'learned', 'like', 'liked', 'little', 'long', 'look', 'looked', 'lots', 'loved', 'made', 'make', 'man', 'me', 'mom', 'mommy', 'more', 'much', 'my', 'named', 'never', 'new', 'no', 'not', 'of', 'old', 'on', 'one', 'other', 'out', 'outside', 'over', 'park', 'play', 'played', 'playing', 'proud', 'put', 'ran', 's', 'sad', 'said', 'saw', 'scared', 'see', 'she', 'sky', 'smiled', 'so', 'some', 'something', 'special', 'started', 't', 'take', 'that', 'the', 'their', 'them', 'then', 'there', 'they', 'things', 'this', 'thought', 'time', 'to', 'together', 'told', 'too', 'took', 'toy', 'toys', 'tree', 'tried', 'until', 'up', 'upon', 'very', 'want', 'wanted', 'was', 'water', 'we', 'went', 'were', 'what', 'when', 'who', 'will', 'with', 'would', 'you', 'your']\n",
            "Stopwords:  ['a', 'about', 'above', 'after', 'again', 'against', 'ain', 'all', 'am', 'an', 'and', 'any', 'are', 'aren', \"aren't\", 'as', 'at', 'be', 'because', 'been', 'before', 'being', 'below', 'between', 'both', 'but', 'by', 'can', 'couldn', \"couldn't\", 'd', 'did', 'didn', \"didn't\", 'do', 'does', 'doesn', \"doesn't\", 'doing', 'don', \"don't\", 'down', 'during', 'each', 'few', 'for', 'from', 'further', 'had', 'hadn', \"hadn't\", 'has', 'hasn', \"hasn't\", 'have', 'haven', \"haven't\", 'having', 'he', 'her', 'here', 'hers', 'herself', 'him', 'himself', 'his', 'how', 'i', 'if', 'in', 'into', 'is', 'isn', \"isn't\", 'it', \"it's\", 'its', 'itself', 'just', 'll', 'm', 'ma', 'me', 'mightn', \"mightn't\", 'more', 'most', 'mustn', \"mustn't\", 'my', 'myself', 'needn', \"needn't\", 'no', 'nor', 'not', 'now', 'o', 'of', 'off', 'on', 'once', 'only', 'or', 'other', 'our', 'ours', 'ourselves', 'out', 'over', 'own', 're', 's', 'same', 'shan', \"shan't\", 'she', \"she's\", 'should', \"should've\", 'shouldn', \"shouldn't\", 'so', 'some', 'such', 't', 'than', 'that', \"that'll\", 'the', 'their', 'theirs', 'them', 'themselves', 'then', 'there', 'these', 'they', 'this', 'those', 'through', 'to', 'too', 'under', 'until', 'up', 've', 'very', 'was', 'wasn', \"wasn't\", 'we', 'were', 'weren', \"weren't\", 'what', 'when', 'where', 'which', 'while', 'who', 'whom', 'why', 'will', 'with', 'won', \"won't\", 'wouldn', \"wouldn't\", 'y', 'you', \"you'd\", \"you'll\", \"you're\", \"you've\", 'your', 'yours', 'yourself', 'yourselves']\n",
            "Total frequency of stopwords in corpus: 204890\n",
            "Total number of the same stopwords: 72\n"
          ]
        }
      ],
      "source": [
        "# TODO: kode\n",
        "\n",
        "word_freqs = get_word_freqs(corpus)\n",
        "\n",
        "sorted_word_freqs = sorted(word_freqs.items(), key=lambda x:x[1], reverse = True)\n",
        "\n",
        "print(\"Top 200 kata dengan frekuensi:\", sorted_word_freqs)\n",
        "\n",
        "stop_words_word_freqs = [word[:-1] for word, freq in sorted_word_freqs[:200]]\n",
        "\n",
        "print(\"Top 200 kata: \", sorted(stop_words_word_freqs))\n",
        "print(\"Stopwords: \", sorted(english_stopwords))\n",
        "\n",
        "total = 0\n",
        "total_frequency = 0\n",
        "\n",
        "for word in stop_words_word_freqs:\n",
        "  if (word in english_stopwords):\n",
        "    total += 1\n",
        "    temp_word = word + \"#\"\n",
        "    total_frequency += word_freqs[temp_word]\n",
        "\n",
        "print(\"Total frequency of stopwords in corpus:\", total_frequency)\n",
        "\n",
        "print(f\"Total number of the same stopwords:\", total)"
      ]
    },
    {
      "cell_type": "markdown",
      "metadata": {
        "id": "yo3BDzykRXqc"
      },
      "source": [
        "Dari stopwords yang saya dapatkan dari NLTK dibandingkan top 200 frekuensi yang saya peroleh dari tokenizer regex, dapat dilihat bahwa terdapat 72 dari 200 top frequency data yang cocok dengan stopwords yang saya download dari package NLTK.\n",
        "\n",
        "Artinya stopwords mendominasi 36% besar dari top 200 kata yang ada pada corpus. Selanjutnya, apabila kita lihat bahwa dalam korpus sendiri (dapat dilihat pada jawaban no 2 pada analisis, total kata yang dimiliki adalah sebesar 491612 dan jumlah stopwords yang ada pada corpus adalah 204890). Dapat dilihat bahwa 42 % dari corpus adalah stopwords."
      ]
    }
  ],
  "metadata": {
    "colab": {
      "provenance": []
    },
    "kernelspec": {
      "display_name": "Python 3",
      "name": "python3"
    },
    "language_info": {
      "codemirror_mode": {
        "name": "ipython",
        "version": 3
      },
      "file_extension": ".py",
      "mimetype": "text/x-python",
      "name": "python",
      "nbconvert_exporter": "python",
      "pygments_lexer": "ipython3",
      "version": "3.10.9"
    }
  },
  "nbformat": 4,
  "nbformat_minor": 0
}