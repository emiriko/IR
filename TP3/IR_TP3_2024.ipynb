{
 "cells": [
  {
   "cell_type": "markdown",
   "metadata": {
    "id": "yIpZ7JVdJFIE"
   },
   "source": [
    "# Information Retrieval - Programming Assignment 3\n",
    "**Retrieval + Re-Ranking using PyTerrier**  \n",
    "*Author: Febi Imanuela & Luthfi Balaka*\n",
    "\n",
    "---"
   ]
  },
  {
   "cell_type": "markdown",
   "metadata": {
    "id": "UgmkEfkKNN_f"
   },
   "source": [
    "For Programming Assignment 3, you are asked to perform re-ranking with learning-to-rank model on the given dataset. In order to do so, you need to preprocess the dataset, index the document collection, ideate the re-ranking features, train the model, and evaluate the performance for further analysis.\n",
    "\n",
    "PyTerrier is a helpful tool to carry out IR operations. Therefore, we provide a PyTerrier template for this assignment. More information and example can be referred from the previous [Tutorial 1](https://colab.research.google.com/drive/10NpHgtotDQv6bQXEv3CmqyRVQ0BXknlC?usp=sharing) and PyTerrier documentation.\n",
    "\n",
    "\n",
    "---\n",
    "\n",
    "\n",
    "*   Fill in the `✋TODO` section\n",
    "*   Provide justification for your choices\n",
    "*   Report your experiment results and analysis\n",
    "\n",
    "\n",
    "---\n",
    "\n",
    "\n",
    "Happy exploring!"
   ]
  },
  {
   "cell_type": "markdown",
   "metadata": {
    "id": "hPEfolu3F14q"
   },
   "source": [
    "# Setup"
   ]
  },
  {
   "cell_type": "code",
   "execution_count": 27,
   "metadata": {
    "colab": {
     "base_uri": "https://localhost:8080/"
    },
    "collapsed": true,
    "id": "HVUVmsmEGPDw",
    "outputId": "7ce2d342-c1ef-4fd2-89b0-eae485232c49"
   },
   "outputs": [
    {
     "name": "stdout",
     "output_type": "stream",
     "text": [
      "Requirement already satisfied: python-terrier in d:\\ir\\tp3\\env\\lib\\site-packages (0.11.0)\n",
      "Requirement already satisfied: numpy in d:\\ir\\tp3\\env\\lib\\site-packages (from python-terrier) (2.1.3)\n",
      "Requirement already satisfied: pandas in d:\\ir\\tp3\\env\\lib\\site-packages (from python-terrier) (2.2.3)\n",
      "Requirement already satisfied: matchpy in d:\\ir\\tp3\\env\\lib\\site-packages (from python-terrier) (0.5.5)\n",
      "Requirement already satisfied: more-itertools in d:\\ir\\tp3\\env\\lib\\site-packages (from python-terrier) (10.5.0)\n",
      "Requirement already satisfied: tqdm in d:\\ir\\tp3\\env\\lib\\site-packages (from python-terrier) (4.67.0)\n",
      "Requirement already satisfied: requests in d:\\ir\\tp3\\env\\lib\\site-packages (from python-terrier) (2.32.3)\n",
      "Requirement already satisfied: ir-datasets>=0.3.2 in d:\\ir\\tp3\\env\\lib\\site-packages (from python-terrier) (0.5.9)\n",
      "Requirement already satisfied: wget in d:\\ir\\tp3\\env\\lib\\site-packages (from python-terrier) (3.2)\n",
      "Requirement already satisfied: pyjnius>=1.4.2 in d:\\ir\\tp3\\env\\lib\\site-packages (from python-terrier) (1.6.1)\n",
      "Requirement already satisfied: deprecated in d:\\ir\\tp3\\env\\lib\\site-packages (from python-terrier) (1.2.15)\n",
      "Requirement already satisfied: scipy in d:\\ir\\tp3\\env\\lib\\site-packages (from python-terrier) (1.14.1)\n",
      "Requirement already satisfied: ir-measures>=0.3.1 in d:\\ir\\tp3\\env\\lib\\site-packages (from python-terrier) (0.3.4)\n",
      "Requirement already satisfied: pytrec-eval-terrier>=0.5.3 in d:\\ir\\tp3\\env\\lib\\site-packages (from python-terrier) (0.5.6)\n",
      "Requirement already satisfied: jinja2 in d:\\ir\\tp3\\env\\lib\\site-packages (from python-terrier) (3.1.4)\n",
      "Requirement already satisfied: statsmodels in d:\\ir\\tp3\\env\\lib\\site-packages (from python-terrier) (0.14.4)\n",
      "Requirement already satisfied: dill in d:\\ir\\tp3\\env\\lib\\site-packages (from python-terrier) (0.3.8)\n",
      "Requirement already satisfied: joblib in d:\\ir\\tp3\\env\\lib\\site-packages (from python-terrier) (1.4.2)\n",
      "Requirement already satisfied: chest in d:\\ir\\tp3\\env\\lib\\site-packages (from python-terrier) (0.2.3)\n",
      "Requirement already satisfied: beautifulsoup4>=4.4.1 in d:\\ir\\tp3\\env\\lib\\site-packages (from ir-datasets>=0.3.2->python-terrier) (4.12.3)\n",
      "Requirement already satisfied: inscriptis>=2.2.0 in d:\\ir\\tp3\\env\\lib\\site-packages (from ir-datasets>=0.3.2->python-terrier) (2.5.0)\n",
      "Requirement already satisfied: lxml>=4.5.2 in d:\\ir\\tp3\\env\\lib\\site-packages (from ir-datasets>=0.3.2->python-terrier) (5.3.0)\n",
      "Requirement already satisfied: pyyaml>=5.3.1 in d:\\ir\\tp3\\env\\lib\\site-packages (from ir-datasets>=0.3.2->python-terrier) (6.0.2)\n",
      "Requirement already satisfied: trec-car-tools>=2.5.4 in d:\\ir\\tp3\\env\\lib\\site-packages (from ir-datasets>=0.3.2->python-terrier) (2.6)\n",
      "Requirement already satisfied: lz4>=3.1.10 in d:\\ir\\tp3\\env\\lib\\site-packages (from ir-datasets>=0.3.2->python-terrier) (4.3.3)\n",
      "Requirement already satisfied: warc3-wet>=0.2.3 in d:\\ir\\tp3\\env\\lib\\site-packages (from ir-datasets>=0.3.2->python-terrier) (0.2.5)\n",
      "Requirement already satisfied: warc3-wet-clueweb09>=0.2.5 in d:\\ir\\tp3\\env\\lib\\site-packages (from ir-datasets>=0.3.2->python-terrier) (0.2.5)\n",
      "Requirement already satisfied: zlib-state>=0.1.3 in d:\\ir\\tp3\\env\\lib\\site-packages (from ir-datasets>=0.3.2->python-terrier) (0.1.9)\n",
      "Requirement already satisfied: ijson>=3.1.3 in d:\\ir\\tp3\\env\\lib\\site-packages (from ir-datasets>=0.3.2->python-terrier) (3.3.0)\n",
      "Requirement already satisfied: unlzw3>=0.2.1 in d:\\ir\\tp3\\env\\lib\\site-packages (from ir-datasets>=0.3.2->python-terrier) (0.2.2)\n",
      "Requirement already satisfied: charset-normalizer<4,>=2 in d:\\ir\\tp3\\env\\lib\\site-packages (from requests->python-terrier) (3.4.0)\n",
      "Requirement already satisfied: idna<4,>=2.5 in d:\\ir\\tp3\\env\\lib\\site-packages (from requests->python-terrier) (3.10)\n",
      "Requirement already satisfied: urllib3<3,>=1.21.1 in d:\\ir\\tp3\\env\\lib\\site-packages (from requests->python-terrier) (2.2.3)\n",
      "Requirement already satisfied: certifi>=2017.4.17 in d:\\ir\\tp3\\env\\lib\\site-packages (from requests->python-terrier) (2024.8.30)\n",
      "Requirement already satisfied: colorama in d:\\ir\\tp3\\env\\lib\\site-packages (from tqdm->python-terrier) (0.4.6)\n",
      "Requirement already satisfied: heapdict in d:\\ir\\tp3\\env\\lib\\site-packages (from chest->python-terrier) (1.0.1)\n",
      "Requirement already satisfied: wrapt<2,>=1.10 in d:\\ir\\tp3\\env\\lib\\site-packages (from deprecated->python-terrier) (1.16.0)\n",
      "Requirement already satisfied: MarkupSafe>=2.0 in d:\\ir\\tp3\\env\\lib\\site-packages (from jinja2->python-terrier) (3.0.2)\n",
      "Requirement already satisfied: multiset<3.0,>=2.0 in d:\\ir\\tp3\\env\\lib\\site-packages (from matchpy->python-terrier) (2.1.1)\n",
      "Requirement already satisfied: python-dateutil>=2.8.2 in d:\\ir\\tp3\\env\\lib\\site-packages (from pandas->python-terrier) (2.9.0.post0)\n",
      "Requirement already satisfied: pytz>=2020.1 in d:\\ir\\tp3\\env\\lib\\site-packages (from pandas->python-terrier) (2024.2)\n",
      "Requirement already satisfied: tzdata>=2022.7 in d:\\ir\\tp3\\env\\lib\\site-packages (from pandas->python-terrier) (2024.2)\n",
      "Requirement already satisfied: patsy>=0.5.6 in d:\\ir\\tp3\\env\\lib\\site-packages (from statsmodels->python-terrier) (1.0.1)\n",
      "Requirement already satisfied: packaging>=21.3 in d:\\ir\\tp3\\env\\lib\\site-packages (from statsmodels->python-terrier) (24.2)\n",
      "Requirement already satisfied: soupsieve>1.2 in d:\\ir\\tp3\\env\\lib\\site-packages (from beautifulsoup4>=4.4.1->ir-datasets>=0.3.2->python-terrier) (2.6)\n",
      "Requirement already satisfied: six>=1.5 in d:\\ir\\tp3\\env\\lib\\site-packages (from python-dateutil>=2.8.2->pandas->python-terrier) (1.16.0)\n",
      "Requirement already satisfied: cbor>=1.0.0 in d:\\ir\\tp3\\env\\lib\\site-packages (from trec-car-tools>=2.5.4->ir-datasets>=0.3.2->python-terrier) (1.0.0)\n"
     ]
    },
    {
     "name": "stderr",
     "output_type": "stream",
     "text": [
      "\n",
      "[notice] A new release of pip is available: 23.2.1 -> 24.3.1\n",
      "[notice] To update, run: python.exe -m pip install --upgrade pip\n"
     ]
    },
    {
     "name": "stdout",
     "output_type": "stream",
     "text": [
      "Collecting git+https://github.com/terrierteam/pyterrier_t5.git;\n",
      "  Cloning https://github.com/terrierteam/pyterrier_t5.git; to c:\\users\\notal\\appdata\\local\\temp\\pip-req-build-worho1wu\n"
     ]
    },
    {
     "name": "stderr",
     "output_type": "stream",
     "text": [
      "  Running command git clone --filter=blob:none --quiet 'https://github.com/terrierteam/pyterrier_t5.git;' 'C:\\Users\\notal\\AppData\\Local\\Temp\\pip-req-build-worho1wu'\n",
      "  remote: Repository not found.\n",
      "  fatal: repository 'https://github.com/terrierteam/pyterrier_t5.git;/' not found\n",
      "  error: subprocess-exited-with-error\n",
      "  \n",
      "  × git clone --filter=blob:none --quiet 'https://github.com/terrierteam/pyterrier_t5.git;' 'C:\\Users\\notal\\AppData\\Local\\Temp\\pip-req-build-worho1wu' did not run successfully.\n",
      "  │ exit code: 128\n",
      "  ╰─> See above for output.\n",
      "  \n",
      "  note: This error originates from a subprocess, and is likely not a problem with pip.\n",
      "error: subprocess-exited-with-error\n",
      "\n",
      "× git clone --filter=blob:none --quiet 'https://github.com/terrierteam/pyterrier_t5.git;' 'C:\\Users\\notal\\AppData\\Local\\Temp\\pip-req-build-worho1wu' did not run successfully.\n",
      "│ exit code: 128\n",
      "╰─> See above for output.\n",
      "\n",
      "note: This error originates from a subprocess, and is likely not a problem with pip.\n",
      "\n",
      "[notice] A new release of pip is available: 23.2.1 -> 24.3.1\n",
      "[notice] To update, run: python.exe -m pip install --upgrade pip\n"
     ]
    },
    {
     "name": "stdout",
     "output_type": "stream",
     "text": [
      "Requirement already satisfied: datasets in d:\\ir\\tp3\\env\\lib\\site-packages (3.1.0)\n",
      "Requirement already satisfied: filelock in d:\\ir\\tp3\\env\\lib\\site-packages (from datasets) (3.16.1)\n",
      "Requirement already satisfied: numpy>=1.17 in d:\\ir\\tp3\\env\\lib\\site-packages (from datasets) (2.1.3)\n",
      "Requirement already satisfied: pyarrow>=15.0.0 in d:\\ir\\tp3\\env\\lib\\site-packages (from datasets) (18.0.0)\n",
      "Requirement already satisfied: dill<0.3.9,>=0.3.0 in d:\\ir\\tp3\\env\\lib\\site-packages (from datasets) (0.3.8)\n",
      "Requirement already satisfied: pandas in d:\\ir\\tp3\\env\\lib\\site-packages (from datasets) (2.2.3)\n",
      "Requirement already satisfied: requests>=2.32.2 in d:\\ir\\tp3\\env\\lib\\site-packages (from datasets) (2.32.3)\n",
      "Requirement already satisfied: tqdm>=4.66.3 in d:\\ir\\tp3\\env\\lib\\site-packages (from datasets) (4.67.0)\n",
      "Requirement already satisfied: xxhash in d:\\ir\\tp3\\env\\lib\\site-packages (from datasets) (3.5.0)\n",
      "Requirement already satisfied: multiprocess<0.70.17 in d:\\ir\\tp3\\env\\lib\\site-packages (from datasets) (0.70.16)\n",
      "Requirement already satisfied: fsspec[http]<=2024.9.0,>=2023.1.0 in d:\\ir\\tp3\\env\\lib\\site-packages (from datasets) (2024.9.0)\n",
      "Requirement already satisfied: aiohttp in d:\\ir\\tp3\\env\\lib\\site-packages (from datasets) (3.11.2)\n",
      "Requirement already satisfied: huggingface-hub>=0.23.0 in d:\\ir\\tp3\\env\\lib\\site-packages (from datasets) (0.26.2)\n",
      "Requirement already satisfied: packaging in d:\\ir\\tp3\\env\\lib\\site-packages (from datasets) (24.2)\n",
      "Requirement already satisfied: pyyaml>=5.1 in d:\\ir\\tp3\\env\\lib\\site-packages (from datasets) (6.0.2)\n",
      "Requirement already satisfied: aiohappyeyeballs>=2.3.0 in d:\\ir\\tp3\\env\\lib\\site-packages (from aiohttp->datasets) (2.4.3)\n",
      "Requirement already satisfied: aiosignal>=1.1.2 in d:\\ir\\tp3\\env\\lib\\site-packages (from aiohttp->datasets) (1.3.1)\n",
      "Requirement already satisfied: attrs>=17.3.0 in d:\\ir\\tp3\\env\\lib\\site-packages (from aiohttp->datasets) (24.2.0)\n",
      "Requirement already satisfied: frozenlist>=1.1.1 in d:\\ir\\tp3\\env\\lib\\site-packages (from aiohttp->datasets) (1.5.0)\n",
      "Requirement already satisfied: multidict<7.0,>=4.5 in d:\\ir\\tp3\\env\\lib\\site-packages (from aiohttp->datasets) (6.1.0)\n",
      "Requirement already satisfied: propcache>=0.2.0 in d:\\ir\\tp3\\env\\lib\\site-packages (from aiohttp->datasets) (0.2.0)\n",
      "Requirement already satisfied: yarl<2.0,>=1.17.0 in d:\\ir\\tp3\\env\\lib\\site-packages (from aiohttp->datasets) (1.17.2)\n",
      "Requirement already satisfied: typing-extensions>=3.7.4.3 in d:\\ir\\tp3\\env\\lib\\site-packages (from huggingface-hub>=0.23.0->datasets) (4.12.2)\n",
      "Requirement already satisfied: charset-normalizer<4,>=2 in d:\\ir\\tp3\\env\\lib\\site-packages (from requests>=2.32.2->datasets) (3.4.0)\n",
      "Requirement already satisfied: idna<4,>=2.5 in d:\\ir\\tp3\\env\\lib\\site-packages (from requests>=2.32.2->datasets) (3.10)\n",
      "Requirement already satisfied: urllib3<3,>=1.21.1 in d:\\ir\\tp3\\env\\lib\\site-packages (from requests>=2.32.2->datasets) (2.2.3)\n",
      "Requirement already satisfied: certifi>=2017.4.17 in d:\\ir\\tp3\\env\\lib\\site-packages (from requests>=2.32.2->datasets) (2024.8.30)\n",
      "Requirement already satisfied: colorama in d:\\ir\\tp3\\env\\lib\\site-packages (from tqdm>=4.66.3->datasets) (0.4.6)\n",
      "Requirement already satisfied: python-dateutil>=2.8.2 in d:\\ir\\tp3\\env\\lib\\site-packages (from pandas->datasets) (2.9.0.post0)\n",
      "Requirement already satisfied: pytz>=2020.1 in d:\\ir\\tp3\\env\\lib\\site-packages (from pandas->datasets) (2024.2)\n",
      "Requirement already satisfied: tzdata>=2022.7 in d:\\ir\\tp3\\env\\lib\\site-packages (from pandas->datasets) (2024.2)\n",
      "Requirement already satisfied: six>=1.5 in d:\\ir\\tp3\\env\\lib\\site-packages (from python-dateutil>=2.8.2->pandas->datasets) (1.16.0)\n"
     ]
    },
    {
     "name": "stderr",
     "output_type": "stream",
     "text": [
      "\n",
      "[notice] A new release of pip is available: 23.2.1 -> 24.3.1\n",
      "[notice] To update, run: python.exe -m pip install --upgrade pip\n"
     ]
    },
    {
     "name": "stdout",
     "output_type": "stream",
     "text": [
      "Requirement already satisfied: gdown in d:\\ir\\tp3\\env\\lib\\site-packages (5.2.0)\n",
      "Requirement already satisfied: beautifulsoup4 in d:\\ir\\tp3\\env\\lib\\site-packages (from gdown) (4.12.3)\n",
      "Requirement already satisfied: filelock in d:\\ir\\tp3\\env\\lib\\site-packages (from gdown) (3.16.1)\n",
      "Requirement already satisfied: requests[socks] in d:\\ir\\tp3\\env\\lib\\site-packages (from gdown) (2.32.3)\n",
      "Requirement already satisfied: tqdm in d:\\ir\\tp3\\env\\lib\\site-packages (from gdown) (4.67.0)\n",
      "Requirement already satisfied: soupsieve>1.2 in d:\\ir\\tp3\\env\\lib\\site-packages (from beautifulsoup4->gdown) (2.6)\n",
      "Requirement already satisfied: charset-normalizer<4,>=2 in d:\\ir\\tp3\\env\\lib\\site-packages (from requests[socks]->gdown) (3.4.0)\n",
      "Requirement already satisfied: idna<4,>=2.5 in d:\\ir\\tp3\\env\\lib\\site-packages (from requests[socks]->gdown) (3.10)\n",
      "Requirement already satisfied: urllib3<3,>=1.21.1 in d:\\ir\\tp3\\env\\lib\\site-packages (from requests[socks]->gdown) (2.2.3)\n",
      "Requirement already satisfied: certifi>=2017.4.17 in d:\\ir\\tp3\\env\\lib\\site-packages (from requests[socks]->gdown) (2024.8.30)\n",
      "Requirement already satisfied: PySocks!=1.5.7,>=1.5.6 in d:\\ir\\tp3\\env\\lib\\site-packages (from requests[socks]->gdown) (1.7.1)\n",
      "Requirement already satisfied: colorama in d:\\ir\\tp3\\env\\lib\\site-packages (from tqdm->gdown) (0.4.6)\n"
     ]
    },
    {
     "name": "stderr",
     "output_type": "stream",
     "text": [
      "\n",
      "[notice] A new release of pip is available: 23.2.1 -> 24.3.1\n",
      "[notice] To update, run: python.exe -m pip install --upgrade pip\n"
     ]
    },
    {
     "name": "stdout",
     "output_type": "stream",
     "text": [
      "Requirement already satisfied: rank_bm25 in d:\\ir\\tp3\\env\\lib\\site-packages (0.2.2)"
     ]
    },
    {
     "name": "stderr",
     "output_type": "stream",
     "text": [
      "\n",
      "[notice] A new release of pip is available: 23.2.1 -> 24.3.1\n",
      "[notice] To update, run: python.exe -m pip install --upgrade pip\n"
     ]
    },
    {
     "name": "stdout",
     "output_type": "stream",
     "text": [
      "\n",
      "Requirement already satisfied: numpy in d:\\ir\\tp3\\env\\lib\\site-packages (from rank_bm25) (2.1.3)\n",
      "Requirement already satisfied: sentence-transformers in d:\\ir\\tp3\\env\\lib\\site-packages (3.3.0)\n",
      "Requirement already satisfied: transformers<5.0.0,>=4.41.0 in d:\\ir\\tp3\\env\\lib\\site-packages (from sentence-transformers) (4.46.2)\n",
      "Requirement already satisfied: tqdm in d:\\ir\\tp3\\env\\lib\\site-packages (from sentence-transformers) (4.67.0)\n",
      "Requirement already satisfied: torch>=1.11.0 in d:\\ir\\tp3\\env\\lib\\site-packages (from sentence-transformers) (2.5.1)\n",
      "Requirement already satisfied: scikit-learn in d:\\ir\\tp3\\env\\lib\\site-packages (from sentence-transformers) (1.5.2)\n",
      "Requirement already satisfied: scipy in d:\\ir\\tp3\\env\\lib\\site-packages (from sentence-transformers) (1.14.1)\n",
      "Requirement already satisfied: huggingface-hub>=0.20.0 in d:\\ir\\tp3\\env\\lib\\site-packages (from sentence-transformers) (0.26.2)\n",
      "Requirement already satisfied: Pillow in d:\\ir\\tp3\\env\\lib\\site-packages (from sentence-transformers) (11.0.0)\n",
      "Requirement already satisfied: filelock in d:\\ir\\tp3\\env\\lib\\site-packages (from huggingface-hub>=0.20.0->sentence-transformers) (3.16.1)\n",
      "Requirement already satisfied: fsspec>=2023.5.0 in d:\\ir\\tp3\\env\\lib\\site-packages (from huggingface-hub>=0.20.0->sentence-transformers) (2024.9.0)\n",
      "Requirement already satisfied: packaging>=20.9 in d:\\ir\\tp3\\env\\lib\\site-packages (from huggingface-hub>=0.20.0->sentence-transformers) (24.2)\n",
      "Requirement already satisfied: pyyaml>=5.1 in d:\\ir\\tp3\\env\\lib\\site-packages (from huggingface-hub>=0.20.0->sentence-transformers) (6.0.2)\n",
      "Requirement already satisfied: requests in d:\\ir\\tp3\\env\\lib\\site-packages (from huggingface-hub>=0.20.0->sentence-transformers) (2.32.3)\n",
      "Requirement already satisfied: typing-extensions>=3.7.4.3 in d:\\ir\\tp3\\env\\lib\\site-packages (from huggingface-hub>=0.20.0->sentence-transformers) (4.12.2)\n",
      "Requirement already satisfied: networkx in d:\\ir\\tp3\\env\\lib\\site-packages (from torch>=1.11.0->sentence-transformers) (3.4.2)\n",
      "Requirement already satisfied: jinja2 in d:\\ir\\tp3\\env\\lib\\site-packages (from torch>=1.11.0->sentence-transformers) (3.1.4)\n",
      "Requirement already satisfied: sympy==1.13.1 in d:\\ir\\tp3\\env\\lib\\site-packages (from torch>=1.11.0->sentence-transformers) (1.13.1)\n",
      "Requirement already satisfied: mpmath<1.4,>=1.1.0 in d:\\ir\\tp3\\env\\lib\\site-packages (from sympy==1.13.1->torch>=1.11.0->sentence-transformers) (1.3.0)\n",
      "Requirement already satisfied: colorama in d:\\ir\\tp3\\env\\lib\\site-packages (from tqdm->sentence-transformers) (0.4.6)\n",
      "Requirement already satisfied: numpy>=1.17 in d:\\ir\\tp3\\env\\lib\\site-packages (from transformers<5.0.0,>=4.41.0->sentence-transformers) (2.1.3)\n",
      "Requirement already satisfied: regex!=2019.12.17 in d:\\ir\\tp3\\env\\lib\\site-packages (from transformers<5.0.0,>=4.41.0->sentence-transformers) (2024.11.6)\n",
      "Requirement already satisfied: safetensors>=0.4.1 in d:\\ir\\tp3\\env\\lib\\site-packages (from transformers<5.0.0,>=4.41.0->sentence-transformers) (0.4.5)\n",
      "Requirement already satisfied: tokenizers<0.21,>=0.20 in d:\\ir\\tp3\\env\\lib\\site-packages (from transformers<5.0.0,>=4.41.0->sentence-transformers) (0.20.3)\n",
      "Requirement already satisfied: joblib>=1.2.0 in d:\\ir\\tp3\\env\\lib\\site-packages (from scikit-learn->sentence-transformers) (1.4.2)\n",
      "Requirement already satisfied: threadpoolctl>=3.1.0 in d:\\ir\\tp3\\env\\lib\\site-packages (from scikit-learn->sentence-transformers) (3.5.0)\n",
      "Requirement already satisfied: MarkupSafe>=2.0 in d:\\ir\\tp3\\env\\lib\\site-packages (from jinja2->torch>=1.11.0->sentence-transformers) (3.0.2)\n",
      "Requirement already satisfied: charset-normalizer<4,>=2 in d:\\ir\\tp3\\env\\lib\\site-packages (from requests->huggingface-hub>=0.20.0->sentence-transformers) (3.4.0)\n",
      "Requirement already satisfied: idna<4,>=2.5 in d:\\ir\\tp3\\env\\lib\\site-packages (from requests->huggingface-hub>=0.20.0->sentence-transformers) (3.10)\n",
      "Requirement already satisfied: urllib3<3,>=1.21.1 in d:\\ir\\tp3\\env\\lib\\site-packages (from requests->huggingface-hub>=0.20.0->sentence-transformers) (2.2.3)\n",
      "Requirement already satisfied: certifi>=2017.4.17 in d:\\ir\\tp3\\env\\lib\\site-packages (from requests->huggingface-hub>=0.20.0->sentence-transformers) (2024.8.30)\n"
     ]
    },
    {
     "name": "stderr",
     "output_type": "stream",
     "text": [
      "\n",
      "[notice] A new release of pip is available: 23.2.1 -> 24.3.1\n",
      "[notice] To update, run: python.exe -m pip install --upgrade pip\n"
     ]
    },
    {
     "name": "stdout",
     "output_type": "stream",
     "text": [
      "Requirement already satisfied: xgboost in d:\\ir\\tp3\\env\\lib\\site-packages (2.1.2)\n",
      "Requirement already satisfied: numpy in d:\\ir\\tp3\\env\\lib\\site-packages (from xgboost) (2.1.3)\n",
      "Requirement already satisfied: scipy in d:\\ir\\tp3\\env\\lib\\site-packages (from xgboost) (1.14.1)\n"
     ]
    },
    {
     "name": "stderr",
     "output_type": "stream",
     "text": [
      "\n",
      "[notice] A new release of pip is available: 23.2.1 -> 24.3.1\n",
      "[notice] To update, run: python.exe -m pip install --upgrade pip\n"
     ]
    }
   ],
   "source": [
    "!pip install python-terrier;\n",
    "!pip install --upgrade git+https://github.com/terrierteam/pyterrier_t5.git;\n",
    "!pip install datasets;\n",
    "!pip install gdown;\n",
    "!pip install rank_bm25;\n",
    "!pip install sentence-transformers;\n",
    "!pip install xgboost;"
   ]
  },
  {
   "cell_type": "code",
   "execution_count": 1,
   "metadata": {
    "colab": {
     "base_uri": "https://localhost:8080/"
    },
    "collapsed": true,
    "id": "KsEIvILKGVvE",
    "outputId": "da5d51be-ca77-4c89-cbae-78a029f96c26"
   },
   "outputs": [
    {
     "name": "stderr",
     "output_type": "stream",
     "text": [
      "d:\\IR\\TP3\\env\\Lib\\site-packages\\tqdm\\auto.py:21: TqdmWarning: IProgress not found. Please update jupyter and ipywidgets. See https://ipywidgets.readthedocs.io/en/stable/user_install.html\n",
      "  from .autonotebook import tqdm as notebook_tqdm\n",
      "C:\\Users\\notal\\AppData\\Local\\Temp\\ipykernel_10708\\4056902049.py:13: DeprecationWarning: Call to deprecated function (or staticmethod) started. (use pt.java.started() instead) -- Deprecated since version 0.11.0.\n",
      "  if not pt.started():\n"
     ]
    },
    {
     "name": "stdout",
     "output_type": "stream",
     "text": [
      "Downloading terrier-assemblies 5.x-SNAPSHOT jar-with-dependencies to C:\\Users\\notal/.pyterrier...\n",
      "Done\n"
     ]
    },
    {
     "name": "stderr",
     "output_type": "stream",
     "text": [
      "Java started and loaded: pyterrier.java, pyterrier.terrier.java [version=5.10 (build: jitpack 2024-09-24 17:43), helper_version=0.0.8]\n",
      "C:\\Users\\notal\\AppData\\Local\\Temp\\ipykernel_10708\\4056902049.py:14: DeprecationWarning: Call to deprecated method pt.init(). Deprecated since version 0.11.0.\n",
      "The following code will have the same effect:\n",
      "pt.terrier.set_version('snapshot')\n",
      "pt.java.init() # optional, forces java initialisation\n",
      "  pt.init(version='snapshot')\n"
     ]
    }
   ],
   "source": [
    "import re\n",
    "import gdown\n",
    "import pyterrier as pt\n",
    "import pandas as pd\n",
    "import numpy as np\n",
    "from sklearn.feature_extraction.text import TfidfVectorizer\n",
    "from pyterrier.measures import *\n",
    "from rank_bm25 import BM25Okapi\n",
    "from sentence_transformers import SentenceTransformer\n",
    "import xgboost as xgb\n",
    "from sklearn.model_selection import ParameterGrid\n",
    "\n",
    "if not pt.started():\n",
    "  pt.init(version='snapshot')"
   ]
  },
  {
   "cell_type": "markdown",
   "metadata": {},
   "source": []
  },
  {
   "cell_type": "markdown",
   "metadata": {
    "id": "CilptuwdF-MN"
   },
   "source": [
    "# Data Preparation"
   ]
  },
  {
   "cell_type": "code",
   "execution_count": 29,
   "metadata": {
    "colab": {
     "base_uri": "https://localhost:8080/"
    },
    "id": "qRAPb3y5eKl5",
    "outputId": "8fd9d424-a914-442d-a75b-f13a4cdb1516"
   },
   "outputs": [
    {
     "data": {
      "text/plain": [
       "['.\\\\corpus.csv',\n",
       " '.\\\\dev.csv',\n",
       " '.\\\\queries.csv',\n",
       " '.\\\\test.csv',\n",
       " '.\\\\train.csv']"
      ]
     },
     "execution_count": 29,
     "metadata": {},
     "output_type": "execute_result"
    }
   ],
   "source": [
    "# Load dataset\n",
    "url = \"https://drive.google.com/drive/folders/12AiGXUUlduwVJJrSOYp4RvLWNS8_X_xH?usp=drive_link\"\n",
    "gdown.download_folder(url, output=\".\", quiet=True)"
   ]
  },
  {
   "cell_type": "code",
   "execution_count": 2,
   "metadata": {
    "collapsed": true,
    "id": "UdfITs8VgEzC"
   },
   "outputs": [],
   "source": [
    "collections = pd.read_csv(\"corpus.csv\")\n",
    "queries = pd.read_csv(\"queries.csv\")\n",
    "\n",
    "train_qrels = pd.read_csv(\"train.csv\")\n",
    "dev_qrels = pd.read_csv(\"dev.csv\")\n",
    "test_qrels = pd.read_csv(\"test.csv\")"
   ]
  },
  {
   "cell_type": "code",
   "execution_count": 3,
   "metadata": {
    "colab": {
     "base_uri": "https://localhost:8080/",
     "height": 206
    },
    "id": "DWhop23GLRlk",
    "outputId": "be74be40-2b8d-48da-cd38-2a6aff3816bd"
   },
   "outputs": [
    {
     "data": {
      "text/html": [
       "<div>\n",
       "<style scoped>\n",
       "    .dataframe tbody tr th:only-of-type {\n",
       "        vertical-align: middle;\n",
       "    }\n",
       "\n",
       "    .dataframe tbody tr th {\n",
       "        vertical-align: top;\n",
       "    }\n",
       "\n",
       "    .dataframe thead th {\n",
       "        text-align: right;\n",
       "    }\n",
       "</style>\n",
       "<table border=\"1\" class=\"dataframe\">\n",
       "  <thead>\n",
       "    <tr style=\"text-align: right;\">\n",
       "      <th></th>\n",
       "      <th>id</th>\n",
       "      <th>text</th>\n",
       "    </tr>\n",
       "  </thead>\n",
       "  <tbody>\n",
       "    <tr>\n",
       "      <th>0</th>\n",
       "      <td>49</td>\n",
       "      <td>Colorâurine can be a variety of colors, most...</td>\n",
       "    </tr>\n",
       "    <tr>\n",
       "      <th>1</th>\n",
       "      <td>12913</td>\n",
       "      <td>Rio de Janeiro: Annual Weather Averages. Febru...</td>\n",
       "    </tr>\n",
       "    <tr>\n",
       "      <th>2</th>\n",
       "      <td>14964</td>\n",
       "      <td>The judiciary (also known as the judicial syst...</td>\n",
       "    </tr>\n",
       "    <tr>\n",
       "      <th>3</th>\n",
       "      <td>17272</td>\n",
       "      <td>Painless swelling of the feet and ankles is a ...</td>\n",
       "    </tr>\n",
       "    <tr>\n",
       "      <th>4</th>\n",
       "      <td>18352</td>\n",
       "      <td>Later that day, the National Hurricane Center ...</td>\n",
       "    </tr>\n",
       "  </tbody>\n",
       "</table>\n",
       "</div>"
      ],
      "text/plain": [
       "      id                                               text\n",
       "0     49  Colorâurine can be a variety of colors, most...\n",
       "1  12913  Rio de Janeiro: Annual Weather Averages. Febru...\n",
       "2  14964  The judiciary (also known as the judicial syst...\n",
       "3  17272  Painless swelling of the feet and ankles is a ...\n",
       "4  18352  Later that day, the National Hurricane Center ..."
      ]
     },
     "execution_count": 3,
     "metadata": {},
     "output_type": "execute_result"
    }
   ],
   "source": [
    "collections.head()"
   ]
  },
  {
   "cell_type": "code",
   "execution_count": 4,
   "metadata": {
    "colab": {
     "base_uri": "https://localhost:8080/",
     "height": 206
    },
    "id": "LBSKPzpeLUUQ",
    "outputId": "70e03fca-379f-498e-8ed5-2fa382f82c81"
   },
   "outputs": [
    {
     "data": {
      "text/html": [
       "<div>\n",
       "<style scoped>\n",
       "    .dataframe tbody tr th:only-of-type {\n",
       "        vertical-align: middle;\n",
       "    }\n",
       "\n",
       "    .dataframe tbody tr th {\n",
       "        vertical-align: top;\n",
       "    }\n",
       "\n",
       "    .dataframe thead th {\n",
       "        text-align: right;\n",
       "    }\n",
       "</style>\n",
       "<table border=\"1\" class=\"dataframe\">\n",
       "  <thead>\n",
       "    <tr style=\"text-align: right;\">\n",
       "      <th></th>\n",
       "      <th>id</th>\n",
       "      <th>text</th>\n",
       "    </tr>\n",
       "  </thead>\n",
       "  <tbody>\n",
       "    <tr>\n",
       "      <th>0</th>\n",
       "      <td>597651</td>\n",
       "      <td>what color is amber urine</td>\n",
       "    </tr>\n",
       "    <tr>\n",
       "      <th>1</th>\n",
       "      <td>88585</td>\n",
       "      <td>causes of swollen ankles and feet</td>\n",
       "    </tr>\n",
       "    <tr>\n",
       "      <th>2</th>\n",
       "      <td>508811</td>\n",
       "      <td>symptoms of strep throat for an adult</td>\n",
       "    </tr>\n",
       "    <tr>\n",
       "      <th>3</th>\n",
       "      <td>412886</td>\n",
       "      <td>is ilovemakonnen ovo</td>\n",
       "    </tr>\n",
       "    <tr>\n",
       "      <th>4</th>\n",
       "      <td>532152</td>\n",
       "      <td>uneven chest color</td>\n",
       "    </tr>\n",
       "  </tbody>\n",
       "</table>\n",
       "</div>"
      ],
      "text/plain": [
       "       id                                   text\n",
       "0  597651              what color is amber urine\n",
       "1   88585      causes of swollen ankles and feet\n",
       "2  508811  symptoms of strep throat for an adult\n",
       "3  412886                   is ilovemakonnen ovo\n",
       "4  532152                     uneven chest color"
      ]
     },
     "execution_count": 4,
     "metadata": {},
     "output_type": "execute_result"
    }
   ],
   "source": [
    "queries.head()"
   ]
  },
  {
   "cell_type": "code",
   "execution_count": 5,
   "metadata": {
    "colab": {
     "base_uri": "https://localhost:8080/",
     "height": 206
    },
    "id": "jqCv_PisLX5l",
    "outputId": "941ed464-0b49-4a36-80e3-981b187b44f5"
   },
   "outputs": [
    {
     "data": {
      "text/html": [
       "<div>\n",
       "<style scoped>\n",
       "    .dataframe tbody tr th:only-of-type {\n",
       "        vertical-align: middle;\n",
       "    }\n",
       "\n",
       "    .dataframe tbody tr th {\n",
       "        vertical-align: top;\n",
       "    }\n",
       "\n",
       "    .dataframe thead th {\n",
       "        text-align: right;\n",
       "    }\n",
       "</style>\n",
       "<table border=\"1\" class=\"dataframe\">\n",
       "  <thead>\n",
       "    <tr style=\"text-align: right;\">\n",
       "      <th></th>\n",
       "      <th>query-id</th>\n",
       "      <th>corpus-id</th>\n",
       "      <th>score</th>\n",
       "    </tr>\n",
       "  </thead>\n",
       "  <tbody>\n",
       "    <tr>\n",
       "      <th>0</th>\n",
       "      <td>597651</td>\n",
       "      <td>49</td>\n",
       "      <td>1</td>\n",
       "    </tr>\n",
       "    <tr>\n",
       "      <th>1</th>\n",
       "      <td>88585</td>\n",
       "      <td>17272</td>\n",
       "      <td>1</td>\n",
       "    </tr>\n",
       "    <tr>\n",
       "      <th>2</th>\n",
       "      <td>508811</td>\n",
       "      <td>28092</td>\n",
       "      <td>1</td>\n",
       "    </tr>\n",
       "    <tr>\n",
       "      <th>3</th>\n",
       "      <td>412886</td>\n",
       "      <td>56458</td>\n",
       "      <td>1</td>\n",
       "    </tr>\n",
       "    <tr>\n",
       "      <th>4</th>\n",
       "      <td>532152</td>\n",
       "      <td>73237</td>\n",
       "      <td>1</td>\n",
       "    </tr>\n",
       "  </tbody>\n",
       "</table>\n",
       "</div>"
      ],
      "text/plain": [
       "   query-id  corpus-id  score\n",
       "0    597651         49      1\n",
       "1     88585      17272      1\n",
       "2    508811      28092      1\n",
       "3    412886      56458      1\n",
       "4    532152      73237      1"
      ]
     },
     "execution_count": 5,
     "metadata": {},
     "output_type": "execute_result"
    }
   ],
   "source": [
    "train_qrels.head()"
   ]
  },
  {
   "cell_type": "markdown",
   "metadata": {
    "id": "A6hrMaVjNAc9"
   },
   "source": [
    "## ✋ TODO"
   ]
  },
  {
   "cell_type": "code",
   "execution_count": 6,
   "metadata": {
    "id": "6RABpl9kH5Rz"
   },
   "outputs": [],
   "source": [
    "def remove_nonalphanum(text):\n",
    "  pattern = re.compile('[\\W_]+')\n",
    "  return pattern.sub(' ', text)"
   ]
  },
  {
   "cell_type": "code",
   "execution_count": null,
   "metadata": {
    "colab": {
     "base_uri": "https://localhost:8080/",
     "height": 206
    },
    "id": "1U4P3F8kAfkr",
    "outputId": "b1f1c5fa-0cbc-46b2-9adb-cd6f9998711f"
   },
   "outputs": [
    {
     "data": {
      "text/html": [
       "<div>\n",
       "<style scoped>\n",
       "    .dataframe tbody tr th:only-of-type {\n",
       "        vertical-align: middle;\n",
       "    }\n",
       "\n",
       "    .dataframe tbody tr th {\n",
       "        vertical-align: top;\n",
       "    }\n",
       "\n",
       "    .dataframe thead th {\n",
       "        text-align: right;\n",
       "    }\n",
       "</style>\n",
       "<table border=\"1\" class=\"dataframe\">\n",
       "  <thead>\n",
       "    <tr style=\"text-align: right;\">\n",
       "      <th></th>\n",
       "      <th>docno</th>\n",
       "      <th>text</th>\n",
       "    </tr>\n",
       "  </thead>\n",
       "  <tbody>\n",
       "    <tr>\n",
       "      <th>0</th>\n",
       "      <td>D49</td>\n",
       "      <td>colorâ urine can be a variety of colors most o...</td>\n",
       "    </tr>\n",
       "    <tr>\n",
       "      <th>1</th>\n",
       "      <td>D12913</td>\n",
       "      <td>rio de janeiro annual weather averages februar...</td>\n",
       "    </tr>\n",
       "    <tr>\n",
       "      <th>2</th>\n",
       "      <td>D14964</td>\n",
       "      <td>the judiciary also known as the judicial syste...</td>\n",
       "    </tr>\n",
       "    <tr>\n",
       "      <th>3</th>\n",
       "      <td>D17272</td>\n",
       "      <td>painless swelling of the feet and ankles is a ...</td>\n",
       "    </tr>\n",
       "    <tr>\n",
       "      <th>4</th>\n",
       "      <td>D18352</td>\n",
       "      <td>later that day the national hurricane center n...</td>\n",
       "    </tr>\n",
       "  </tbody>\n",
       "</table>\n",
       "</div>"
      ],
      "text/plain": [
       "    docno                                               text\n",
       "0     D49  colorâ urine can be a variety of colors most o...\n",
       "1  D12913  rio de janeiro annual weather averages februar...\n",
       "2  D14964  the judiciary also known as the judicial syste...\n",
       "3  D17272  painless swelling of the feet and ankles is a ...\n",
       "4  D18352  later that day the national hurricane center n..."
      ]
     },
     "execution_count": 7,
     "metadata": {},
     "output_type": "execute_result"
    }
   ],
   "source": [
    "# 1. Change ID document from corpus\n",
    "collections.rename(columns = {\n",
    "    \"id\": \"docno\"\n",
    "}, inplace = True)\n",
    "\n",
    "## 2. Remove Nonalphanumeric on the text\n",
    "\n",
    "collections[\"text\"] = collections[\"text\"].apply(    ).apply(lambda x: x.lower())\n",
    "collections[\"docno\"] = collections[\"docno\"].apply(lambda x: f\"D{x}\")\n",
    "\n",
    "tokenized_corpus = [doc.split(\" \") for doc in collections[\"text\"]]\n",
    "\n",
    "collections.head()"
   ]
  },
  {
   "cell_type": "code",
   "execution_count": 8,
   "metadata": {
    "colab": {
     "base_uri": "https://localhost:8080/",
     "height": 206
    },
    "id": "WUh9PMRFDdGG",
    "outputId": "0bbeedc5-3908-4ee3-ebd9-28bb50aae5e8"
   },
   "outputs": [
    {
     "data": {
      "text/html": [
       "<div>\n",
       "<style scoped>\n",
       "    .dataframe tbody tr th:only-of-type {\n",
       "        vertical-align: middle;\n",
       "    }\n",
       "\n",
       "    .dataframe tbody tr th {\n",
       "        vertical-align: top;\n",
       "    }\n",
       "\n",
       "    .dataframe thead th {\n",
       "        text-align: right;\n",
       "    }\n",
       "</style>\n",
       "<table border=\"1\" class=\"dataframe\">\n",
       "  <thead>\n",
       "    <tr style=\"text-align: right;\">\n",
       "      <th></th>\n",
       "      <th>qid</th>\n",
       "      <th>query</th>\n",
       "    </tr>\n",
       "  </thead>\n",
       "  <tbody>\n",
       "    <tr>\n",
       "      <th>611</th>\n",
       "      <td>Q750731</td>\n",
       "      <td>what is george soros real name</td>\n",
       "    </tr>\n",
       "    <tr>\n",
       "      <th>4443</th>\n",
       "      <td>Q495130</td>\n",
       "      <td>set default browser to windows</td>\n",
       "    </tr>\n",
       "    <tr>\n",
       "      <th>1419</th>\n",
       "      <td>Q570901</td>\n",
       "      <td>what are the largest countries in africa</td>\n",
       "    </tr>\n",
       "    <tr>\n",
       "      <th>5584</th>\n",
       "      <td>Q259417</td>\n",
       "      <td>how long does respite last</td>\n",
       "    </tr>\n",
       "    <tr>\n",
       "      <th>3094</th>\n",
       "      <td>Q36505</td>\n",
       "      <td>average fixed cost formula</td>\n",
       "    </tr>\n",
       "  </tbody>\n",
       "</table>\n",
       "</div>"
      ],
      "text/plain": [
       "          qid                                     query\n",
       "611   Q750731            what is george soros real name\n",
       "4443  Q495130            set default browser to windows\n",
       "1419  Q570901  what are the largest countries in africa\n",
       "5584  Q259417                how long does respite last\n",
       "3094   Q36505                average fixed cost formula"
      ]
     },
     "execution_count": 8,
     "metadata": {},
     "output_type": "execute_result"
    }
   ],
   "source": [
    "# 3. Change ID from query\n",
    "queries.rename(columns = {\n",
    "    \"id\": \"qid\",\n",
    "    \"text\": \"query\"\n",
    "}, inplace = True)\n",
    "\n",
    "queries[\"query\"] = queries[\"query\"].apply(remove_nonalphanum).apply(lambda x: x.lower())\n",
    "queries[\"qid\"] = queries[\"qid\"].apply(lambda x: f\"Q{x}\")\n",
    "\n",
    "sampled_queries = queries.sample(n=50, random_state=42)\n",
    "\n",
    "sampled_queries.head()"
   ]
  },
  {
   "cell_type": "code",
   "execution_count": 9,
   "metadata": {
    "colab": {
     "base_uri": "https://localhost:8080/",
     "height": 206
    },
    "id": "1tQq4w9iDlvW",
    "outputId": "9687a1f3-6544-4e05-be72-dda788e867d2"
   },
   "outputs": [
    {
     "data": {
      "text/html": [
       "<div>\n",
       "<style scoped>\n",
       "    .dataframe tbody tr th:only-of-type {\n",
       "        vertical-align: middle;\n",
       "    }\n",
       "\n",
       "    .dataframe tbody tr th {\n",
       "        vertical-align: top;\n",
       "    }\n",
       "\n",
       "    .dataframe thead th {\n",
       "        text-align: right;\n",
       "    }\n",
       "</style>\n",
       "<table border=\"1\" class=\"dataframe\">\n",
       "  <thead>\n",
       "    <tr style=\"text-align: right;\">\n",
       "      <th></th>\n",
       "      <th>qid</th>\n",
       "      <th>docno</th>\n",
       "      <th>label</th>\n",
       "    </tr>\n",
       "  </thead>\n",
       "  <tbody>\n",
       "    <tr>\n",
       "      <th>0</th>\n",
       "      <td>Q597651</td>\n",
       "      <td>D49</td>\n",
       "      <td>1</td>\n",
       "    </tr>\n",
       "    <tr>\n",
       "      <th>1</th>\n",
       "      <td>Q88585</td>\n",
       "      <td>D17272</td>\n",
       "      <td>1</td>\n",
       "    </tr>\n",
       "    <tr>\n",
       "      <th>2</th>\n",
       "      <td>Q508811</td>\n",
       "      <td>D28092</td>\n",
       "      <td>1</td>\n",
       "    </tr>\n",
       "    <tr>\n",
       "      <th>3</th>\n",
       "      <td>Q412886</td>\n",
       "      <td>D56458</td>\n",
       "      <td>1</td>\n",
       "    </tr>\n",
       "    <tr>\n",
       "      <th>4</th>\n",
       "      <td>Q532152</td>\n",
       "      <td>D73237</td>\n",
       "      <td>1</td>\n",
       "    </tr>\n",
       "  </tbody>\n",
       "</table>\n",
       "</div>"
      ],
      "text/plain": [
       "       qid   docno  label\n",
       "0  Q597651     D49      1\n",
       "1   Q88585  D17272      1\n",
       "2  Q508811  D28092      1\n",
       "3  Q412886  D56458      1\n",
       "4  Q532152  D73237      1"
      ]
     },
     "execution_count": 9,
     "metadata": {},
     "output_type": "execute_result"
    }
   ],
   "source": [
    "train_qrels.rename(columns = {\n",
    "    \"query-id\": \"qid\",\n",
    "    \"corpus-id\": \"docno\",\n",
    "    \"score\": \"label\"\n",
    "}, inplace = True)\n",
    "\n",
    "train_qrels[\"qid\"] = train_qrels[\"qid\"].apply(lambda x: f\"Q{x}\")\n",
    "train_qrels[\"docno\"] = train_qrels[\"docno\"].apply(lambda x: f\"D{x}\")\n",
    "train_qrels[\"label\"] = train_qrels[\"label\"].apply(lambda x: 1 if x >= 1 else 0)\n",
    "\n",
    "train_qrels.head()"
   ]
  },
  {
   "cell_type": "code",
   "execution_count": 10,
   "metadata": {
    "colab": {
     "base_uri": "https://localhost:8080/",
     "height": 206
    },
    "id": "YdEQOKMxTh5e",
    "outputId": "95fe906f-0171-4e41-fca8-604551bf5175"
   },
   "outputs": [
    {
     "data": {
      "text/html": [
       "<div>\n",
       "<style scoped>\n",
       "    .dataframe tbody tr th:only-of-type {\n",
       "        vertical-align: middle;\n",
       "    }\n",
       "\n",
       "    .dataframe tbody tr th {\n",
       "        vertical-align: top;\n",
       "    }\n",
       "\n",
       "    .dataframe thead th {\n",
       "        text-align: right;\n",
       "    }\n",
       "</style>\n",
       "<table border=\"1\" class=\"dataframe\">\n",
       "  <thead>\n",
       "    <tr style=\"text-align: right;\">\n",
       "      <th></th>\n",
       "      <th>qid</th>\n",
       "      <th>docno</th>\n",
       "      <th>label</th>\n",
       "    </tr>\n",
       "  </thead>\n",
       "  <tbody>\n",
       "    <tr>\n",
       "      <th>0</th>\n",
       "      <td>Q174249</td>\n",
       "      <td>D7067348</td>\n",
       "      <td>1</td>\n",
       "    </tr>\n",
       "    <tr>\n",
       "      <th>1</th>\n",
       "      <td>Q87892</td>\n",
       "      <td>D7069601</td>\n",
       "      <td>1</td>\n",
       "    </tr>\n",
       "    <tr>\n",
       "      <th>2</th>\n",
       "      <td>Q264827</td>\n",
       "      <td>D7071066</td>\n",
       "      <td>1</td>\n",
       "    </tr>\n",
       "    <tr>\n",
       "      <th>3</th>\n",
       "      <td>Q206117</td>\n",
       "      <td>D7072160</td>\n",
       "      <td>1</td>\n",
       "    </tr>\n",
       "    <tr>\n",
       "      <th>4</th>\n",
       "      <td>Q196232</td>\n",
       "      <td>D7072326</td>\n",
       "      <td>1</td>\n",
       "    </tr>\n",
       "  </tbody>\n",
       "</table>\n",
       "</div>"
      ],
      "text/plain": [
       "       qid     docno  label\n",
       "0  Q174249  D7067348      1\n",
       "1   Q87892  D7069601      1\n",
       "2  Q264827  D7071066      1\n",
       "3  Q206117  D7072160      1\n",
       "4  Q196232  D7072326      1"
      ]
     },
     "execution_count": 10,
     "metadata": {},
     "output_type": "execute_result"
    }
   ],
   "source": [
    "dev_qrels.rename(columns = {\n",
    "    \"query-id\": \"qid\",\n",
    "    \"corpus-id\": \"docno\",\n",
    "    \"score\": \"label\"\n",
    "}, inplace = True)\n",
    "\n",
    "dev_qrels[\"qid\"] = dev_qrels[\"qid\"].apply(lambda x: f\"Q{x}\")\n",
    "dev_qrels[\"docno\"] = dev_qrels[\"docno\"].apply(lambda x: f\"D{x}\")\n",
    "dev_qrels[\"label\"] = dev_qrels[\"label\"].apply(lambda x: 1 if x >= 1 else 0)\n",
    "\n",
    "dev_qrels.head()"
   ]
  },
  {
   "cell_type": "code",
   "execution_count": null,
   "metadata": {
    "colab": {
     "base_uri": "https://localhost:8080/",
     "height": 423
    },
    "id": "FxAV6wWsThvA",
    "outputId": "7c5dd2b6-3f65-41e4-fbf5-64f7eca93612"
   },
   "outputs": [
    {
     "name": "stdout",
     "output_type": "stream",
     "text": [
      "122\n"
     ]
    },
    {
     "data": {
      "text/html": [
       "<div>\n",
       "<style scoped>\n",
       "    .dataframe tbody tr th:only-of-type {\n",
       "        vertical-align: middle;\n",
       "    }\n",
       "\n",
       "    .dataframe tbody tr th {\n",
       "        vertical-align: top;\n",
       "    }\n",
       "\n",
       "    .dataframe thead th {\n",
       "        text-align: right;\n",
       "    }\n",
       "</style>\n",
       "<table border=\"1\" class=\"dataframe\">\n",
       "  <thead>\n",
       "    <tr style=\"text-align: right;\">\n",
       "      <th></th>\n",
       "      <th>qid</th>\n",
       "      <th>docno</th>\n",
       "      <th>label</th>\n",
       "    </tr>\n",
       "  </thead>\n",
       "  <tbody>\n",
       "    <tr>\n",
       "      <th>0</th>\n",
       "      <td>Q19335</td>\n",
       "      <td>D1720387</td>\n",
       "      <td>0</td>\n",
       "    </tr>\n",
       "    <tr>\n",
       "      <th>1</th>\n",
       "      <td>Q19335</td>\n",
       "      <td>D1871222</td>\n",
       "      <td>0</td>\n",
       "    </tr>\n",
       "    <tr>\n",
       "      <th>2</th>\n",
       "      <td>Q19335</td>\n",
       "      <td>D1958102</td>\n",
       "      <td>0</td>\n",
       "    </tr>\n",
       "    <tr>\n",
       "      <th>3</th>\n",
       "      <td>Q19335</td>\n",
       "      <td>D2046505</td>\n",
       "      <td>1</td>\n",
       "    </tr>\n",
       "    <tr>\n",
       "      <th>4</th>\n",
       "      <td>Q19335</td>\n",
       "      <td>D2186129</td>\n",
       "      <td>0</td>\n",
       "    </tr>\n",
       "    <tr>\n",
       "      <th>...</th>\n",
       "      <td>...</td>\n",
       "      <td>...</td>\n",
       "      <td>...</td>\n",
       "    </tr>\n",
       "    <tr>\n",
       "      <th>95</th>\n",
       "      <td>Q130510</td>\n",
       "      <td>D617865</td>\n",
       "      <td>0</td>\n",
       "    </tr>\n",
       "    <tr>\n",
       "      <th>96</th>\n",
       "      <td>Q130510</td>\n",
       "      <td>D6229732</td>\n",
       "      <td>0</td>\n",
       "    </tr>\n",
       "    <tr>\n",
       "      <th>97</th>\n",
       "      <td>Q130510</td>\n",
       "      <td>D6486232</td>\n",
       "      <td>1</td>\n",
       "    </tr>\n",
       "    <tr>\n",
       "      <th>98</th>\n",
       "      <td>Q130510</td>\n",
       "      <td>D6862766</td>\n",
       "      <td>0</td>\n",
       "    </tr>\n",
       "    <tr>\n",
       "      <th>99</th>\n",
       "      <td>Q130510</td>\n",
       "      <td>D6881818</td>\n",
       "      <td>0</td>\n",
       "    </tr>\n",
       "  </tbody>\n",
       "</table>\n",
       "<p>100 rows × 3 columns</p>\n",
       "</div>"
      ],
      "text/plain": [
       "        qid     docno  label\n",
       "0    Q19335  D1720387      0\n",
       "1    Q19335  D1871222      0\n",
       "2    Q19335  D1958102      0\n",
       "3    Q19335  D2046505      1\n",
       "4    Q19335  D2186129      0\n",
       "..      ...       ...    ...\n",
       "95  Q130510   D617865      0\n",
       "96  Q130510  D6229732      0\n",
       "97  Q130510  D6486232      1\n",
       "98  Q130510  D6862766      0\n",
       "99  Q130510  D6881818      0\n",
       "\n",
       "[100 rows x 3 columns]"
      ]
     },
     "execution_count": 11,
     "metadata": {},
     "output_type": "execute_result"
    }
   ],
   "source": [
    "test_qrels.rename(columns = {\n",
    "    \"query-id\": \"qid\",\n",
    "    \"corpus-id\": \"docno\",\n",
    "    \"score\": \"label\"\n",
    "}, inplace = True)\n",
    "\n",
    "test_qrels[\"qid\"] = test_qrels[\"qid\"].apply(lambda x: f\"Q{x}\")\n",
    "test_qrels[\"docno\"] = test_qrels[\"docno\"].apply(lambda x: f\"D{x}\")\n",
    "test_qrels[\"label\"] = test_qrels[\"label\"].apply(lambda x: 1 if x >= 1 else 0)\n",
    "\n",
    "# Also included all the test qrels on the queries (So that test_queries will work)\n",
    "test_qrels_qids = test_qrels['qid'].unique()\n",
    "queries_in_test_qrels = queries[queries['qid'].isin(test_qrels_qids)]\n",
    "\n",
    "# include also dev\n",
    "\n",
    "np.random.seed(42)\n",
    "\n",
    "dev_qrels_qids = np.random.choice(dev_qrels['qid'].unique(), size=30, replace=False)\n",
    "queries_in_dev_qrels = queries[queries['qid'].isin(dev_qrels_qids)]\n",
    "\n",
    "sampled_queries = pd.concat([sampled_queries, queries_in_test_qrels, queries_in_dev_qrels]).drop_duplicates()\n",
    "\n",
    "print(len(sampled_queries))\n",
    "\n",
    "test_qrels.head(100)"
   ]
  },
  {
   "cell_type": "code",
   "execution_count": 12,
   "metadata": {
    "colab": {
     "base_uri": "https://localhost:8080/",
     "height": 206
    },
    "id": "4q7MV8MRmcxl",
    "outputId": "f69e75c4-c80a-4f44-cfef-ecbbc87eb128"
   },
   "outputs": [
    {
     "data": {
      "text/html": [
       "<div>\n",
       "<style scoped>\n",
       "    .dataframe tbody tr th:only-of-type {\n",
       "        vertical-align: middle;\n",
       "    }\n",
       "\n",
       "    .dataframe tbody tr th {\n",
       "        vertical-align: top;\n",
       "    }\n",
       "\n",
       "    .dataframe thead th {\n",
       "        text-align: right;\n",
       "    }\n",
       "</style>\n",
       "<table border=\"1\" class=\"dataframe\">\n",
       "  <thead>\n",
       "    <tr style=\"text-align: right;\">\n",
       "      <th></th>\n",
       "      <th>qid</th>\n",
       "      <th>query</th>\n",
       "    </tr>\n",
       "  </thead>\n",
       "  <tbody>\n",
       "    <tr>\n",
       "      <th>0</th>\n",
       "      <td>Q750731</td>\n",
       "      <td>what is george soros real name</td>\n",
       "    </tr>\n",
       "    <tr>\n",
       "      <th>1</th>\n",
       "      <td>Q495130</td>\n",
       "      <td>set default browser to windows</td>\n",
       "    </tr>\n",
       "    <tr>\n",
       "      <th>2</th>\n",
       "      <td>Q570901</td>\n",
       "      <td>what are the largest countries in africa</td>\n",
       "    </tr>\n",
       "    <tr>\n",
       "      <th>3</th>\n",
       "      <td>Q36505</td>\n",
       "      <td>average fixed cost formula</td>\n",
       "    </tr>\n",
       "    <tr>\n",
       "      <th>4</th>\n",
       "      <td>Q204149</td>\n",
       "      <td>holiday inn in des moines</td>\n",
       "    </tr>\n",
       "  </tbody>\n",
       "</table>\n",
       "</div>"
      ],
      "text/plain": [
       "       qid                                     query\n",
       "0  Q750731            what is george soros real name\n",
       "1  Q495130            set default browser to windows\n",
       "2  Q570901  what are the largest countries in africa\n",
       "3   Q36505                average fixed cost formula\n",
       "4  Q204149                 holiday inn in des moines"
      ]
     },
     "execution_count": 12,
     "metadata": {},
     "output_type": "execute_result"
    }
   ],
   "source": [
    "# Creating training, test, and dev queries\n",
    "\n",
    "train_queries = sampled_queries.merge(train_qrels[['qid']].drop_duplicates(), on='qid', how='inner')\n",
    "\n",
    "train_queries.head()"
   ]
  },
  {
   "cell_type": "code",
   "execution_count": 13,
   "metadata": {
    "colab": {
     "base_uri": "https://localhost:8080/",
     "height": 206
    },
    "id": "Z-vZ_TNP1cTz",
    "outputId": "555709ed-3cee-44e5-bfb0-f2253889ff99"
   },
   "outputs": [
    {
     "data": {
      "text/html": [
       "<div>\n",
       "<style scoped>\n",
       "    .dataframe tbody tr th:only-of-type {\n",
       "        vertical-align: middle;\n",
       "    }\n",
       "\n",
       "    .dataframe tbody tr th {\n",
       "        vertical-align: top;\n",
       "    }\n",
       "\n",
       "    .dataframe thead th {\n",
       "        text-align: right;\n",
       "    }\n",
       "</style>\n",
       "<table border=\"1\" class=\"dataframe\">\n",
       "  <thead>\n",
       "    <tr style=\"text-align: right;\">\n",
       "      <th></th>\n",
       "      <th>qid</th>\n",
       "      <th>query</th>\n",
       "    </tr>\n",
       "  </thead>\n",
       "  <tbody>\n",
       "    <tr>\n",
       "      <th>0</th>\n",
       "      <td>Q19335</td>\n",
       "      <td>anthropological definition of environment</td>\n",
       "    </tr>\n",
       "    <tr>\n",
       "      <th>1</th>\n",
       "      <td>Q47923</td>\n",
       "      <td>axon terminals or synaptic knob definition</td>\n",
       "    </tr>\n",
       "    <tr>\n",
       "      <th>2</th>\n",
       "      <td>Q87181</td>\n",
       "      <td>causes of left ventricular hypertrophy</td>\n",
       "    </tr>\n",
       "    <tr>\n",
       "      <th>3</th>\n",
       "      <td>Q87452</td>\n",
       "      <td>causes of military suicide</td>\n",
       "    </tr>\n",
       "    <tr>\n",
       "      <th>4</th>\n",
       "      <td>Q104861</td>\n",
       "      <td>cost of interior concrete flooring</td>\n",
       "    </tr>\n",
       "  </tbody>\n",
       "</table>\n",
       "</div>"
      ],
      "text/plain": [
       "       qid                                       query\n",
       "0   Q19335   anthropological definition of environment\n",
       "1   Q47923  axon terminals or synaptic knob definition\n",
       "2   Q87181      causes of left ventricular hypertrophy\n",
       "3   Q87452                  causes of military suicide\n",
       "4  Q104861          cost of interior concrete flooring"
      ]
     },
     "execution_count": 13,
     "metadata": {},
     "output_type": "execute_result"
    }
   ],
   "source": [
    "test_queries = sampled_queries.merge(test_qrels[['qid']].drop_duplicates(), on='qid', how='inner')\n",
    "\n",
    "test_queries.head()"
   ]
  },
  {
   "cell_type": "code",
   "execution_count": 14,
   "metadata": {
    "colab": {
     "base_uri": "https://localhost:8080/",
     "height": 565
    },
    "id": "KoxD--8C1e-h",
    "outputId": "dbe1f370-8706-4a90-9c02-dfd6a5911e81"
   },
   "outputs": [
    {
     "name": "stdout",
     "output_type": "stream",
     "text": [
      "43\n"
     ]
    },
    {
     "data": {
      "text/html": [
       "<div>\n",
       "<style scoped>\n",
       "    .dataframe tbody tr th:only-of-type {\n",
       "        vertical-align: middle;\n",
       "    }\n",
       "\n",
       "    .dataframe tbody tr th {\n",
       "        vertical-align: top;\n",
       "    }\n",
       "\n",
       "    .dataframe thead th {\n",
       "        text-align: right;\n",
       "    }\n",
       "</style>\n",
       "<table border=\"1\" class=\"dataframe\">\n",
       "  <thead>\n",
       "    <tr style=\"text-align: right;\">\n",
       "      <th></th>\n",
       "      <th>qid</th>\n",
       "      <th>query</th>\n",
       "    </tr>\n",
       "  </thead>\n",
       "  <tbody>\n",
       "    <tr>\n",
       "      <th>0</th>\n",
       "      <td>Q259417</td>\n",
       "      <td>how long does respite last</td>\n",
       "    </tr>\n",
       "    <tr>\n",
       "      <th>1</th>\n",
       "      <td>Q925766</td>\n",
       "      <td>what xbox services are down</td>\n",
       "    </tr>\n",
       "    <tr>\n",
       "      <th>2</th>\n",
       "      <td>Q686739</td>\n",
       "      <td>what is a heritage oak</td>\n",
       "    </tr>\n",
       "    <tr>\n",
       "      <th>3</th>\n",
       "      <td>Q735387</td>\n",
       "      <td>what is county for seattle</td>\n",
       "    </tr>\n",
       "    <tr>\n",
       "      <th>4</th>\n",
       "      <td>Q1039195</td>\n",
       "      <td>who is the actress that played gretchen schwar...</td>\n",
       "    </tr>\n",
       "  </tbody>\n",
       "</table>\n",
       "</div>"
      ],
      "text/plain": [
       "        qid                                              query\n",
       "0   Q259417                         how long does respite last\n",
       "1   Q925766                        what xbox services are down\n",
       "2   Q686739                             what is a heritage oak\n",
       "3   Q735387                        what is county for seattle \n",
       "4  Q1039195  who is the actress that played gretchen schwar..."
      ]
     },
     "execution_count": 14,
     "metadata": {},
     "output_type": "execute_result"
    }
   ],
   "source": [
    "dev_queries = sampled_queries.merge(dev_qrels[['qid']].drop_duplicates(), on='qid', how='inner')\n",
    "print(len(dev_queries))\n",
    "dev_queries.head()"
   ]
  },
  {
   "cell_type": "markdown",
   "metadata": {
    "id": "sHmLl6V9F5jH"
   },
   "source": [
    "# Indexing"
   ]
  },
  {
   "cell_type": "markdown",
   "metadata": {
    "id": "MovsA8Q6M-o9"
   },
   "source": [
    "## ✋ TODO"
   ]
  },
  {
   "cell_type": "code",
   "execution_count": 15,
   "metadata": {
    "colab": {
     "base_uri": "https://localhost:8080/",
     "height": 105,
     "referenced_widgets": [
      "bfa1c7b1b51d45d5a5bcff9ccb017dc1",
      "f199d247a1f04bbb8ada7f055f20923d",
      "9b57b5f4a21040589e61db149fd8a8f7",
      "338dde68b9ad4068b54f534b5626ee6d",
      "84f22e25f6554853a19e104e453ed140",
      "dffaf160896145f0bde4be6c899fa516",
      "a011baa42e5949f8a95614e673fc0db3",
      "74c7396f78194ea8921b292ad2d88186",
      "dda130680f6f4904be2205dcb331b229",
      "83c76727d85a4be797cafa6110049b11",
      "fb9f515250044e949e35fd1516948278"
     ]
    },
    "id": "mj4VSYWmHCe6",
    "outputId": "ce67bc56-7970-4a65-8957-cc4c8e1fe2f3"
   },
   "outputs": [
    {
     "name": "stderr",
     "output_type": "stream",
     "text": [
      "C:\\Users\\notal\\AppData\\Local\\Temp\\ipykernel_10708\\652436866.py:7: DeprecationWarning: Call to deprecated class DFIndexer. (use pt.terrier.IterDictIndexer().index(dataframe.to_dict(orient='records')) instead) -- Deprecated since version 0.11.0.\n",
      "  pd_indexer = pt.DFIndexer(index_path, \\\n",
      "100%|██████████| 6992/6992 [00:07<00:00, 889.22documents/s] \n"
     ]
    }
   ],
   "source": [
    "# TODO: adjust indexer\n",
    "\n",
    "!rm -rf ./index\n",
    "import os\n",
    "\n",
    "index_path = os.path.abspath(\"./index/\")\n",
    "pd_indexer = pt.DFIndexer(index_path, \\\n",
    "                          type = pt.index.IndexingType(1), \\\n",
    "                          tokeniser = pt.index.TerrierTokeniser('utf'), \\\n",
    "                          stemmer = None, \\\n",
    "                          stopwords = None, \\\n",
    "                          blocks = True, \\\n",
    "                          verbose = True)\n",
    "index_ref = pd_indexer.index(collections[\"text\"], collections)"
   ]
  },
  {
   "cell_type": "code",
   "execution_count": 16,
   "metadata": {
    "colab": {
     "base_uri": "https://localhost:8080/"
    },
    "id": "soBZKWrvFV7U",
    "outputId": "cef3e702-68b4-4b77-f40b-44dcdd962ca4"
   },
   "outputs": [
    {
     "name": "stdout",
     "output_type": "stream",
     "text": [
      "Number of corpus 6992\n",
      "Number of queries 6577\n",
      "Number of train data 5535\n",
      "Number of test data 1036\n",
      "Number of dev data 1005\n",
      "================================================================================\n",
      "Number of documents: 6992\n",
      "Number of terms: 30149\n",
      "Number of postings: 282234\n",
      "Number of fields: 0\n",
      "Number of tokens: 407801\n",
      "Field names: []\n",
      "Positions:   true\n",
      "\n"
     ]
    }
   ],
   "source": [
    "# Get Index Info\n",
    "\n",
    "print(\"Number of corpus\", len(collections))\n",
    "print(\"Number of queries\", len(queries))\n",
    "print(\"Number of train data\", len(train_qrels))\n",
    "print(\"Number of test data\", len(test_qrels))\n",
    "print(\"Number of dev data\", len(dev_qrels))\n",
    "\n",
    "print(\"=\"*80)\n",
    "\n",
    "index_fact = pt.IndexFactory.of(index_ref)\n",
    "print(index_fact.getCollectionStatistics().toString())"
   ]
  },
  {
   "cell_type": "markdown",
   "metadata": {
    "id": "GA294vBtGBEq"
   },
   "source": [
    "# Baseline"
   ]
  },
  {
   "cell_type": "code",
   "execution_count": 17,
   "metadata": {
    "colab": {
     "base_uri": "https://localhost:8080/"
    },
    "id": "8jyjJLFuIkkS",
    "outputId": "5241baaa-b6c2-4842-e94d-75ce76f246bf"
   },
   "outputs": [
    {
     "name": "stderr",
     "output_type": "stream",
     "text": [
      "C:\\Users\\notal\\AppData\\Local\\Temp\\ipykernel_10708\\3225921946.py:1: DeprecationWarning: Call to deprecated class BatchRetrieve. (use pt.terrier.Retriever() instead) -- Deprecated since version 0.11.0.\n",
      "  bm25 = pt.BatchRetrieve(index_ref, wmodel = \"BM25\")\n"
     ]
    }
   ],
   "source": [
    "bm25 = pt.BatchRetrieve(index_ref, wmodel = \"BM25\")"
   ]
  },
  {
   "cell_type": "code",
   "execution_count": 18,
   "metadata": {
    "colab": {
     "base_uri": "https://localhost:8080/",
     "height": 80
    },
    "id": "6PkcDZITx_wh",
    "outputId": "3e957e47-e025-4e92-bcb2-f582e3c69a93"
   },
   "outputs": [
    {
     "data": {
      "text/html": [
       "<div>\n",
       "<style scoped>\n",
       "    .dataframe tbody tr th:only-of-type {\n",
       "        vertical-align: middle;\n",
       "    }\n",
       "\n",
       "    .dataframe tbody tr th {\n",
       "        vertical-align: top;\n",
       "    }\n",
       "\n",
       "    .dataframe thead th {\n",
       "        text-align: right;\n",
       "    }\n",
       "</style>\n",
       "<table border=\"1\" class=\"dataframe\">\n",
       "  <thead>\n",
       "    <tr style=\"text-align: right;\">\n",
       "      <th></th>\n",
       "      <th>name</th>\n",
       "      <th>P@10</th>\n",
       "      <th>map</th>\n",
       "      <th>recip_rank</th>\n",
       "      <th>nDCG@10</th>\n",
       "    </tr>\n",
       "  </thead>\n",
       "  <tbody>\n",
       "    <tr>\n",
       "      <th>0</th>\n",
       "      <td>BM25</td>\n",
       "      <td>0.437209</td>\n",
       "      <td>0.492925</td>\n",
       "      <td>0.684582</td>\n",
       "      <td>0.586706</td>\n",
       "    </tr>\n",
       "  </tbody>\n",
       "</table>\n",
       "</div>"
      ],
      "text/plain": [
       "   name      P@10       map  recip_rank   nDCG@10\n",
       "0  BM25  0.437209  0.492925    0.684582  0.586706"
      ]
     },
     "execution_count": 18,
     "metadata": {},
     "output_type": "execute_result"
    }
   ],
   "source": [
    "pt.Experiment(\n",
    "    [bm25], # models\n",
    "    test_queries, # queries\n",
    "    test_qrels, # qrels\n",
    "    eval_metrics=[P@10, \"map\", \"recip_rank\", nDCG@10],\n",
    "    names=[\"BM25\"], # for model's name readability\n",
    ")"
   ]
  },
  {
   "cell_type": "markdown",
   "metadata": {
    "id": "RMMyvJH0GDda"
   },
   "source": [
    "# Re-rank"
   ]
  },
  {
   "cell_type": "markdown",
   "metadata": {
    "id": "OyhYBFQUIyjo"
   },
   "source": [
    "## Feature"
   ]
  },
  {
   "cell_type": "markdown",
   "metadata": {
    "id": "hi1r2TPvM7gz"
   },
   "source": [
    "### ✋ TODO"
   ]
  },
  {
   "cell_type": "code",
   "execution_count": 28,
   "metadata": {
    "id": "1wePDXrqIwDy"
   },
   "outputs": [],
   "source": [
    "# TODO: propose and implement features\n",
    "from sklearn.metrics.pairwise import cosine_similarity\n",
    "\n",
    "# Example:\n",
    "def jaccard(doc, query):\n",
    "    doc_set = set(doc.split())\n",
    "    query_set = set(query.split())\n",
    "    intersection = len(doc_set & query_set)\n",
    "    union = len(doc_set | query_set)\n",
    "    return intersection / union if union > 0 else 0\n",
    "\n",
    "def bm25_score(doc, query, bm25_model):\n",
    "    return bm25_model.get_scores([query])[0]\n",
    "\n",
    "def tfidf_cosine(doc, query, tfidf_vectorizer):\n",
    "    vectors = tfidf_vectorizer.transform([doc, query])\n",
    "    return cosine_similarity(vectors[0], vectors[1])[0, 0]\n",
    "\n",
    "def query_length_normalized_overlap(doc, query):\n",
    "    doc_terms = set(doc.split())\n",
    "    query_terms = set(query.split())\n",
    "    overlap = len(doc_terms & query_terms)\n",
    "    return overlap / len(query_terms) if len(query_terms) > 0 else 0\n",
    "\n",
    "def embedding_cosine(doc, query, embedding_model):\n",
    "    doc_embedding = embedding_model.encode(doc)\n",
    "    query_embedding = embedding_model.encode(query)\n",
    "    return cosine_similarity([doc_embedding], [query_embedding])[0, 0]\n",
    "\n",
    "def generate_features(doc, query, bm25_model, tfidf_vectorizer, embedding_model):\n",
    "    return np.array([\n",
    "        # jaccard(doc, query),\n",
    "        bm25_score(doc, query, bm25_model),\n",
    "        tfidf_cosine(doc, query, tfidf_vectorizer),\n",
    "        query_length_normalized_overlap(doc, query),\n",
    "        embedding_cosine(doc, query, embedding_model)\n",
    "    ])"
   ]
  },
  {
   "cell_type": "code",
   "execution_count": 29,
   "metadata": {
    "id": "d1UMKiS0LFWn"
   },
   "outputs": [],
   "source": [
    "bm25_model = BM25Okapi(tokenized_corpus)\n",
    "\n",
    "tfidf_vectorizer = TfidfVectorizer()\n",
    "tfidf_vectorizer.fit(collections)\n",
    "\n",
    "embedding_model = SentenceTransformer('all-MiniLM-L6-v2')\n",
    "\n",
    "features = pt.apply.doc_features(\n",
    "    lambda row: generate_features(\n",
    "        row[\"text\"], row[\"query\"], bm25_model, tfidf_vectorizer, embedding_model\n",
    "    )\n",
    ")"
   ]
  },
  {
   "cell_type": "code",
   "execution_count": 30,
   "metadata": {
    "id": "1iVmzbjdRSCq"
   },
   "outputs": [],
   "source": [
    "K = 30"
   ]
  },
  {
   "cell_type": "code",
   "execution_count": 31,
   "metadata": {
    "id": "FHYYNtalKO_1"
   },
   "outputs": [],
   "source": [
    "# Get \"text\" column using `pt.text.get_text(index_ref, \"text\")`\n",
    "pipeline = (bm25 % K) >> pt.text.get_text(index_ref, \"text\") >> (features ** bm25)"
   ]
  },
  {
   "cell_type": "markdown",
   "metadata": {
    "id": "eUb_PKOyLpnQ"
   },
   "source": [
    "## Learning-to-Rank"
   ]
  },
  {
   "cell_type": "markdown",
   "metadata": {
    "id": "fHOlRt3bM3-P"
   },
   "source": [
    "### ✋ TODO"
   ]
  },
  {
   "cell_type": "code",
   "execution_count": 32,
   "metadata": {
    "id": "jHlY7jm1LXKG"
   },
   "outputs": [
    {
     "name": "stdout",
     "output_type": "stream",
     "text": [
      "[{'gamma': 0, 'learning_rate': 0.05, 'max_depth': 3, 'min_child_weight': 0.1, 'n_estimators': 100}, {'gamma': 0, 'learning_rate': 0.05, 'max_depth': 3, 'min_child_weight': 0.1, 'n_estimators': 300}, {'gamma': 0, 'learning_rate': 0.05, 'max_depth': 3, 'min_child_weight': 1, 'n_estimators': 100}, {'gamma': 0, 'learning_rate': 0.05, 'max_depth': 3, 'min_child_weight': 1, 'n_estimators': 300}, {'gamma': 0, 'learning_rate': 0.05, 'max_depth': 3, 'min_child_weight': 3, 'n_estimators': 100}, {'gamma': 0, 'learning_rate': 0.05, 'max_depth': 3, 'min_child_weight': 3, 'n_estimators': 300}, {'gamma': 0, 'learning_rate': 0.05, 'max_depth': 6, 'min_child_weight': 0.1, 'n_estimators': 100}, {'gamma': 0, 'learning_rate': 0.05, 'max_depth': 6, 'min_child_weight': 0.1, 'n_estimators': 300}, {'gamma': 0, 'learning_rate': 0.05, 'max_depth': 6, 'min_child_weight': 1, 'n_estimators': 100}, {'gamma': 0, 'learning_rate': 0.05, 'max_depth': 6, 'min_child_weight': 1, 'n_estimators': 300}, {'gamma': 0, 'learning_rate': 0.05, 'max_depth': 6, 'min_child_weight': 3, 'n_estimators': 100}, {'gamma': 0, 'learning_rate': 0.05, 'max_depth': 6, 'min_child_weight': 3, 'n_estimators': 300}, {'gamma': 0, 'learning_rate': 0.1, 'max_depth': 3, 'min_child_weight': 0.1, 'n_estimators': 100}, {'gamma': 0, 'learning_rate': 0.1, 'max_depth': 3, 'min_child_weight': 0.1, 'n_estimators': 300}, {'gamma': 0, 'learning_rate': 0.1, 'max_depth': 3, 'min_child_weight': 1, 'n_estimators': 100}, {'gamma': 0, 'learning_rate': 0.1, 'max_depth': 3, 'min_child_weight': 1, 'n_estimators': 300}, {'gamma': 0, 'learning_rate': 0.1, 'max_depth': 3, 'min_child_weight': 3, 'n_estimators': 100}, {'gamma': 0, 'learning_rate': 0.1, 'max_depth': 3, 'min_child_weight': 3, 'n_estimators': 300}, {'gamma': 0, 'learning_rate': 0.1, 'max_depth': 6, 'min_child_weight': 0.1, 'n_estimators': 100}, {'gamma': 0, 'learning_rate': 0.1, 'max_depth': 6, 'min_child_weight': 0.1, 'n_estimators': 300}, {'gamma': 0, 'learning_rate': 0.1, 'max_depth': 6, 'min_child_weight': 1, 'n_estimators': 100}, {'gamma': 0, 'learning_rate': 0.1, 'max_depth': 6, 'min_child_weight': 1, 'n_estimators': 300}, {'gamma': 0, 'learning_rate': 0.1, 'max_depth': 6, 'min_child_weight': 3, 'n_estimators': 100}, {'gamma': 0, 'learning_rate': 0.1, 'max_depth': 6, 'min_child_weight': 3, 'n_estimators': 300}, {'gamma': 0, 'learning_rate': 0.2, 'max_depth': 3, 'min_child_weight': 0.1, 'n_estimators': 100}, {'gamma': 0, 'learning_rate': 0.2, 'max_depth': 3, 'min_child_weight': 0.1, 'n_estimators': 300}, {'gamma': 0, 'learning_rate': 0.2, 'max_depth': 3, 'min_child_weight': 1, 'n_estimators': 100}, {'gamma': 0, 'learning_rate': 0.2, 'max_depth': 3, 'min_child_weight': 1, 'n_estimators': 300}, {'gamma': 0, 'learning_rate': 0.2, 'max_depth': 3, 'min_child_weight': 3, 'n_estimators': 100}, {'gamma': 0, 'learning_rate': 0.2, 'max_depth': 3, 'min_child_weight': 3, 'n_estimators': 300}, {'gamma': 0, 'learning_rate': 0.2, 'max_depth': 6, 'min_child_weight': 0.1, 'n_estimators': 100}, {'gamma': 0, 'learning_rate': 0.2, 'max_depth': 6, 'min_child_weight': 0.1, 'n_estimators': 300}, {'gamma': 0, 'learning_rate': 0.2, 'max_depth': 6, 'min_child_weight': 1, 'n_estimators': 100}, {'gamma': 0, 'learning_rate': 0.2, 'max_depth': 6, 'min_child_weight': 1, 'n_estimators': 300}, {'gamma': 0, 'learning_rate': 0.2, 'max_depth': 6, 'min_child_weight': 3, 'n_estimators': 100}, {'gamma': 0, 'learning_rate': 0.2, 'max_depth': 6, 'min_child_weight': 3, 'n_estimators': 300}, {'gamma': 1, 'learning_rate': 0.05, 'max_depth': 3, 'min_child_weight': 0.1, 'n_estimators': 100}, {'gamma': 1, 'learning_rate': 0.05, 'max_depth': 3, 'min_child_weight': 0.1, 'n_estimators': 300}, {'gamma': 1, 'learning_rate': 0.05, 'max_depth': 3, 'min_child_weight': 1, 'n_estimators': 100}, {'gamma': 1, 'learning_rate': 0.05, 'max_depth': 3, 'min_child_weight': 1, 'n_estimators': 300}, {'gamma': 1, 'learning_rate': 0.05, 'max_depth': 3, 'min_child_weight': 3, 'n_estimators': 100}, {'gamma': 1, 'learning_rate': 0.05, 'max_depth': 3, 'min_child_weight': 3, 'n_estimators': 300}, {'gamma': 1, 'learning_rate': 0.05, 'max_depth': 6, 'min_child_weight': 0.1, 'n_estimators': 100}, {'gamma': 1, 'learning_rate': 0.05, 'max_depth': 6, 'min_child_weight': 0.1, 'n_estimators': 300}, {'gamma': 1, 'learning_rate': 0.05, 'max_depth': 6, 'min_child_weight': 1, 'n_estimators': 100}, {'gamma': 1, 'learning_rate': 0.05, 'max_depth': 6, 'min_child_weight': 1, 'n_estimators': 300}, {'gamma': 1, 'learning_rate': 0.05, 'max_depth': 6, 'min_child_weight': 3, 'n_estimators': 100}, {'gamma': 1, 'learning_rate': 0.05, 'max_depth': 6, 'min_child_weight': 3, 'n_estimators': 300}, {'gamma': 1, 'learning_rate': 0.1, 'max_depth': 3, 'min_child_weight': 0.1, 'n_estimators': 100}, {'gamma': 1, 'learning_rate': 0.1, 'max_depth': 3, 'min_child_weight': 0.1, 'n_estimators': 300}, {'gamma': 1, 'learning_rate': 0.1, 'max_depth': 3, 'min_child_weight': 1, 'n_estimators': 100}, {'gamma': 1, 'learning_rate': 0.1, 'max_depth': 3, 'min_child_weight': 1, 'n_estimators': 300}, {'gamma': 1, 'learning_rate': 0.1, 'max_depth': 3, 'min_child_weight': 3, 'n_estimators': 100}, {'gamma': 1, 'learning_rate': 0.1, 'max_depth': 3, 'min_child_weight': 3, 'n_estimators': 300}, {'gamma': 1, 'learning_rate': 0.1, 'max_depth': 6, 'min_child_weight': 0.1, 'n_estimators': 100}, {'gamma': 1, 'learning_rate': 0.1, 'max_depth': 6, 'min_child_weight': 0.1, 'n_estimators': 300}, {'gamma': 1, 'learning_rate': 0.1, 'max_depth': 6, 'min_child_weight': 1, 'n_estimators': 100}, {'gamma': 1, 'learning_rate': 0.1, 'max_depth': 6, 'min_child_weight': 1, 'n_estimators': 300}, {'gamma': 1, 'learning_rate': 0.1, 'max_depth': 6, 'min_child_weight': 3, 'n_estimators': 100}, {'gamma': 1, 'learning_rate': 0.1, 'max_depth': 6, 'min_child_weight': 3, 'n_estimators': 300}, {'gamma': 1, 'learning_rate': 0.2, 'max_depth': 3, 'min_child_weight': 0.1, 'n_estimators': 100}, {'gamma': 1, 'learning_rate': 0.2, 'max_depth': 3, 'min_child_weight': 0.1, 'n_estimators': 300}, {'gamma': 1, 'learning_rate': 0.2, 'max_depth': 3, 'min_child_weight': 1, 'n_estimators': 100}, {'gamma': 1, 'learning_rate': 0.2, 'max_depth': 3, 'min_child_weight': 1, 'n_estimators': 300}, {'gamma': 1, 'learning_rate': 0.2, 'max_depth': 3, 'min_child_weight': 3, 'n_estimators': 100}, {'gamma': 1, 'learning_rate': 0.2, 'max_depth': 3, 'min_child_weight': 3, 'n_estimators': 300}, {'gamma': 1, 'learning_rate': 0.2, 'max_depth': 6, 'min_child_weight': 0.1, 'n_estimators': 100}, {'gamma': 1, 'learning_rate': 0.2, 'max_depth': 6, 'min_child_weight': 0.1, 'n_estimators': 300}, {'gamma': 1, 'learning_rate': 0.2, 'max_depth': 6, 'min_child_weight': 1, 'n_estimators': 100}, {'gamma': 1, 'learning_rate': 0.2, 'max_depth': 6, 'min_child_weight': 1, 'n_estimators': 300}, {'gamma': 1, 'learning_rate': 0.2, 'max_depth': 6, 'min_child_weight': 3, 'n_estimators': 100}, {'gamma': 1, 'learning_rate': 0.2, 'max_depth': 6, 'min_child_weight': 3, 'n_estimators': 300}, {'gamma': 2, 'learning_rate': 0.05, 'max_depth': 3, 'min_child_weight': 0.1, 'n_estimators': 100}, {'gamma': 2, 'learning_rate': 0.05, 'max_depth': 3, 'min_child_weight': 0.1, 'n_estimators': 300}, {'gamma': 2, 'learning_rate': 0.05, 'max_depth': 3, 'min_child_weight': 1, 'n_estimators': 100}, {'gamma': 2, 'learning_rate': 0.05, 'max_depth': 3, 'min_child_weight': 1, 'n_estimators': 300}, {'gamma': 2, 'learning_rate': 0.05, 'max_depth': 3, 'min_child_weight': 3, 'n_estimators': 100}, {'gamma': 2, 'learning_rate': 0.05, 'max_depth': 3, 'min_child_weight': 3, 'n_estimators': 300}, {'gamma': 2, 'learning_rate': 0.05, 'max_depth': 6, 'min_child_weight': 0.1, 'n_estimators': 100}, {'gamma': 2, 'learning_rate': 0.05, 'max_depth': 6, 'min_child_weight': 0.1, 'n_estimators': 300}, {'gamma': 2, 'learning_rate': 0.05, 'max_depth': 6, 'min_child_weight': 1, 'n_estimators': 100}, {'gamma': 2, 'learning_rate': 0.05, 'max_depth': 6, 'min_child_weight': 1, 'n_estimators': 300}, {'gamma': 2, 'learning_rate': 0.05, 'max_depth': 6, 'min_child_weight': 3, 'n_estimators': 100}, {'gamma': 2, 'learning_rate': 0.05, 'max_depth': 6, 'min_child_weight': 3, 'n_estimators': 300}, {'gamma': 2, 'learning_rate': 0.1, 'max_depth': 3, 'min_child_weight': 0.1, 'n_estimators': 100}, {'gamma': 2, 'learning_rate': 0.1, 'max_depth': 3, 'min_child_weight': 0.1, 'n_estimators': 300}, {'gamma': 2, 'learning_rate': 0.1, 'max_depth': 3, 'min_child_weight': 1, 'n_estimators': 100}, {'gamma': 2, 'learning_rate': 0.1, 'max_depth': 3, 'min_child_weight': 1, 'n_estimators': 300}, {'gamma': 2, 'learning_rate': 0.1, 'max_depth': 3, 'min_child_weight': 3, 'n_estimators': 100}, {'gamma': 2, 'learning_rate': 0.1, 'max_depth': 3, 'min_child_weight': 3, 'n_estimators': 300}, {'gamma': 2, 'learning_rate': 0.1, 'max_depth': 6, 'min_child_weight': 0.1, 'n_estimators': 100}, {'gamma': 2, 'learning_rate': 0.1, 'max_depth': 6, 'min_child_weight': 0.1, 'n_estimators': 300}, {'gamma': 2, 'learning_rate': 0.1, 'max_depth': 6, 'min_child_weight': 1, 'n_estimators': 100}, {'gamma': 2, 'learning_rate': 0.1, 'max_depth': 6, 'min_child_weight': 1, 'n_estimators': 300}, {'gamma': 2, 'learning_rate': 0.1, 'max_depth': 6, 'min_child_weight': 3, 'n_estimators': 100}, {'gamma': 2, 'learning_rate': 0.1, 'max_depth': 6, 'min_child_weight': 3, 'n_estimators': 300}, {'gamma': 2, 'learning_rate': 0.2, 'max_depth': 3, 'min_child_weight': 0.1, 'n_estimators': 100}, {'gamma': 2, 'learning_rate': 0.2, 'max_depth': 3, 'min_child_weight': 0.1, 'n_estimators': 300}, {'gamma': 2, 'learning_rate': 0.2, 'max_depth': 3, 'min_child_weight': 1, 'n_estimators': 100}, {'gamma': 2, 'learning_rate': 0.2, 'max_depth': 3, 'min_child_weight': 1, 'n_estimators': 300}, {'gamma': 2, 'learning_rate': 0.2, 'max_depth': 3, 'min_child_weight': 3, 'n_estimators': 100}, {'gamma': 2, 'learning_rate': 0.2, 'max_depth': 3, 'min_child_weight': 3, 'n_estimators': 300}, {'gamma': 2, 'learning_rate': 0.2, 'max_depth': 6, 'min_child_weight': 0.1, 'n_estimators': 100}, {'gamma': 2, 'learning_rate': 0.2, 'max_depth': 6, 'min_child_weight': 0.1, 'n_estimators': 300}, {'gamma': 2, 'learning_rate': 0.2, 'max_depth': 6, 'min_child_weight': 1, 'n_estimators': 100}, {'gamma': 2, 'learning_rate': 0.2, 'max_depth': 6, 'min_child_weight': 1, 'n_estimators': 300}, {'gamma': 2, 'learning_rate': 0.2, 'max_depth': 6, 'min_child_weight': 3, 'n_estimators': 100}, {'gamma': 2, 'learning_rate': 0.2, 'max_depth': 6, 'min_child_weight': 3, 'n_estimators': 300}, {'gamma': 5, 'learning_rate': 0.05, 'max_depth': 3, 'min_child_weight': 0.1, 'n_estimators': 100}, {'gamma': 5, 'learning_rate': 0.05, 'max_depth': 3, 'min_child_weight': 0.1, 'n_estimators': 300}, {'gamma': 5, 'learning_rate': 0.05, 'max_depth': 3, 'min_child_weight': 1, 'n_estimators': 100}, {'gamma': 5, 'learning_rate': 0.05, 'max_depth': 3, 'min_child_weight': 1, 'n_estimators': 300}, {'gamma': 5, 'learning_rate': 0.05, 'max_depth': 3, 'min_child_weight': 3, 'n_estimators': 100}, {'gamma': 5, 'learning_rate': 0.05, 'max_depth': 3, 'min_child_weight': 3, 'n_estimators': 300}, {'gamma': 5, 'learning_rate': 0.05, 'max_depth': 6, 'min_child_weight': 0.1, 'n_estimators': 100}, {'gamma': 5, 'learning_rate': 0.05, 'max_depth': 6, 'min_child_weight': 0.1, 'n_estimators': 300}, {'gamma': 5, 'learning_rate': 0.05, 'max_depth': 6, 'min_child_weight': 1, 'n_estimators': 100}, {'gamma': 5, 'learning_rate': 0.05, 'max_depth': 6, 'min_child_weight': 1, 'n_estimators': 300}, {'gamma': 5, 'learning_rate': 0.05, 'max_depth': 6, 'min_child_weight': 3, 'n_estimators': 100}, {'gamma': 5, 'learning_rate': 0.05, 'max_depth': 6, 'min_child_weight': 3, 'n_estimators': 300}, {'gamma': 5, 'learning_rate': 0.1, 'max_depth': 3, 'min_child_weight': 0.1, 'n_estimators': 100}, {'gamma': 5, 'learning_rate': 0.1, 'max_depth': 3, 'min_child_weight': 0.1, 'n_estimators': 300}, {'gamma': 5, 'learning_rate': 0.1, 'max_depth': 3, 'min_child_weight': 1, 'n_estimators': 100}, {'gamma': 5, 'learning_rate': 0.1, 'max_depth': 3, 'min_child_weight': 1, 'n_estimators': 300}, {'gamma': 5, 'learning_rate': 0.1, 'max_depth': 3, 'min_child_weight': 3, 'n_estimators': 100}, {'gamma': 5, 'learning_rate': 0.1, 'max_depth': 3, 'min_child_weight': 3, 'n_estimators': 300}, {'gamma': 5, 'learning_rate': 0.1, 'max_depth': 6, 'min_child_weight': 0.1, 'n_estimators': 100}, {'gamma': 5, 'learning_rate': 0.1, 'max_depth': 6, 'min_child_weight': 0.1, 'n_estimators': 300}, {'gamma': 5, 'learning_rate': 0.1, 'max_depth': 6, 'min_child_weight': 1, 'n_estimators': 100}, {'gamma': 5, 'learning_rate': 0.1, 'max_depth': 6, 'min_child_weight': 1, 'n_estimators': 300}, {'gamma': 5, 'learning_rate': 0.1, 'max_depth': 6, 'min_child_weight': 3, 'n_estimators': 100}, {'gamma': 5, 'learning_rate': 0.1, 'max_depth': 6, 'min_child_weight': 3, 'n_estimators': 300}, {'gamma': 5, 'learning_rate': 0.2, 'max_depth': 3, 'min_child_weight': 0.1, 'n_estimators': 100}, {'gamma': 5, 'learning_rate': 0.2, 'max_depth': 3, 'min_child_weight': 0.1, 'n_estimators': 300}, {'gamma': 5, 'learning_rate': 0.2, 'max_depth': 3, 'min_child_weight': 1, 'n_estimators': 100}, {'gamma': 5, 'learning_rate': 0.2, 'max_depth': 3, 'min_child_weight': 1, 'n_estimators': 300}, {'gamma': 5, 'learning_rate': 0.2, 'max_depth': 3, 'min_child_weight': 3, 'n_estimators': 100}, {'gamma': 5, 'learning_rate': 0.2, 'max_depth': 3, 'min_child_weight': 3, 'n_estimators': 300}, {'gamma': 5, 'learning_rate': 0.2, 'max_depth': 6, 'min_child_weight': 0.1, 'n_estimators': 100}, {'gamma': 5, 'learning_rate': 0.2, 'max_depth': 6, 'min_child_weight': 0.1, 'n_estimators': 300}, {'gamma': 5, 'learning_rate': 0.2, 'max_depth': 6, 'min_child_weight': 1, 'n_estimators': 100}, {'gamma': 5, 'learning_rate': 0.2, 'max_depth': 6, 'min_child_weight': 1, 'n_estimators': 300}, {'gamma': 5, 'learning_rate': 0.2, 'max_depth': 6, 'min_child_weight': 3, 'n_estimators': 100}, {'gamma': 5, 'learning_rate': 0.2, 'max_depth': 6, 'min_child_weight': 3, 'n_estimators': 300}]\n",
      "  name      P@10       map  recip_rank   nDCG@10\n",
      "0  L2R  0.095349  0.909884    0.909884  0.920403\n",
      "Score: 0.9204028926495033\n",
      "  name      P@10       map  recip_rank   nDCG@10\n",
      "0  L2R  0.095349  0.909884    0.909884  0.920403\n",
      "Score: 0.9204028926495033\n",
      "  name      P@10       map  recip_rank   nDCG@10\n",
      "0  L2R  0.093023  0.908345    0.908345  0.913067\n",
      "Score: 0.9130665001661143\n",
      "  name      P@10       map  recip_rank   nDCG@10\n",
      "0  L2R  0.093023  0.908345    0.908345  0.913067\n",
      "Score: 0.9130665001661143\n",
      "  name      P@10       map  recip_rank   nDCG@10\n",
      "0  L2R  0.093023  0.904325    0.904325  0.910022\n",
      "Score: 0.9100216221760804\n",
      "  name      P@10       map  recip_rank   nDCG@10\n",
      "0  L2R  0.093023  0.904325    0.904325  0.910022\n",
      "Score: 0.9100216221760804\n",
      "  name      P@10       map  recip_rank   nDCG@10\n",
      "0  L2R  0.095349  0.906008    0.906008  0.917358\n",
      "Score: 0.9173580146594695\n",
      "  name      P@10       map  recip_rank   nDCG@10\n",
      "0  L2R  0.093023  0.908201    0.908201  0.913067\n",
      "Score: 0.9130665001661143\n",
      "  name      P@10      map  recip_rank   nDCG@10\n",
      "0  L2R  0.093023  0.90843     0.90843  0.913067\n",
      "Score: 0.9130665001661143\n",
      "  name      P@10      map  recip_rank   nDCG@10\n",
      "0  L2R  0.093023  0.90843     0.90843  0.913067\n",
      "Score: 0.9130665001661143\n",
      "  name      P@10       map  recip_rank   nDCG@10\n",
      "0  L2R  0.093023  0.904325    0.904325  0.910022\n",
      "Score: 0.9100216221760804\n",
      "  name      P@10       map  recip_rank   nDCG@10\n",
      "0  L2R  0.093023  0.904325    0.904325  0.910022\n",
      "Score: 0.9100216221760804\n",
      "  name      P@10       map  recip_rank   nDCG@10\n",
      "0  L2R  0.095349  0.909884    0.909884  0.920403\n",
      "Score: 0.9204028926495033\n",
      "  name      P@10       map  recip_rank   nDCG@10\n",
      "0  L2R  0.093023  0.908201    0.908201  0.913067\n",
      "Score: 0.9130665001661143\n",
      "  name      P@10       map  recip_rank   nDCG@10\n",
      "0  L2R  0.093023  0.904325    0.904325  0.910022\n",
      "Score: 0.9100216221760804\n",
      "  name      P@10       map  recip_rank   nDCG@10\n",
      "0  L2R  0.093023  0.904325    0.904325  0.910022\n",
      "Score: 0.9100216221760804\n",
      "  name      P@10       map  recip_rank   nDCG@10\n",
      "0  L2R  0.095349  0.906008    0.906008  0.917358\n",
      "Score: 0.9173580146594695\n",
      "  name      P@10       map  recip_rank   nDCG@10\n",
      "0  L2R  0.095349  0.906008    0.906008  0.917358\n",
      "Score: 0.9173580146594695\n",
      "  name      P@10       map  recip_rank   nDCG@10\n",
      "0  L2R  0.093023  0.904325    0.904325  0.910022\n",
      "Score: 0.9100216221760804\n",
      "  name      P@10       map  recip_rank   nDCG@10\n",
      "0  L2R  0.093023  0.904325    0.904325  0.910022\n",
      "Score: 0.9100216221760804\n",
      "  name      P@10       map  recip_rank   nDCG@10\n",
      "0  L2R  0.093023  0.904325    0.904325  0.910022\n",
      "Score: 0.9100216221760804\n",
      "  name      P@10       map  recip_rank   nDCG@10\n",
      "0  L2R  0.093023  0.904325    0.904325  0.910022\n",
      "Score: 0.9100216221760804\n",
      "  name      P@10       map  recip_rank   nDCG@10\n",
      "0  L2R  0.093023  0.904325    0.904325  0.910022\n",
      "Score: 0.9100216221760804\n",
      "  name      P@10       map  recip_rank   nDCG@10\n",
      "0  L2R  0.093023  0.904325    0.904325  0.910022\n",
      "Score: 0.9100216221760804\n",
      "  name      P@10       map  recip_rank   nDCG@10\n",
      "0  L2R  0.093023  0.908201    0.908201  0.913067\n",
      "Score: 0.9130665001661143\n",
      "  name      P@10       map  recip_rank   nDCG@10\n",
      "0  L2R  0.093023  0.908201    0.908201  0.913067\n",
      "Score: 0.9130665001661143\n",
      "  name      P@10       map  recip_rank   nDCG@10\n",
      "0  L2R  0.093023  0.908345    0.908345  0.913067\n",
      "Score: 0.9130665001661143\n",
      "  name      P@10       map  recip_rank   nDCG@10\n",
      "0  L2R  0.093023  0.908345    0.908345  0.913067\n",
      "Score: 0.9130665001661143\n",
      "  name      P@10       map  recip_rank   nDCG@10\n",
      "0  L2R  0.095349  0.906008    0.906008  0.917358\n",
      "Score: 0.9173580146594695\n",
      "  name      P@10       map  recip_rank   nDCG@10\n",
      "0  L2R  0.095349  0.906008    0.906008  0.917358\n",
      "Score: 0.9173580146594695\n",
      "  name      P@10       map  recip_rank   nDCG@10\n",
      "0  L2R  0.093023  0.904325    0.904325  0.910022\n",
      "Score: 0.9100216221760804\n",
      "  name      P@10       map  recip_rank   nDCG@10\n",
      "0  L2R  0.093023  0.904325    0.904325  0.910022\n",
      "Score: 0.9100216221760804\n",
      "  name      P@10      map  recip_rank   nDCG@10\n",
      "0  L2R  0.093023  0.90843     0.90843  0.913067\n",
      "Score: 0.9130665001661143\n",
      "  name      P@10      map  recip_rank   nDCG@10\n",
      "0  L2R  0.093023  0.90843     0.90843  0.913067\n",
      "Score: 0.9130665001661143\n",
      "  name      P@10       map  recip_rank   nDCG@10\n",
      "0  L2R  0.095349  0.906008    0.906008  0.917358\n",
      "Score: 0.9173580146594695\n",
      "  name      P@10       map  recip_rank   nDCG@10\n",
      "0  L2R  0.095349  0.906008    0.906008  0.917358\n",
      "Score: 0.9173580146594695\n",
      "  name      P@10       map  recip_rank   nDCG@10\n",
      "0  L2R  0.093023  0.904325    0.904325  0.910022\n",
      "Score: 0.9100216221760804\n",
      "  name      P@10       map  recip_rank   nDCG@10\n",
      "0  L2R  0.093023  0.904325    0.904325  0.910022\n",
      "Score: 0.9100216221760804\n",
      "  name      P@10       map  recip_rank   nDCG@10\n",
      "0  L2R  0.093023  0.904325    0.904325  0.910022\n",
      "Score: 0.9100216221760804\n",
      "  name      P@10       map  recip_rank   nDCG@10\n",
      "0  L2R  0.093023  0.904325    0.904325  0.910022\n",
      "Score: 0.9100216221760804\n",
      "  name      P@10       map  recip_rank   nDCG@10\n",
      "0  L2R  0.093023  0.904325    0.904325  0.910022\n",
      "Score: 0.9100216221760804\n",
      "  name      P@10       map  recip_rank   nDCG@10\n",
      "0  L2R  0.093023  0.904325    0.904325  0.910022\n",
      "Score: 0.9100216221760804\n",
      "  name      P@10       map  recip_rank   nDCG@10\n",
      "0  L2R  0.093023  0.904325    0.904325  0.910022\n",
      "Score: 0.9100216221760804\n",
      "  name      P@10       map  recip_rank   nDCG@10\n",
      "0  L2R  0.093023  0.904325    0.904325  0.910022\n",
      "Score: 0.9100216221760804\n",
      "  name      P@10       map  recip_rank   nDCG@10\n",
      "0  L2R  0.093023  0.904325    0.904325  0.910022\n",
      "Score: 0.9100216221760804\n",
      "  name      P@10       map  recip_rank   nDCG@10\n",
      "0  L2R  0.093023  0.904325    0.904325  0.910022\n",
      "Score: 0.9100216221760804\n",
      "  name      P@10       map  recip_rank   nDCG@10\n",
      "0  L2R  0.093023  0.904325    0.904325  0.910022\n",
      "Score: 0.9100216221760804\n",
      "  name      P@10       map  recip_rank   nDCG@10\n",
      "0  L2R  0.093023  0.904325    0.904325  0.910022\n",
      "Score: 0.9100216221760804\n",
      "  name      P@10       map  recip_rank   nDCG@10\n",
      "0  L2R  0.093023  0.904325    0.904325  0.910022\n",
      "Score: 0.9100216221760804\n",
      "  name      P@10       map  recip_rank   nDCG@10\n",
      "0  L2R  0.093023  0.904325    0.904325  0.910022\n",
      "Score: 0.9100216221760804\n",
      "  name      P@10       map  recip_rank   nDCG@10\n",
      "0  L2R  0.093023  0.904325    0.904325  0.910022\n",
      "Score: 0.9100216221760804\n",
      "  name      P@10       map  recip_rank   nDCG@10\n",
      "0  L2R  0.093023  0.904325    0.904325  0.910022\n",
      "Score: 0.9100216221760804\n",
      "  name      P@10       map  recip_rank   nDCG@10\n",
      "0  L2R  0.093023  0.904325    0.904325  0.910022\n",
      "Score: 0.9100216221760804\n",
      "  name      P@10       map  recip_rank   nDCG@10\n",
      "0  L2R  0.093023  0.904325    0.904325  0.910022\n",
      "Score: 0.9100216221760804\n",
      "  name      P@10       map  recip_rank   nDCG@10\n",
      "0  L2R  0.093023  0.904325    0.904325  0.910022\n",
      "Score: 0.9100216221760804\n",
      "  name      P@10       map  recip_rank   nDCG@10\n",
      "0  L2R  0.093023  0.904325    0.904325  0.910022\n",
      "Score: 0.9100216221760804\n",
      "  name      P@10      map  recip_rank  nDCG@10\n",
      "0  L2R  0.093023  0.90037     0.90037  0.90573\n",
      "Score: 0.9057301076827253\n",
      "  name      P@10      map  recip_rank  nDCG@10\n",
      "0  L2R  0.093023  0.90037     0.90037  0.90573\n",
      "Score: 0.9057301076827253\n",
      "  name      P@10       map  recip_rank   nDCG@10\n",
      "0  L2R  0.093023  0.904325    0.904325  0.910022\n",
      "Score: 0.9100216221760804\n",
      "  name      P@10       map  recip_rank   nDCG@10\n",
      "0  L2R  0.093023  0.904325    0.904325  0.910022\n",
      "Score: 0.9100216221760804\n",
      "  name      P@10      map  recip_rank  nDCG@10\n",
      "0  L2R  0.093023  0.90037     0.90037  0.90573\n",
      "Score: 0.9057301076827253\n",
      "  name      P@10      map  recip_rank  nDCG@10\n",
      "0  L2R  0.093023  0.90037     0.90037  0.90573\n",
      "Score: 0.9057301076827253\n",
      "  name      P@10       map  recip_rank   nDCG@10\n",
      "0  L2R  0.093023  0.904325    0.904325  0.910022\n",
      "Score: 0.9100216221760804\n",
      "  name      P@10       map  recip_rank   nDCG@10\n",
      "0  L2R  0.093023  0.904325    0.904325  0.910022\n",
      "Score: 0.9100216221760804\n",
      "  name      P@10       map  recip_rank   nDCG@10\n",
      "0  L2R  0.093023  0.904325    0.904325  0.910022\n",
      "Score: 0.9100216221760804\n",
      "  name      P@10       map  recip_rank   nDCG@10\n",
      "0  L2R  0.093023  0.904325    0.904325  0.910022\n",
      "Score: 0.9100216221760804\n",
      "  name      P@10      map  recip_rank  nDCG@10\n",
      "0  L2R  0.093023  0.90037     0.90037  0.90573\n",
      "Score: 0.9057301076827253\n",
      "  name      P@10      map  recip_rank  nDCG@10\n",
      "0  L2R  0.093023  0.90037     0.90037  0.90573\n",
      "Score: 0.9057301076827253\n",
      "  name      P@10      map  recip_rank  nDCG@10\n",
      "0  L2R  0.093023  0.90037     0.90037  0.90573\n",
      "Score: 0.9057301076827253\n",
      "  name      P@10      map  recip_rank  nDCG@10\n",
      "0  L2R  0.093023  0.90037     0.90037  0.90573\n",
      "Score: 0.9057301076827253\n",
      "  name      P@10      map  recip_rank  nDCG@10\n",
      "0  L2R  0.093023  0.90037     0.90037  0.90573\n",
      "Score: 0.9057301076827253\n",
      "  name      P@10      map  recip_rank  nDCG@10\n",
      "0  L2R  0.093023  0.90037     0.90037  0.90573\n",
      "Score: 0.9057301076827253\n",
      "  name      P@10      map  recip_rank  nDCG@10\n",
      "0  L2R  0.093023  0.90037     0.90037  0.90573\n",
      "Score: 0.9057301076827253\n",
      "  name      P@10      map  recip_rank  nDCG@10\n",
      "0  L2R  0.093023  0.90037     0.90037  0.90573\n",
      "Score: 0.9057301076827253\n",
      "  name      P@10      map  recip_rank  nDCG@10\n",
      "0  L2R  0.093023  0.90037     0.90037  0.90573\n",
      "Score: 0.9057301076827253\n",
      "  name      P@10      map  recip_rank  nDCG@10\n",
      "0  L2R  0.093023  0.90037     0.90037  0.90573\n",
      "Score: 0.9057301076827253\n",
      "  name      P@10      map  recip_rank  nDCG@10\n",
      "0  L2R  0.093023  0.90037     0.90037  0.90573\n",
      "Score: 0.9057301076827253\n",
      "  name      P@10      map  recip_rank  nDCG@10\n",
      "0  L2R  0.093023  0.90037     0.90037  0.90573\n",
      "Score: 0.9057301076827253\n",
      "  name      P@10      map  recip_rank  nDCG@10\n",
      "0  L2R  0.093023  0.90037     0.90037  0.90573\n",
      "Score: 0.9057301076827253\n",
      "  name      P@10      map  recip_rank  nDCG@10\n",
      "0  L2R  0.093023  0.90037     0.90037  0.90573\n",
      "Score: 0.9057301076827253\n",
      "  name      P@10      map  recip_rank  nDCG@10\n",
      "0  L2R  0.093023  0.90037     0.90037  0.90573\n",
      "Score: 0.9057301076827253\n",
      "  name      P@10      map  recip_rank  nDCG@10\n",
      "0  L2R  0.093023  0.90037     0.90037  0.90573\n",
      "Score: 0.9057301076827253\n",
      "  name      P@10       map  recip_rank   nDCG@10\n",
      "0  L2R  0.093023  0.904325    0.904325  0.910022\n",
      "Score: 0.9100216221760804\n",
      "  name      P@10       map  recip_rank   nDCG@10\n",
      "0  L2R  0.093023  0.904325    0.904325  0.910022\n",
      "Score: 0.9100216221760804\n",
      "  name      P@10      map  recip_rank  nDCG@10\n",
      "0  L2R  0.093023  0.90037     0.90037  0.90573\n",
      "Score: 0.9057301076827253\n",
      "  name      P@10      map  recip_rank  nDCG@10\n",
      "0  L2R  0.093023  0.90037     0.90037  0.90573\n",
      "Score: 0.9057301076827253\n",
      "  name      P@10      map  recip_rank  nDCG@10\n",
      "0  L2R  0.093023  0.90037     0.90037  0.90573\n",
      "Score: 0.9057301076827253\n",
      "  name      P@10      map  recip_rank  nDCG@10\n",
      "0  L2R  0.093023  0.90037     0.90037  0.90573\n",
      "Score: 0.9057301076827253\n",
      "  name      P@10      map  recip_rank  nDCG@10\n",
      "0  L2R  0.093023  0.90037     0.90037  0.90573\n",
      "Score: 0.9057301076827253\n",
      "  name      P@10      map  recip_rank  nDCG@10\n",
      "0  L2R  0.093023  0.90037     0.90037  0.90573\n",
      "Score: 0.9057301076827253\n",
      "  name      P@10      map  recip_rank  nDCG@10\n",
      "0  L2R  0.093023  0.90037     0.90037  0.90573\n",
      "Score: 0.9057301076827253\n",
      "  name      P@10      map  recip_rank  nDCG@10\n",
      "0  L2R  0.093023  0.90037     0.90037  0.90573\n",
      "Score: 0.9057301076827253\n",
      "  name      P@10      map  recip_rank  nDCG@10\n",
      "0  L2R  0.093023  0.90037     0.90037  0.90573\n",
      "Score: 0.9057301076827253\n",
      "  name      P@10      map  recip_rank  nDCG@10\n",
      "0  L2R  0.093023  0.90037     0.90037  0.90573\n",
      "Score: 0.9057301076827253\n",
      "  name      P@10      map  recip_rank  nDCG@10\n",
      "0  L2R  0.093023  0.90037     0.90037  0.90573\n",
      "Score: 0.9057301076827253\n",
      "  name      P@10      map  recip_rank  nDCG@10\n",
      "0  L2R  0.093023  0.90037     0.90037  0.90573\n",
      "Score: 0.9057301076827253\n",
      "  name      P@10      map  recip_rank  nDCG@10\n",
      "0  L2R  0.093023  0.90037     0.90037  0.90573\n",
      "Score: 0.9057301076827253\n",
      "  name      P@10      map  recip_rank  nDCG@10\n",
      "0  L2R  0.093023  0.90037     0.90037  0.90573\n",
      "Score: 0.9057301076827253\n",
      "  name      P@10      map  recip_rank  nDCG@10\n",
      "0  L2R  0.093023  0.90037     0.90037  0.90573\n",
      "Score: 0.9057301076827253\n",
      "  name      P@10      map  recip_rank  nDCG@10\n",
      "0  L2R  0.093023  0.90037     0.90037  0.90573\n",
      "Score: 0.9057301076827253\n",
      "  name      P@10      map  recip_rank  nDCG@10\n",
      "0  L2R  0.093023  0.90037     0.90037  0.90573\n",
      "Score: 0.9057301076827253\n",
      "  name      P@10      map  recip_rank  nDCG@10\n",
      "0  L2R  0.093023  0.90037     0.90037  0.90573\n",
      "Score: 0.9057301076827253\n",
      "  name      P@10      map  recip_rank  nDCG@10\n",
      "0  L2R  0.093023  0.90037     0.90037  0.90573\n",
      "Score: 0.9057301076827253\n",
      "  name      P@10      map  recip_rank  nDCG@10\n",
      "0  L2R  0.093023  0.90037     0.90037  0.90573\n",
      "Score: 0.9057301076827253\n",
      "  name      P@10      map  recip_rank  nDCG@10\n",
      "0  L2R  0.093023  0.90037     0.90037  0.90573\n",
      "Score: 0.9057301076827253\n",
      "  name      P@10      map  recip_rank  nDCG@10\n",
      "0  L2R  0.093023  0.90037     0.90037  0.90573\n",
      "Score: 0.9057301076827253\n",
      "  name      P@10      map  recip_rank  nDCG@10\n",
      "0  L2R  0.093023  0.90037     0.90037  0.90573\n",
      "Score: 0.9057301076827253\n",
      "  name      P@10      map  recip_rank  nDCG@10\n",
      "0  L2R  0.093023  0.90037     0.90037  0.90573\n",
      "Score: 0.9057301076827253\n",
      "  name      P@10      map  recip_rank  nDCG@10\n",
      "0  L2R  0.093023  0.90037     0.90037  0.90573\n",
      "Score: 0.9057301076827253\n",
      "  name      P@10      map  recip_rank  nDCG@10\n",
      "0  L2R  0.093023  0.90037     0.90037  0.90573\n",
      "Score: 0.9057301076827253\n",
      "  name      P@10      map  recip_rank  nDCG@10\n",
      "0  L2R  0.093023  0.90037     0.90037  0.90573\n",
      "Score: 0.9057301076827253\n",
      "  name      P@10      map  recip_rank  nDCG@10\n",
      "0  L2R  0.093023  0.90037     0.90037  0.90573\n",
      "Score: 0.9057301076827253\n",
      "  name      P@10      map  recip_rank  nDCG@10\n",
      "0  L2R  0.093023  0.90037     0.90037  0.90573\n",
      "Score: 0.9057301076827253\n",
      "  name      P@10      map  recip_rank  nDCG@10\n",
      "0  L2R  0.093023  0.90037     0.90037  0.90573\n",
      "Score: 0.9057301076827253\n",
      "  name      P@10      map  recip_rank  nDCG@10\n",
      "0  L2R  0.093023  0.90037     0.90037  0.90573\n",
      "Score: 0.9057301076827253\n",
      "  name      P@10      map  recip_rank  nDCG@10\n",
      "0  L2R  0.093023  0.90037     0.90037  0.90573\n",
      "Score: 0.9057301076827253\n",
      "  name      P@10      map  recip_rank  nDCG@10\n",
      "0  L2R  0.093023  0.90037     0.90037  0.90573\n",
      "Score: 0.9057301076827253\n",
      "  name      P@10      map  recip_rank  nDCG@10\n",
      "0  L2R  0.093023  0.90037     0.90037  0.90573\n",
      "Score: 0.9057301076827253\n",
      "  name      P@10      map  recip_rank  nDCG@10\n",
      "0  L2R  0.093023  0.90037     0.90037  0.90573\n",
      "Score: 0.9057301076827253\n",
      "  name      P@10      map  recip_rank  nDCG@10\n",
      "0  L2R  0.093023  0.90037     0.90037  0.90573\n",
      "Score: 0.9057301076827253\n",
      "  name      P@10      map  recip_rank  nDCG@10\n",
      "0  L2R  0.093023  0.90037     0.90037  0.90573\n",
      "Score: 0.9057301076827253\n",
      "  name      P@10      map  recip_rank  nDCG@10\n",
      "0  L2R  0.093023  0.90037     0.90037  0.90573\n",
      "Score: 0.9057301076827253\n",
      "  name      P@10      map  recip_rank  nDCG@10\n",
      "0  L2R  0.093023  0.90037     0.90037  0.90573\n",
      "Score: 0.9057301076827253\n",
      "  name      P@10      map  recip_rank  nDCG@10\n",
      "0  L2R  0.093023  0.90037     0.90037  0.90573\n",
      "Score: 0.9057301076827253\n",
      "  name      P@10      map  recip_rank  nDCG@10\n",
      "0  L2R  0.093023  0.90037     0.90037  0.90573\n",
      "Score: 0.9057301076827253\n",
      "  name      P@10      map  recip_rank  nDCG@10\n",
      "0  L2R  0.093023  0.90037     0.90037  0.90573\n",
      "Score: 0.9057301076827253\n",
      "  name      P@10      map  recip_rank  nDCG@10\n",
      "0  L2R  0.093023  0.90037     0.90037  0.90573\n",
      "Score: 0.9057301076827253\n",
      "  name      P@10      map  recip_rank  nDCG@10\n",
      "0  L2R  0.093023  0.90037     0.90037  0.90573\n",
      "Score: 0.9057301076827253\n",
      "  name      P@10      map  recip_rank  nDCG@10\n",
      "0  L2R  0.093023  0.90037     0.90037  0.90573\n",
      "Score: 0.9057301076827253\n",
      "  name      P@10      map  recip_rank  nDCG@10\n",
      "0  L2R  0.093023  0.90037     0.90037  0.90573\n",
      "Score: 0.9057301076827253\n",
      "  name      P@10      map  recip_rank  nDCG@10\n",
      "0  L2R  0.093023  0.90037     0.90037  0.90573\n",
      "Score: 0.9057301076827253\n",
      "  name      P@10      map  recip_rank  nDCG@10\n",
      "0  L2R  0.093023  0.90037     0.90037  0.90573\n",
      "Score: 0.9057301076827253\n",
      "  name      P@10      map  recip_rank  nDCG@10\n",
      "0  L2R  0.093023  0.90037     0.90037  0.90573\n",
      "Score: 0.9057301076827253\n",
      "  name      P@10      map  recip_rank  nDCG@10\n",
      "0  L2R  0.093023  0.90037     0.90037  0.90573\n",
      "Score: 0.9057301076827253\n",
      "  name      P@10      map  recip_rank  nDCG@10\n",
      "0  L2R  0.093023  0.90037     0.90037  0.90573\n",
      "Score: 0.9057301076827253\n",
      "  name      P@10      map  recip_rank  nDCG@10\n",
      "0  L2R  0.093023  0.90037     0.90037  0.90573\n",
      "Score: 0.9057301076827253\n",
      "  name      P@10      map  recip_rank  nDCG@10\n",
      "0  L2R  0.093023  0.90037     0.90037  0.90573\n",
      "Score: 0.9057301076827253\n",
      "  name      P@10      map  recip_rank  nDCG@10\n",
      "0  L2R  0.093023  0.90037     0.90037  0.90573\n",
      "Score: 0.9057301076827253\n",
      "  name      P@10      map  recip_rank  nDCG@10\n",
      "0  L2R  0.093023  0.90037     0.90037  0.90573\n",
      "Score: 0.9057301076827253\n",
      "  name      P@10      map  recip_rank  nDCG@10\n",
      "0  L2R  0.093023  0.90037     0.90037  0.90573\n",
      "Score: 0.9057301076827253\n",
      "  name      P@10      map  recip_rank  nDCG@10\n",
      "0  L2R  0.093023  0.90037     0.90037  0.90573\n",
      "Score: 0.9057301076827253\n",
      "  name      P@10      map  recip_rank  nDCG@10\n",
      "0  L2R  0.093023  0.90037     0.90037  0.90573\n",
      "Score: 0.9057301076827253\n",
      "  name      P@10      map  recip_rank  nDCG@10\n",
      "0  L2R  0.093023  0.90037     0.90037  0.90573\n",
      "Score: 0.9057301076827253\n",
      "  name      P@10      map  recip_rank  nDCG@10\n",
      "0  L2R  0.093023  0.90037     0.90037  0.90573\n",
      "Score: 0.9057301076827253\n",
      "Best Params: {'gamma': 0, 'learning_rate': 0.05, 'max_depth': 3, 'min_child_weight': 0.1, 'n_estimators': 100}\n",
      "Best Score: 0.9204028926495033\n"
     ]
    }
   ],
   "source": [
    "# TODO: perform hyperparameter tuning on the LambdaMART\n",
    "\n",
    "# Below hyperparameters are taken from the example on PyTerrier documentation:\n",
    "# https://pyterrier.readthedocs.io/en/latest/ltr.html#gradient-boosted-trees-lambdamart\n",
    "\n",
    "# XGBoost hyperparameters documentation:\n",
    "# https://xgboost.readthedocs.io/en/stable/parameter.html\n",
    "param_grid = {\n",
    "    \"learning_rate\": [0.05, 0.1, 0.2],\n",
    "    \"gamma\": [0, 1, 2, 5],\n",
    "    \"min_child_weight\": [0.1, 1, 3],\n",
    "    \"max_depth\": [3, 6],\n",
    "    \"n_estimators\": [100, 300],\n",
    "}\n",
    "\n",
    "def evaluate_model(params):\n",
    "    model = xgb.sklearn.XGBRanker(\n",
    "        objective=\"rank:ndcg\",\n",
    "        random_state=42,\n",
    "        **params,\n",
    "    )\n",
    "    \n",
    "    lmart_pipe = pipeline >> pt.ltr.apply_learned_model(model, form=\"ltr\")\n",
    "    \n",
    "    lmart_pipe.fit(train_queries, train_qrels, dev_queries, dev_qrels)\n",
    "    \n",
    "    res = pt.Experiment(\n",
    "        [lmart_pipe],\n",
    "        dev_queries,\n",
    "        dev_qrels,\n",
    "        eval_metrics=[P@10, \"map\", \"recip_rank\", nDCG@10],\n",
    "        names=[\"L2R\"]\n",
    "    )\n",
    "    \n",
    "    print(res)\n",
    "    return res.loc[0, \"nDCG@10\"]\n",
    "\n",
    "best_score = -float(\"inf\")\n",
    "best_params = None\n",
    "\n",
    "print(list(ParameterGrid(param_grid)))\n",
    "\n",
    "for params in ParameterGrid(param_grid):\n",
    "    score = evaluate_model(params)\n",
    "    print(f\"Score: {score}\")\n",
    "    if score > best_score:\n",
    "        best_score = score\n",
    "        best_params = params\n",
    "\n",
    "print(f\"Best Params: {best_params}\")\n",
    "print(f\"Best Score: {best_score}\")\n",
    "\n",
    "final_model = xgb.sklearn.XGBRanker(\n",
    "    objective=\"rank:ndcg\",\n",
    "    random_state=42,\n",
    "    **best_params\n",
    ")"
   ]
  },
  {
   "cell_type": "code",
   "execution_count": 33,
   "metadata": {
    "colab": {
     "base_uri": "https://localhost:8080/"
    },
    "id": "QtT5JYD5Lu8q",
    "outputId": "b8d32947-f1bd-454a-b207-59ec9e7413c6"
   },
   "outputs": [],
   "source": [
    "lmart_pipe = pipeline >> pt.ltr.apply_learned_model(final_model, form = \"ltr\")\n",
    "lmart_pipe.fit(train_queries, train_qrels, test_queries, test_qrels)"
   ]
  },
  {
   "cell_type": "markdown",
   "metadata": {
    "id": "Px1ryTPIGJV7"
   },
   "source": [
    "# Evaluation\n"
   ]
  },
  {
   "cell_type": "markdown",
   "metadata": {
    "id": "gWJegV5iMrKo"
   },
   "source": [
    "## ✋ TODO"
   ]
  },
  {
   "cell_type": "code",
   "execution_count": 34,
   "metadata": {
    "id": "8IYX6oZTLxON"
   },
   "outputs": [],
   "source": [
    "eval_results = pt.Experiment([bm25, lmart_pipe], \\\n",
    "                            test_queries, \\\n",
    "                            test_qrels, \\\n",
    "                            eval_metrics=[P@10, \"map\", \"recip_rank\", nDCG@10], \\\n",
    "                            names=[\"BM25\", \"L2R\"], \\\n",
    "                            baseline=0) # statistical significance test"
   ]
  },
  {
   "cell_type": "code",
   "execution_count": 35,
   "metadata": {
    "colab": {
     "base_uri": "https://localhost:8080/",
     "height": 149
    },
    "id": "RLXLynTUA-3Z",
    "outputId": "70d02498-f463-4ef4-d063-4f6d0915c3e6"
   },
   "outputs": [
    {
     "data": {
      "text/html": [
       "<div>\n",
       "<style scoped>\n",
       "    .dataframe tbody tr th:only-of-type {\n",
       "        vertical-align: middle;\n",
       "    }\n",
       "\n",
       "    .dataframe tbody tr th {\n",
       "        vertical-align: top;\n",
       "    }\n",
       "\n",
       "    .dataframe thead th {\n",
       "        text-align: right;\n",
       "    }\n",
       "</style>\n",
       "<table border=\"1\" class=\"dataframe\">\n",
       "  <thead>\n",
       "    <tr style=\"text-align: right;\">\n",
       "      <th></th>\n",
       "      <th>name</th>\n",
       "      <th>map</th>\n",
       "      <th>recip_rank</th>\n",
       "      <th>P@10</th>\n",
       "      <th>nDCG@10</th>\n",
       "      <th>map +</th>\n",
       "      <th>map -</th>\n",
       "      <th>map p-value</th>\n",
       "      <th>recip_rank +</th>\n",
       "      <th>recip_rank -</th>\n",
       "      <th>recip_rank p-value</th>\n",
       "      <th>P@10 +</th>\n",
       "      <th>P@10 -</th>\n",
       "      <th>P@10 p-value</th>\n",
       "      <th>nDCG@10 +</th>\n",
       "      <th>nDCG@10 -</th>\n",
       "      <th>nDCG@10 p-value</th>\n",
       "    </tr>\n",
       "  </thead>\n",
       "  <tbody>\n",
       "    <tr>\n",
       "      <th>0</th>\n",
       "      <td>BM25</td>\n",
       "      <td>0.492925</td>\n",
       "      <td>0.684582</td>\n",
       "      <td>0.437209</td>\n",
       "      <td>0.586706</td>\n",
       "      <td>NaN</td>\n",
       "      <td>NaN</td>\n",
       "      <td>NaN</td>\n",
       "      <td>NaN</td>\n",
       "      <td>NaN</td>\n",
       "      <td>NaN</td>\n",
       "      <td>NaN</td>\n",
       "      <td>NaN</td>\n",
       "      <td>NaN</td>\n",
       "      <td>NaN</td>\n",
       "      <td>NaN</td>\n",
       "      <td>NaN</td>\n",
       "    </tr>\n",
       "    <tr>\n",
       "      <th>1</th>\n",
       "      <td>L2R</td>\n",
       "      <td>0.550545</td>\n",
       "      <td>0.828488</td>\n",
       "      <td>0.486047</td>\n",
       "      <td>0.684375</td>\n",
       "      <td>24.0</td>\n",
       "      <td>14.0</td>\n",
       "      <td>0.017163</td>\n",
       "      <td>16.0</td>\n",
       "      <td>4.0</td>\n",
       "      <td>0.006937</td>\n",
       "      <td>18.0</td>\n",
       "      <td>8.0</td>\n",
       "      <td>0.019295</td>\n",
       "      <td>26.0</td>\n",
       "      <td>10.0</td>\n",
       "      <td>0.002906</td>\n",
       "    </tr>\n",
       "  </tbody>\n",
       "</table>\n",
       "</div>"
      ],
      "text/plain": [
       "   name       map  recip_rank      P@10   nDCG@10  map +  map -  map p-value  \\\n",
       "0  BM25  0.492925    0.684582  0.437209  0.586706    NaN    NaN          NaN   \n",
       "1   L2R  0.550545    0.828488  0.486047  0.684375   24.0   14.0     0.017163   \n",
       "\n",
       "   recip_rank +  recip_rank -  recip_rank p-value  P@10 +  P@10 -  \\\n",
       "0           NaN           NaN                 NaN     NaN     NaN   \n",
       "1          16.0           4.0            0.006937    18.0     8.0   \n",
       "\n",
       "   P@10 p-value  nDCG@10 +  nDCG@10 -  nDCG@10 p-value  \n",
       "0           NaN        NaN        NaN              NaN  \n",
       "1      0.019295       26.0       10.0         0.002906  "
      ]
     },
     "execution_count": 35,
     "metadata": {},
     "output_type": "execute_result"
    }
   ],
   "source": [
    "eval_results"
   ]
  }
 ],
 "metadata": {
  "colab": {
   "provenance": []
  },
  "kernelspec": {
   "display_name": "env",
   "language": "python",
   "name": "python3"
  },
  "language_info": {
   "codemirror_mode": {
    "name": "ipython",
    "version": 3
   },
   "file_extension": ".py",
   "mimetype": "text/x-python",
   "name": "python",
   "nbconvert_exporter": "python",
   "pygments_lexer": "ipython3",
   "version": "3.11.6"
  },
  "widgets": {
   "application/vnd.jupyter.widget-state+json": {
    "338dde68b9ad4068b54f534b5626ee6d": {
     "model_module": "@jupyter-widgets/controls",
     "model_module_version": "1.5.0",
     "model_name": "HTMLModel",
     "state": {
      "_dom_classes": [],
      "_model_module": "@jupyter-widgets/controls",
      "_model_module_version": "1.5.0",
      "_model_name": "HTMLModel",
      "_view_count": null,
      "_view_module": "@jupyter-widgets/controls",
      "_view_module_version": "1.5.0",
      "_view_name": "HTMLView",
      "description": "",
      "description_tooltip": null,
      "layout": "IPY_MODEL_83c76727d85a4be797cafa6110049b11",
      "placeholder": "​",
      "style": "IPY_MODEL_fb9f515250044e949e35fd1516948278",
      "value": " 6992/6992 [00:13&lt;00:00, 954.38documents/s]"
     }
    },
    "74c7396f78194ea8921b292ad2d88186": {
     "model_module": "@jupyter-widgets/base",
     "model_module_version": "1.2.0",
     "model_name": "LayoutModel",
     "state": {
      "_model_module": "@jupyter-widgets/base",
      "_model_module_version": "1.2.0",
      "_model_name": "LayoutModel",
      "_view_count": null,
      "_view_module": "@jupyter-widgets/base",
      "_view_module_version": "1.2.0",
      "_view_name": "LayoutView",
      "align_content": null,
      "align_items": null,
      "align_self": null,
      "border": null,
      "bottom": null,
      "display": null,
      "flex": null,
      "flex_flow": null,
      "grid_area": null,
      "grid_auto_columns": null,
      "grid_auto_flow": null,
      "grid_auto_rows": null,
      "grid_column": null,
      "grid_gap": null,
      "grid_row": null,
      "grid_template_areas": null,
      "grid_template_columns": null,
      "grid_template_rows": null,
      "height": null,
      "justify_content": null,
      "justify_items": null,
      "left": null,
      "margin": null,
      "max_height": null,
      "max_width": null,
      "min_height": null,
      "min_width": null,
      "object_fit": null,
      "object_position": null,
      "order": null,
      "overflow": null,
      "overflow_x": null,
      "overflow_y": null,
      "padding": null,
      "right": null,
      "top": null,
      "visibility": null,
      "width": null
     }
    },
    "83c76727d85a4be797cafa6110049b11": {
     "model_module": "@jupyter-widgets/base",
     "model_module_version": "1.2.0",
     "model_name": "LayoutModel",
     "state": {
      "_model_module": "@jupyter-widgets/base",
      "_model_module_version": "1.2.0",
      "_model_name": "LayoutModel",
      "_view_count": null,
      "_view_module": "@jupyter-widgets/base",
      "_view_module_version": "1.2.0",
      "_view_name": "LayoutView",
      "align_content": null,
      "align_items": null,
      "align_self": null,
      "border": null,
      "bottom": null,
      "display": null,
      "flex": null,
      "flex_flow": null,
      "grid_area": null,
      "grid_auto_columns": null,
      "grid_auto_flow": null,
      "grid_auto_rows": null,
      "grid_column": null,
      "grid_gap": null,
      "grid_row": null,
      "grid_template_areas": null,
      "grid_template_columns": null,
      "grid_template_rows": null,
      "height": null,
      "justify_content": null,
      "justify_items": null,
      "left": null,
      "margin": null,
      "max_height": null,
      "max_width": null,
      "min_height": null,
      "min_width": null,
      "object_fit": null,
      "object_position": null,
      "order": null,
      "overflow": null,
      "overflow_x": null,
      "overflow_y": null,
      "padding": null,
      "right": null,
      "top": null,
      "visibility": null,
      "width": null
     }
    },
    "84f22e25f6554853a19e104e453ed140": {
     "model_module": "@jupyter-widgets/base",
     "model_module_version": "1.2.0",
     "model_name": "LayoutModel",
     "state": {
      "_model_module": "@jupyter-widgets/base",
      "_model_module_version": "1.2.0",
      "_model_name": "LayoutModel",
      "_view_count": null,
      "_view_module": "@jupyter-widgets/base",
      "_view_module_version": "1.2.0",
      "_view_name": "LayoutView",
      "align_content": null,
      "align_items": null,
      "align_self": null,
      "border": null,
      "bottom": null,
      "display": null,
      "flex": null,
      "flex_flow": null,
      "grid_area": null,
      "grid_auto_columns": null,
      "grid_auto_flow": null,
      "grid_auto_rows": null,
      "grid_column": null,
      "grid_gap": null,
      "grid_row": null,
      "grid_template_areas": null,
      "grid_template_columns": null,
      "grid_template_rows": null,
      "height": null,
      "justify_content": null,
      "justify_items": null,
      "left": null,
      "margin": null,
      "max_height": null,
      "max_width": null,
      "min_height": null,
      "min_width": null,
      "object_fit": null,
      "object_position": null,
      "order": null,
      "overflow": null,
      "overflow_x": null,
      "overflow_y": null,
      "padding": null,
      "right": null,
      "top": null,
      "visibility": null,
      "width": null
     }
    },
    "9b57b5f4a21040589e61db149fd8a8f7": {
     "model_module": "@jupyter-widgets/controls",
     "model_module_version": "1.5.0",
     "model_name": "FloatProgressModel",
     "state": {
      "_dom_classes": [],
      "_model_module": "@jupyter-widgets/controls",
      "_model_module_version": "1.5.0",
      "_model_name": "FloatProgressModel",
      "_view_count": null,
      "_view_module": "@jupyter-widgets/controls",
      "_view_module_version": "1.5.0",
      "_view_name": "ProgressView",
      "bar_style": "success",
      "description": "",
      "description_tooltip": null,
      "layout": "IPY_MODEL_74c7396f78194ea8921b292ad2d88186",
      "max": 6992,
      "min": 0,
      "orientation": "horizontal",
      "style": "IPY_MODEL_dda130680f6f4904be2205dcb331b229",
      "value": 6992
     }
    },
    "a011baa42e5949f8a95614e673fc0db3": {
     "model_module": "@jupyter-widgets/controls",
     "model_module_version": "1.5.0",
     "model_name": "DescriptionStyleModel",
     "state": {
      "_model_module": "@jupyter-widgets/controls",
      "_model_module_version": "1.5.0",
      "_model_name": "DescriptionStyleModel",
      "_view_count": null,
      "_view_module": "@jupyter-widgets/base",
      "_view_module_version": "1.2.0",
      "_view_name": "StyleView",
      "description_width": ""
     }
    },
    "bfa1c7b1b51d45d5a5bcff9ccb017dc1": {
     "model_module": "@jupyter-widgets/controls",
     "model_module_version": "1.5.0",
     "model_name": "HBoxModel",
     "state": {
      "_dom_classes": [],
      "_model_module": "@jupyter-widgets/controls",
      "_model_module_version": "1.5.0",
      "_model_name": "HBoxModel",
      "_view_count": null,
      "_view_module": "@jupyter-widgets/controls",
      "_view_module_version": "1.5.0",
      "_view_name": "HBoxView",
      "box_style": "",
      "children": [
       "IPY_MODEL_f199d247a1f04bbb8ada7f055f20923d",
       "IPY_MODEL_9b57b5f4a21040589e61db149fd8a8f7",
       "IPY_MODEL_338dde68b9ad4068b54f534b5626ee6d"
      ],
      "layout": "IPY_MODEL_84f22e25f6554853a19e104e453ed140"
     }
    },
    "dda130680f6f4904be2205dcb331b229": {
     "model_module": "@jupyter-widgets/controls",
     "model_module_version": "1.5.0",
     "model_name": "ProgressStyleModel",
     "state": {
      "_model_module": "@jupyter-widgets/controls",
      "_model_module_version": "1.5.0",
      "_model_name": "ProgressStyleModel",
      "_view_count": null,
      "_view_module": "@jupyter-widgets/base",
      "_view_module_version": "1.2.0",
      "_view_name": "StyleView",
      "bar_color": null,
      "description_width": ""
     }
    },
    "dffaf160896145f0bde4be6c899fa516": {
     "model_module": "@jupyter-widgets/base",
     "model_module_version": "1.2.0",
     "model_name": "LayoutModel",
     "state": {
      "_model_module": "@jupyter-widgets/base",
      "_model_module_version": "1.2.0",
      "_model_name": "LayoutModel",
      "_view_count": null,
      "_view_module": "@jupyter-widgets/base",
      "_view_module_version": "1.2.0",
      "_view_name": "LayoutView",
      "align_content": null,
      "align_items": null,
      "align_self": null,
      "border": null,
      "bottom": null,
      "display": null,
      "flex": null,
      "flex_flow": null,
      "grid_area": null,
      "grid_auto_columns": null,
      "grid_auto_flow": null,
      "grid_auto_rows": null,
      "grid_column": null,
      "grid_gap": null,
      "grid_row": null,
      "grid_template_areas": null,
      "grid_template_columns": null,
      "grid_template_rows": null,
      "height": null,
      "justify_content": null,
      "justify_items": null,
      "left": null,
      "margin": null,
      "max_height": null,
      "max_width": null,
      "min_height": null,
      "min_width": null,
      "object_fit": null,
      "object_position": null,
      "order": null,
      "overflow": null,
      "overflow_x": null,
      "overflow_y": null,
      "padding": null,
      "right": null,
      "top": null,
      "visibility": null,
      "width": null
     }
    },
    "f199d247a1f04bbb8ada7f055f20923d": {
     "model_module": "@jupyter-widgets/controls",
     "model_module_version": "1.5.0",
     "model_name": "HTMLModel",
     "state": {
      "_dom_classes": [],
      "_model_module": "@jupyter-widgets/controls",
      "_model_module_version": "1.5.0",
      "_model_name": "HTMLModel",
      "_view_count": null,
      "_view_module": "@jupyter-widgets/controls",
      "_view_module_version": "1.5.0",
      "_view_name": "HTMLView",
      "description": "",
      "description_tooltip": null,
      "layout": "IPY_MODEL_dffaf160896145f0bde4be6c899fa516",
      "placeholder": "​",
      "style": "IPY_MODEL_a011baa42e5949f8a95614e673fc0db3",
      "value": "100%"
     }
    },
    "fb9f515250044e949e35fd1516948278": {
     "model_module": "@jupyter-widgets/controls",
     "model_module_version": "1.5.0",
     "model_name": "DescriptionStyleModel",
     "state": {
      "_model_module": "@jupyter-widgets/controls",
      "_model_module_version": "1.5.0",
      "_model_name": "DescriptionStyleModel",
      "_view_count": null,
      "_view_module": "@jupyter-widgets/base",
      "_view_module_version": "1.2.0",
      "_view_name": "StyleView",
      "description_width": ""
     }
    }
   }
  }
 },
 "nbformat": 4,
 "nbformat_minor": 0
}
